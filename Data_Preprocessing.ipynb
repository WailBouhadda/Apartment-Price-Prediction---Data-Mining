{
 "cells": [
  {
   "cell_type": "code",
   "execution_count": 1,
   "id": "d4f3f067",
   "metadata": {},
   "outputs": [],
   "source": [
    "import pandas as pd"
   ]
  },
  {
   "cell_type": "markdown",
   "id": "146a5cd2",
   "metadata": {},
   "source": [
    "# 1 - Load Data"
   ]
  },
  {
   "cell_type": "code",
   "execution_count": 2,
   "id": "701160a7",
   "metadata": {},
   "outputs": [],
   "source": [
    "df = pd.read_csv(\"Appartements.csv\")"
   ]
  },
  {
   "cell_type": "code",
   "execution_count": 3,
   "id": "64a0415a",
   "metadata": {},
   "outputs": [
    {
     "data": {
      "text/html": [
       "<div>\n",
       "<style scoped>\n",
       "    .dataframe tbody tr th:only-of-type {\n",
       "        vertical-align: middle;\n",
       "    }\n",
       "\n",
       "    .dataframe tbody tr th {\n",
       "        vertical-align: top;\n",
       "    }\n",
       "\n",
       "    .dataframe thead th {\n",
       "        text-align: right;\n",
       "    }\n",
       "</style>\n",
       "<table border=\"1\" class=\"dataframe\">\n",
       "  <thead>\n",
       "    <tr style=\"text-align: right;\">\n",
       "      <th></th>\n",
       "      <th>Titre</th>\n",
       "      <th>Prix</th>\n",
       "      <th>Ville</th>\n",
       "      <th>Type</th>\n",
       "      <th>Secteur</th>\n",
       "      <th>Etage</th>\n",
       "      <th>Age du bien</th>\n",
       "      <th>Surface habitable</th>\n",
       "      <th>NB Salons</th>\n",
       "      <th>NB Chambres</th>\n",
       "      <th>NB Salles de Bain</th>\n",
       "      <th>Frais de syndic / mois</th>\n",
       "      <th>Description</th>\n",
       "    </tr>\n",
       "  </thead>\n",
       "  <tbody>\n",
       "    <tr>\n",
       "      <th>0</th>\n",
       "      <td>Appartement 165m² narjiss à El Jadida</td>\n",
       "      <td>1 160 000 DH</td>\n",
       "      <td>El Jadida</td>\n",
       "      <td>Appartements, à vendre</td>\n",
       "      <td>Narjiss</td>\n",
       "      <td>1</td>\n",
       "      <td>NaN</td>\n",
       "      <td>229</td>\n",
       "      <td>3</td>\n",
       "      <td>6</td>\n",
       "      <td>2</td>\n",
       "      <td>NaN</td>\n",
       "      <td>un appart 115m2 et garçonnière 50m2 à vendre\\n...</td>\n",
       "    </tr>\n",
       "    <tr>\n",
       "      <th>1</th>\n",
       "      <td>Appartement à vendre 62 m² à El Jadida</td>\n",
       "      <td>360 000 DH</td>\n",
       "      <td>El Jadida</td>\n",
       "      <td>Appartements, à vendre</td>\n",
       "      <td>Autre secteur</td>\n",
       "      <td>2</td>\n",
       "      <td>6-10 ans</td>\n",
       "      <td>62</td>\n",
       "      <td>1</td>\n",
       "      <td>2</td>\n",
       "      <td>1</td>\n",
       "      <td>NaN</td>\n",
       "      <td>un appart 62m2 à vendre\\nappart au quartier hi...</td>\n",
       "    </tr>\n",
       "    <tr>\n",
       "      <th>2</th>\n",
       "      <td>Appartement hay essalam 92 m² à El Jadida</td>\n",
       "      <td>750 000 DH</td>\n",
       "      <td>El Jadida</td>\n",
       "      <td>Appartements, à vendre</td>\n",
       "      <td>Hay Essalam</td>\n",
       "      <td>2</td>\n",
       "      <td>6-10 ans</td>\n",
       "      <td>92</td>\n",
       "      <td>1</td>\n",
       "      <td>3</td>\n",
       "      <td>1</td>\n",
       "      <td>NaN</td>\n",
       "      <td>un appart 92m2 à vendre\\nappart au quartier sa...</td>\n",
       "    </tr>\n",
       "    <tr>\n",
       "      <th>3</th>\n",
       "      <td>Appartement 110m² 2ème étg. résd. fermée Corniche</td>\n",
       "      <td>2 100 000 DH</td>\n",
       "      <td>Casablanca</td>\n",
       "      <td>Appartements, à vendre</td>\n",
       "      <td>Bourgogne</td>\n",
       "      <td>2</td>\n",
       "      <td>1-5 ans</td>\n",
       "      <td>136</td>\n",
       "      <td>1</td>\n",
       "      <td>2</td>\n",
       "      <td>2</td>\n",
       "      <td>500.0</td>\n",
       "      <td>Appartement moderne 110m² au 2ème étg. en rési...</td>\n",
       "    </tr>\n",
       "    <tr>\n",
       "      <th>4</th>\n",
       "      <td>app a vendre</td>\n",
       "      <td>7 400 000 DH</td>\n",
       "      <td>El Mansouria</td>\n",
       "      <td>Appartements, à vendre</td>\n",
       "      <td>Toute la ville</td>\n",
       "      <td>2</td>\n",
       "      <td>Neuf</td>\n",
       "      <td>60</td>\n",
       "      <td>1</td>\n",
       "      <td>1</td>\n",
       "      <td>1</td>\n",
       "      <td>450.0</td>\n",
       "      <td>vendre un belle appartement vie sur piscine et...</td>\n",
       "    </tr>\n",
       "    <tr>\n",
       "      <th>...</th>\n",
       "      <td>...</td>\n",
       "      <td>...</td>\n",
       "      <td>...</td>\n",
       "      <td>...</td>\n",
       "      <td>...</td>\n",
       "      <td>...</td>\n",
       "      <td>...</td>\n",
       "      <td>...</td>\n",
       "      <td>...</td>\n",
       "      <td>...</td>\n",
       "      <td>...</td>\n",
       "      <td>...</td>\n",
       "      <td>...</td>\n",
       "    </tr>\n",
       "    <tr>\n",
       "      <th>33316</th>\n",
       "      <td>Appartement 75m² en Vente à Larache</td>\n",
       "      <td>360 000 DH</td>\n",
       "      <td>Larache</td>\n",
       "      <td>Appartements, à vendre</td>\n",
       "      <td>Toute la ville</td>\n",
       "      <td>1</td>\n",
       "      <td>1-5 ans</td>\n",
       "      <td>75</td>\n",
       "      <td>1</td>\n",
       "      <td>2</td>\n",
       "      <td>1</td>\n",
       "      <td>180.0</td>\n",
       "      <td>Appartement en vente\\n\\nPrix 36 malion</td>\n",
       "    </tr>\n",
       "    <tr>\n",
       "      <th>33317</th>\n",
       "      <td>Appartement en Vente à Farah Agadir</td>\n",
       "      <td>350 000 DH</td>\n",
       "      <td>Agadir</td>\n",
       "      <td>Appartements, à vendre</td>\n",
       "      <td>Hay Al Farah</td>\n",
       "      <td>1</td>\n",
       "      <td>NaN</td>\n",
       "      <td>58</td>\n",
       "      <td>1</td>\n",
       "      <td>2</td>\n",
       "      <td>1</td>\n",
       "      <td>NaN</td>\n",
       "      <td>SERVICE CHERKI met en vente un appartement d'u...</td>\n",
       "    </tr>\n",
       "    <tr>\n",
       "      <th>33318</th>\n",
       "      <td>garçonnière</td>\n",
       "      <td>180 000 DH</td>\n",
       "      <td>Casablanca</td>\n",
       "      <td>Appartements, à vendre</td>\n",
       "      <td>Ben M'sick</td>\n",
       "      <td>4</td>\n",
       "      <td>NaN</td>\n",
       "      <td>NaN</td>\n",
       "      <td>1</td>\n",
       "      <td>1</td>\n",
       "      <td>1</td>\n",
       "      <td>NaN</td>\n",
       "      <td>garçonnière au quatrième étage. tetri</td>\n",
       "    </tr>\n",
       "    <tr>\n",
       "      <th>33319</th>\n",
       "      <td>شقة مجهزة</td>\n",
       "      <td>125 000 DH</td>\n",
       "      <td>Agadir</td>\n",
       "      <td>Appartements, à vendre</td>\n",
       "      <td>Hay Salam</td>\n",
       "      <td>1</td>\n",
       "      <td>6-10 ans</td>\n",
       "      <td>122</td>\n",
       "      <td>1</td>\n",
       "      <td>3</td>\n",
       "      <td>2</td>\n",
       "      <td>1.0</td>\n",
       "      <td>شقة مجهزة للبيع حي السلام بالقرب من جميع المرا...</td>\n",
       "    </tr>\n",
       "    <tr>\n",
       "      <th>33320</th>\n",
       "      <td>شقة جديدة في سهب الورد فاس في حي الطلبة .</td>\n",
       "      <td>159 000 DH</td>\n",
       "      <td>Fès</td>\n",
       "      <td>Appartements, à vendre</td>\n",
       "      <td>Sehb El Ward</td>\n",
       "      <td>4</td>\n",
       "      <td>Neuf</td>\n",
       "      <td>71</td>\n",
       "      <td>1</td>\n",
       "      <td>2</td>\n",
       "      <td>1</td>\n",
       "      <td>71.0</td>\n",
       "      <td>شقة جديدة في سهب الورد فاس في حي الطلبة .\\nالم...</td>\n",
       "    </tr>\n",
       "  </tbody>\n",
       "</table>\n",
       "<p>33321 rows × 13 columns</p>\n",
       "</div>"
      ],
      "text/plain": [
       "                                                   Titre          Prix  \\\n",
       "0                  Appartement 165m² narjiss à El Jadida  1 160 000 DH   \n",
       "1                 Appartement à vendre 62 m² à El Jadida    360 000 DH   \n",
       "2              Appartement hay essalam 92 m² à El Jadida    750 000 DH   \n",
       "3      Appartement 110m² 2ème étg. résd. fermée Corniche  2 100 000 DH   \n",
       "4                                           app a vendre  7 400 000 DH   \n",
       "...                                                  ...           ...   \n",
       "33316                Appartement 75m² en Vente à Larache    360 000 DH   \n",
       "33317                Appartement en Vente à Farah Agadir    350 000 DH   \n",
       "33318                                        garçonnière    180 000 DH   \n",
       "33319                                          شقة مجهزة    125 000 DH   \n",
       "33320          شقة جديدة في سهب الورد فاس في حي الطلبة .    159 000 DH   \n",
       "\n",
       "              Ville                    Type         Secteur Etage Age du bien  \\\n",
       "0         El Jadida  Appartements, à vendre         Narjiss     1         NaN   \n",
       "1         El Jadida  Appartements, à vendre   Autre secteur     2    6-10 ans   \n",
       "2         El Jadida  Appartements, à vendre     Hay Essalam     2    6-10 ans   \n",
       "3        Casablanca  Appartements, à vendre       Bourgogne     2     1-5 ans   \n",
       "4      El Mansouria  Appartements, à vendre  Toute la ville     2        Neuf   \n",
       "...             ...                     ...             ...   ...         ...   \n",
       "33316       Larache  Appartements, à vendre  Toute la ville     1     1-5 ans   \n",
       "33317        Agadir  Appartements, à vendre    Hay Al Farah     1         NaN   \n",
       "33318    Casablanca  Appartements, à vendre      Ben M'sick     4         NaN   \n",
       "33319        Agadir  Appartements, à vendre       Hay Salam     1    6-10 ans   \n",
       "33320           Fès  Appartements, à vendre    Sehb El Ward     4        Neuf   \n",
       "\n",
       "      Surface habitable NB Salons NB Chambres NB Salles de Bain  \\\n",
       "0                   229         3           6                 2   \n",
       "1                    62         1           2                 1   \n",
       "2                    92         1           3                 1   \n",
       "3                   136         1           2                 2   \n",
       "4                    60         1           1                 1   \n",
       "...                 ...       ...         ...               ...   \n",
       "33316                75         1           2                 1   \n",
       "33317                58         1           2                 1   \n",
       "33318               NaN         1           1                 1   \n",
       "33319               122         1           3                 2   \n",
       "33320                71         1           2                 1   \n",
       "\n",
       "       Frais de syndic / mois  \\\n",
       "0                         NaN   \n",
       "1                         NaN   \n",
       "2                         NaN   \n",
       "3                       500.0   \n",
       "4                       450.0   \n",
       "...                       ...   \n",
       "33316                   180.0   \n",
       "33317                     NaN   \n",
       "33318                     NaN   \n",
       "33319                     1.0   \n",
       "33320                    71.0   \n",
       "\n",
       "                                             Description  \n",
       "0      un appart 115m2 et garçonnière 50m2 à vendre\\n...  \n",
       "1      un appart 62m2 à vendre\\nappart au quartier hi...  \n",
       "2      un appart 92m2 à vendre\\nappart au quartier sa...  \n",
       "3      Appartement moderne 110m² au 2ème étg. en rési...  \n",
       "4      vendre un belle appartement vie sur piscine et...  \n",
       "...                                                  ...  \n",
       "33316             Appartement en vente\\n\\nPrix 36 malion  \n",
       "33317  SERVICE CHERKI met en vente un appartement d'u...  \n",
       "33318              garçonnière au quatrième étage. tetri  \n",
       "33319  شقة مجهزة للبيع حي السلام بالقرب من جميع المرا...  \n",
       "33320  شقة جديدة في سهب الورد فاس في حي الطلبة .\\nالم...  \n",
       "\n",
       "[33321 rows x 13 columns]"
      ]
     },
     "execution_count": 3,
     "metadata": {},
     "output_type": "execute_result"
    }
   ],
   "source": [
    "df"
   ]
  },
  {
   "cell_type": "code",
   "execution_count": 4,
   "id": "86f6749e",
   "metadata": {},
   "outputs": [
    {
     "data": {
      "text/plain": [
       "Titre                      object\n",
       "Prix                       object\n",
       "Ville                      object\n",
       "Type                       object\n",
       "Secteur                    object\n",
       "Etage                      object\n",
       "Age du bien                object\n",
       "Surface habitable          object\n",
       "NB Salons                  object\n",
       "NB Chambres                object\n",
       "NB Salles de Bain          object\n",
       "Frais de syndic / mois    float64\n",
       "Description                object\n",
       "dtype: object"
      ]
     },
     "execution_count": 4,
     "metadata": {},
     "output_type": "execute_result"
    }
   ],
   "source": [
    "df.dtypes"
   ]
  },
  {
   "cell_type": "markdown",
   "id": "3b8258eb",
   "metadata": {},
   "source": [
    "### Duplicates"
   ]
  },
  {
   "cell_type": "code",
   "execution_count": 5,
   "id": "1cce9e50",
   "metadata": {},
   "outputs": [
    {
     "data": {
      "text/plain": [
       "1814"
      ]
     },
     "execution_count": 5,
     "metadata": {},
     "output_type": "execute_result"
    }
   ],
   "source": [
    "df.duplicated().sum()"
   ]
  },
  {
   "cell_type": "code",
   "execution_count": 6,
   "id": "f8a2ce08",
   "metadata": {},
   "outputs": [],
   "source": [
    "df.drop_duplicates(inplace = True)"
   ]
  },
  {
   "cell_type": "markdown",
   "id": "2e096b36",
   "metadata": {},
   "source": [
    "### Null rows"
   ]
  },
  {
   "cell_type": "code",
   "execution_count": 7,
   "id": "58c26f3e",
   "metadata": {},
   "outputs": [
    {
     "data": {
      "text/plain": [
       "Titre                         1\n",
       "Prix                          1\n",
       "Ville                         4\n",
       "Type                          1\n",
       "Secteur                     355\n",
       "Etage                       615\n",
       "Age du bien                6686\n",
       "Surface habitable           618\n",
       "NB Salons                  1264\n",
       "NB Chambres                 383\n",
       "NB Salles de Bain          1237\n",
       "Frais de syndic / mois    19452\n",
       "Description                   3\n",
       "dtype: int64"
      ]
     },
     "execution_count": 7,
     "metadata": {},
     "output_type": "execute_result"
    }
   ],
   "source": [
    "df.isnull().sum()"
   ]
  },
  {
   "cell_type": "code",
   "execution_count": 8,
   "id": "6aa457ae",
   "metadata": {},
   "outputs": [
    {
     "data": {
      "text/plain": [
       "30620"
      ]
     },
     "execution_count": 8,
     "metadata": {},
     "output_type": "execute_result"
    }
   ],
   "source": [
    "df.isnull().sum().sum()"
   ]
  },
  {
   "cell_type": "code",
   "execution_count": null,
   "id": "d252d443",
   "metadata": {},
   "outputs": [],
   "source": []
  },
  {
   "cell_type": "code",
   "execution_count": 9,
   "id": "3343f701",
   "metadata": {},
   "outputs": [
    {
     "data": {
      "text/plain": [
       "<Axes: >"
      ]
     },
     "execution_count": 9,
     "metadata": {},
     "output_type": "execute_result"
    },
    {
     "data": {
      "image/png": "[encoded data removed]",
      "text/plain": [
       "<Figure size 2500x1000 with 3 Axes>"
      ]
     },
     "metadata": {},
     "output_type": "display_data"
    }
   ],
   "source": [
    "import missingno as msno\n",
    "msno.bar(df)"
   ]
  },
  {
   "cell_type": "markdown",
   "id": "1560ac83",
   "metadata": {},
   "source": [
    "### Drope ( Frais de syndic / mois  -  Age du bien  -  Type  -  Titre  -  Description) Columns"
   ]
  },
  {
   "cell_type": "code",
   "execution_count": 10,
   "id": "8ad8340d",
   "metadata": {},
   "outputs": [],
   "source": [
    "df = df.drop(\"Frais de syndic / mois\", axis='columns')"
   ]
  },
  {
   "cell_type": "code",
   "execution_count": 11,
   "id": "9925ac24",
   "metadata": {},
   "outputs": [],
   "source": [
    "df = df.drop(\"Age du bien\", axis='columns')"
   ]
  },
  {
   "cell_type": "code",
   "execution_count": 12,
   "id": "dcbe7446",
   "metadata": {},
   "outputs": [],
   "source": [
    "df = df.drop(\"Type\", axis='columns')"
   ]
  },
  {
   "cell_type": "code",
   "execution_count": 13,
   "id": "68a5ce93",
   "metadata": {},
   "outputs": [],
   "source": [
    "df = df.drop(\"Titre\", axis='columns')"
   ]
  },
  {
   "cell_type": "code",
   "execution_count": 14,
   "id": "b1e78542",
   "metadata": {},
   "outputs": [],
   "source": [
    "df = df.drop(\"Description\", axis='columns')"
   ]
  },
  {
   "cell_type": "markdown",
   "id": "fa752c0d",
   "metadata": {},
   "source": [
    "### Remove rows with 'Secteur', 'Etage', 'Surface habitable', 'NB Salons', 'NB Chambres', 'NB Salles de Bain' Null"
   ]
  },
  {
   "cell_type": "code",
   "execution_count": 15,
   "id": "c06448c1",
   "metadata": {},
   "outputs": [],
   "source": [
    "columns_to_check = ['Secteur', 'Etage', 'Surface habitable', 'NB Salons', 'NB Chambres', 'NB Salles de Bain']\n",
    "df.dropna(subset=columns_to_check, how='all', inplace=True)"
   ]
  },
  {
   "cell_type": "code",
   "execution_count": 16,
   "id": "6d13aad0",
   "metadata": {},
   "outputs": [
    {
     "data": {
      "text/html": [
       "<div>\n",
       "<style scoped>\n",
       "    .dataframe tbody tr th:only-of-type {\n",
       "        vertical-align: middle;\n",
       "    }\n",
       "\n",
       "    .dataframe tbody tr th {\n",
       "        vertical-align: top;\n",
       "    }\n",
       "\n",
       "    .dataframe thead th {\n",
       "        text-align: right;\n",
       "    }\n",
       "</style>\n",
       "<table border=\"1\" class=\"dataframe\">\n",
       "  <thead>\n",
       "    <tr style=\"text-align: right;\">\n",
       "      <th></th>\n",
       "      <th>Prix</th>\n",
       "      <th>Ville</th>\n",
       "      <th>Secteur</th>\n",
       "      <th>Etage</th>\n",
       "      <th>Surface habitable</th>\n",
       "      <th>NB Salons</th>\n",
       "      <th>NB Chambres</th>\n",
       "      <th>NB Salles de Bain</th>\n",
       "    </tr>\n",
       "  </thead>\n",
       "  <tbody>\n",
       "    <tr>\n",
       "      <th>0</th>\n",
       "      <td>1 160 000 DH</td>\n",
       "      <td>El Jadida</td>\n",
       "      <td>Narjiss</td>\n",
       "      <td>1</td>\n",
       "      <td>229</td>\n",
       "      <td>3</td>\n",
       "      <td>6</td>\n",
       "      <td>2</td>\n",
       "    </tr>\n",
       "    <tr>\n",
       "      <th>1</th>\n",
       "      <td>360 000 DH</td>\n",
       "      <td>El Jadida</td>\n",
       "      <td>Autre secteur</td>\n",
       "      <td>2</td>\n",
       "      <td>62</td>\n",
       "      <td>1</td>\n",
       "      <td>2</td>\n",
       "      <td>1</td>\n",
       "    </tr>\n",
       "    <tr>\n",
       "      <th>2</th>\n",
       "      <td>750 000 DH</td>\n",
       "      <td>El Jadida</td>\n",
       "      <td>Hay Essalam</td>\n",
       "      <td>2</td>\n",
       "      <td>92</td>\n",
       "      <td>1</td>\n",
       "      <td>3</td>\n",
       "      <td>1</td>\n",
       "    </tr>\n",
       "    <tr>\n",
       "      <th>3</th>\n",
       "      <td>2 100 000 DH</td>\n",
       "      <td>Casablanca</td>\n",
       "      <td>Bourgogne</td>\n",
       "      <td>2</td>\n",
       "      <td>136</td>\n",
       "      <td>1</td>\n",
       "      <td>2</td>\n",
       "      <td>2</td>\n",
       "    </tr>\n",
       "    <tr>\n",
       "      <th>4</th>\n",
       "      <td>7 400 000 DH</td>\n",
       "      <td>El Mansouria</td>\n",
       "      <td>Toute la ville</td>\n",
       "      <td>2</td>\n",
       "      <td>60</td>\n",
       "      <td>1</td>\n",
       "      <td>1</td>\n",
       "      <td>1</td>\n",
       "    </tr>\n",
       "    <tr>\n",
       "      <th>...</th>\n",
       "      <td>...</td>\n",
       "      <td>...</td>\n",
       "      <td>...</td>\n",
       "      <td>...</td>\n",
       "      <td>...</td>\n",
       "      <td>...</td>\n",
       "      <td>...</td>\n",
       "      <td>...</td>\n",
       "    </tr>\n",
       "    <tr>\n",
       "      <th>33316</th>\n",
       "      <td>360 000 DH</td>\n",
       "      <td>Larache</td>\n",
       "      <td>Toute la ville</td>\n",
       "      <td>1</td>\n",
       "      <td>75</td>\n",
       "      <td>1</td>\n",
       "      <td>2</td>\n",
       "      <td>1</td>\n",
       "    </tr>\n",
       "    <tr>\n",
       "      <th>33317</th>\n",
       "      <td>350 000 DH</td>\n",
       "      <td>Agadir</td>\n",
       "      <td>Hay Al Farah</td>\n",
       "      <td>1</td>\n",
       "      <td>58</td>\n",
       "      <td>1</td>\n",
       "      <td>2</td>\n",
       "      <td>1</td>\n",
       "    </tr>\n",
       "    <tr>\n",
       "      <th>33318</th>\n",
       "      <td>180 000 DH</td>\n",
       "      <td>Casablanca</td>\n",
       "      <td>Ben M'sick</td>\n",
       "      <td>4</td>\n",
       "      <td>NaN</td>\n",
       "      <td>1</td>\n",
       "      <td>1</td>\n",
       "      <td>1</td>\n",
       "    </tr>\n",
       "    <tr>\n",
       "      <th>33319</th>\n",
       "      <td>125 000 DH</td>\n",
       "      <td>Agadir</td>\n",
       "      <td>Hay Salam</td>\n",
       "      <td>1</td>\n",
       "      <td>122</td>\n",
       "      <td>1</td>\n",
       "      <td>3</td>\n",
       "      <td>2</td>\n",
       "    </tr>\n",
       "    <tr>\n",
       "      <th>33320</th>\n",
       "      <td>159 000 DH</td>\n",
       "      <td>Fès</td>\n",
       "      <td>Sehb El Ward</td>\n",
       "      <td>4</td>\n",
       "      <td>71</td>\n",
       "      <td>1</td>\n",
       "      <td>2</td>\n",
       "      <td>1</td>\n",
       "    </tr>\n",
       "  </tbody>\n",
       "</table>\n",
       "<p>31495 rows × 8 columns</p>\n",
       "</div>"
      ],
      "text/plain": [
       "               Prix         Ville         Secteur Etage Surface habitable  \\\n",
       "0      1 160 000 DH     El Jadida         Narjiss     1               229   \n",
       "1        360 000 DH     El Jadida   Autre secteur     2                62   \n",
       "2        750 000 DH     El Jadida     Hay Essalam     2                92   \n",
       "3      2 100 000 DH    Casablanca       Bourgogne     2               136   \n",
       "4      7 400 000 DH  El Mansouria  Toute la ville     2                60   \n",
       "...             ...           ...             ...   ...               ...   \n",
       "33316    360 000 DH       Larache  Toute la ville     1                75   \n",
       "33317    350 000 DH        Agadir    Hay Al Farah     1                58   \n",
       "33318    180 000 DH    Casablanca      Ben M'sick     4               NaN   \n",
       "33319    125 000 DH        Agadir       Hay Salam     1               122   \n",
       "33320    159 000 DH           Fès    Sehb El Ward     4                71   \n",
       "\n",
       "      NB Salons NB Chambres NB Salles de Bain  \n",
       "0             3           6                 2  \n",
       "1             1           2                 1  \n",
       "2             1           3                 1  \n",
       "3             1           2                 2  \n",
       "4             1           1                 1  \n",
       "...         ...         ...               ...  \n",
       "33316         1           2                 1  \n",
       "33317         1           2                 1  \n",
       "33318         1           1                 1  \n",
       "33319         1           3                 2  \n",
       "33320         1           2                 1  \n",
       "\n",
       "[31495 rows x 8 columns]"
      ]
     },
     "execution_count": 16,
     "metadata": {},
     "output_type": "execute_result"
    }
   ],
   "source": [
    "df"
   ]
  },
  {
   "cell_type": "code",
   "execution_count": 17,
   "id": "b55fddf6",
   "metadata": {},
   "outputs": [
    {
     "data": {
      "text/plain": [
       "Prix                    0\n",
       "Ville                   3\n",
       "Secteur               343\n",
       "Etage                 603\n",
       "Surface habitable     606\n",
       "NB Salons            1252\n",
       "NB Chambres           371\n",
       "NB Salles de Bain    1225\n",
       "dtype: int64"
      ]
     },
     "execution_count": 17,
     "metadata": {},
     "output_type": "execute_result"
    }
   ],
   "source": [
    "df.isnull().sum()"
   ]
  },
  {
   "cell_type": "markdown",
   "id": "7206a514",
   "metadata": {},
   "source": [
    "## 1 - Prix"
   ]
  },
  {
   "cell_type": "code",
   "execution_count": 18,
   "id": "d47887c1",
   "metadata": {},
   "outputs": [
    {
     "data": {
      "text/plain": [
       "0"
      ]
     },
     "execution_count": 18,
     "metadata": {},
     "output_type": "execute_result"
    }
   ],
   "source": [
    "df['Prix'].isnull().sum()"
   ]
  },
  {
   "cell_type": "code",
   "execution_count": 19,
   "id": "99c87026",
   "metadata": {},
   "outputs": [
    {
     "data": {
      "text/plain": [
       "7087"
      ]
     },
     "execution_count": 19,
     "metadata": {},
     "output_type": "execute_result"
    }
   ],
   "source": [
    "len(df[df['Prix'] == 'PRIX NON SPÉCIFIÉ'])"
   ]
  },
  {
   "cell_type": "markdown",
   "id": "e5409b48",
   "metadata": {},
   "source": [
    "#### Drop all rows with Prix == PRIX NON SPÉCIFIÉ"
   ]
  },
  {
   "cell_type": "code",
   "execution_count": 20,
   "id": "9ffc0fa5",
   "metadata": {},
   "outputs": [
    {
     "data": {
      "text/plain": [
       "0"
      ]
     },
     "execution_count": 20,
     "metadata": {},
     "output_type": "execute_result"
    }
   ],
   "source": [
    "df = df[df['Prix'] != 'PRIX NON SPÉCIFIÉ']\n",
    "len(df[df['Prix'] == 'PRIX NON SPÉCIFIÉ'])"
   ]
  },
  {
   "cell_type": "markdown",
   "id": "98f007bb",
   "metadata": {},
   "source": [
    "#### Convert Prix to int"
   ]
  },
  {
   "cell_type": "code",
   "execution_count": 21,
   "id": "3ef44cb5",
   "metadata": {},
   "outputs": [
    {
     "name": "stderr",
     "output_type": "stream",
     "text": [
      "C:\\Users\\wailb\\AppData\\Local\\Temp\\ipykernel_10360\\853350707.py:1: SettingWithCopyWarning: \n",
      "A value is trying to be set on a copy of a slice from a DataFrame.\n",
      "Try using .loc[row_indexer,col_indexer] = value instead\n",
      "\n",
      "See the caveats in the documentation: https://pandas.pydata.org/pandas-docs/stable/user_guide/indexing.html#returning-a-view-versus-a-copy\n",
      "  df['Prix'] = df['Prix'].str.replace(' DH', '').str.replace(' ', '').str.replace(' ', '').astype(int)\n"
     ]
    }
   ],
   "source": [
    "df['Prix'] = df['Prix'].str.replace(' DH', '').str.replace(' ', '').str.replace(' ', '').astype(int)"
   ]
  },
  {
   "cell_type": "code",
   "execution_count": null,
   "id": "c804b79c",
   "metadata": {},
   "outputs": [],
   "source": []
  },
  {
   "cell_type": "markdown",
   "id": "0941f8e0",
   "metadata": {},
   "source": [
    "## 2 - Ville"
   ]
  },
  {
   "cell_type": "code",
   "execution_count": 22,
   "id": "df709958",
   "metadata": {},
   "outputs": [
    {
     "data": {
      "text/plain": [
       "2"
      ]
     },
     "execution_count": 22,
     "metadata": {},
     "output_type": "execute_result"
    }
   ],
   "source": [
    "df['Ville'].isnull().sum()"
   ]
  },
  {
   "cell_type": "code",
   "execution_count": 23,
   "id": "5aa3ad10",
   "metadata": {},
   "outputs": [
    {
     "name": "stderr",
     "output_type": "stream",
     "text": [
      "C:\\Users\\wailb\\AppData\\Local\\Temp\\ipykernel_10360\\713842225.py:1: SettingWithCopyWarning: \n",
      "A value is trying to be set on a copy of a slice from a DataFrame.\n",
      "Try using .loc[row_indexer,col_indexer] = value instead\n",
      "\n",
      "See the caveats in the documentation: https://pandas.pydata.org/pandas-docs/stable/user_guide/indexing.html#returning-a-view-versus-a-copy\n",
      "  df['Ville'] = df['Ville'].astype(str)\n"
     ]
    }
   ],
   "source": [
    "df['Ville'] = df['Ville'].astype(str)"
   ]
  },
  {
   "cell_type": "code",
   "execution_count": 24,
   "id": "9b2d74a4",
   "metadata": {},
   "outputs": [
    {
     "data": {
      "text/plain": [
       "array(['El Jadida', 'Casablanca', 'El Mansouria', 'Deroua', 'Marrakech',\n",
       "       'Rabat', 'Oujda', 'Bouskoura', 'Tanger', 'Temara', 'Agadir',\n",
       "       'Mohammedia', 'Sidi Rahal', 'Tamesna', 'Sidi Kacem', 'Salé',\n",
       "       'Berrechid', 'Fès', 'Béni Mellal', 'Kénitra', 'Mehdia',\n",
       "       'Khouribga', 'Nador', 'Meknès', 'Martil', 'Fnideq', 'Tétouan',\n",
       "       'Bouznika', 'Cabo Negro', 'Skhirat', 'Larache', 'Dar Bouazza',\n",
       "       'Saidia', 'Errachidia', 'Safi', 'Ain Harrouda', 'Benslimane',\n",
       "       'Sidi Bouknadel', 'Settat', 'Ain Attig', 'Tamaris', 'Khemisset',\n",
       "       'Drargua', 'Agadir Melloul', 'Tifelt', 'Tit Mellil', 'Errahma',\n",
       "       'Mdiq', 'Ras el Ma', 'Essaouira', 'Ain Aouda', 'Oualidia',\n",
       "       'Tamensourt', 'Ait Melloul', 'Midelt', 'Oued Laou', 'Had Soualem',\n",
       "       'Sefrou', 'Taza', 'Taroudant', 'Azemmour', 'Asilah', 'Ouled Teïma',\n",
       "       'Selouane', 'Mediouna', 'Ifrane', 'Al Hoceïma', 'Sidi Bouzid',\n",
       "       'Lqliaa', 'Sidi Slimane', 'Dcheïra El Jihadia', 'El Hajeb',\n",
       "       'Laâyoune', 'Bir Jdid', 'Nouaceur', 'Azrou', 'Oued Zem',\n",
       "       'Ben Guerir', 'Taourirt', 'Fquih Ben Saleh',\n",
       "       'Sidi Abdallah El Bouchouari', 'Mirleft', 'Dakhla',\n",
       "       'Mechra Bel Ksiri', 'El Kelâa des Sraghna', 'Oulad Salah',\n",
       "       'Tiznit', 'Lamharza Essahel', 'Chellalate', 'Ksar el-Kebir',\n",
       "       'Imouzzer-Kendar', 'Biougra', 'Sidi Allal El Bahraoui',\n",
       "       'Chefchaouen', 'Taghazout', 'Berkane', 'El Gara', 'Ouarzazate',\n",
       "       'Imouzzer', 'Béni Yakhlef', 'Sidi Bennour', 'Dcheira', 'Aourir',\n",
       "       'Moulay Bousselham', 'Gzenaya Al Janoubia', 'Ifrane Atlas Saghir',\n",
       "       'Zemamra', 'Inzegan', 'Guelmim', 'Lahraouyine', 'Gueznaia',\n",
       "       'Sidi Bibi', 'Sidi Yahya Zaer', 'Taounate', 'Mers El Kheir',\n",
       "       'Boufkrane', 'Ain Cheggag', 'Aghbalou', 'Ait Ourir',\n",
       "       'Ksar es-Seghir', 'Imzouren', 'Sidi Boukhalkhal', 'Zaïo',\n",
       "       'Jamaat Shaim', 'Oulmes', 'Jorf El Melha', 'Mansoura',\n",
       "       'Tahannaout', 'Sidi Hajjaj', 'Ouazzane', 'Souk El Arbaa', 'Daoura',\n",
       "       \"Oulad Said L'oued\", 'Machraa El Ain', 'Ain Karma', 'Belfaa',\n",
       "       'Al Aaroui', 'nan', \"Mrir't\", 'Ouislane', 'Khénifra', 'Guercif',\n",
       "       'Ourika', 'Sidi Hajjaj Oued Hassar', 'El Menzeh', 'Ain Taoujdate',\n",
       "       'Meknassa Al Gharbia', 'Targuist', 'Tizgane', 'Sidi Taibi',\n",
       "       'Ahfir', 'Sabaa Aiyoun', 'Tamallalt', 'Souk Sebt Ouled Nemma',\n",
       "       'Aquouass Briech', 'Skhinate', 'Laattaouia', 'Ouaouzgane',\n",
       "       'Meknassa Acharqia', 'Bhalil', 'Zeghanghane', 'Afourar', 'Azla',\n",
       "       'Tahla', 'Azilal', 'Demnate', 'Moulay Abdallah', 'Lamaachate',\n",
       "       'Haouzia', 'Laaounate', 'Tangarfa', 'Bouanane', 'Sidi Bettache',\n",
       "       'Ain Tizgha', 'Bir Tam Tam', 'Temsia', 'Bejaad', 'Echemmaia',\n",
       "       'Sebt Gzoula', 'Goulmima', 'Chichaoua', 'Talsint', 'Boujniba',\n",
       "       'Sidi Moussa Ben Ali', 'Massa', 'Aarab Sebbah Gheris', 'Touissit',\n",
       "       'Messassa', 'Missour', 'Boukhalef', 'Tikiouine', 'Tan-Tan',\n",
       "       'Oulad Abbou', 'Tata', 'Méchouar Fès Jdid'], dtype=object)"
      ]
     },
     "execution_count": 24,
     "metadata": {},
     "output_type": "execute_result"
    }
   ],
   "source": [
    "df['Ville'].unique()"
   ]
  },
  {
   "cell_type": "code",
   "execution_count": 25,
   "id": "b886206d",
   "metadata": {},
   "outputs": [
    {
     "data": {
      "text/plain": [
       "Casablanca           5908\n",
       "Marrakech            1706\n",
       "Tanger               1557\n",
       "Fès                  1244\n",
       "Kénitra              1183\n",
       "                     ... \n",
       "Bhalil                  1\n",
       "Zeghanghane             1\n",
       "Afourar                 1\n",
       "Azla                    1\n",
       "Méchouar Fès Jdid       1\n",
       "Name: Ville, Length: 195, dtype: int64"
      ]
     },
     "execution_count": 25,
     "metadata": {},
     "output_type": "execute_result"
    }
   ],
   "source": [
    "df['Ville'].value_counts()"
   ]
  },
  {
   "cell_type": "code",
   "execution_count": 26,
   "id": "c7ea068e",
   "metadata": {
    "scrolled": true
   },
   "outputs": [
    {
     "data": {
      "text/plain": [
       "0           El Jadida\n",
       "1           El Jadida\n",
       "2           El Jadida\n",
       "3          Casablanca\n",
       "4        El Mansouria\n",
       "             ...     \n",
       "33316         Larache\n",
       "33317          Agadir\n",
       "33318      Casablanca\n",
       "33319          Agadir\n",
       "33320             Fès\n",
       "Name: Ville, Length: 24408, dtype: object"
      ]
     },
     "execution_count": 26,
     "metadata": {},
     "output_type": "execute_result"
    }
   ],
   "source": [
    "df['Ville'].fillna(df['Ville'].mode()[0])"
   ]
  },
  {
   "cell_type": "markdown",
   "id": "bdf21b09",
   "metadata": {},
   "source": [
    "## 3 - Secteur"
   ]
  },
  {
   "cell_type": "code",
   "execution_count": 27,
   "id": "dc599bba",
   "metadata": {},
   "outputs": [
    {
     "data": {
      "text/plain": [
       "259"
      ]
     },
     "execution_count": 27,
     "metadata": {},
     "output_type": "execute_result"
    }
   ],
   "source": [
    "df['Secteur'].isnull().sum()"
   ]
  },
  {
   "cell_type": "code",
   "execution_count": 28,
   "id": "22a06eb0",
   "metadata": {},
   "outputs": [
    {
     "data": {
      "text/plain": [
       "4852"
      ]
     },
     "execution_count": 28,
     "metadata": {},
     "output_type": "execute_result"
    }
   ],
   "source": [
    "len(df[df['Secteur'] == 'Toute la ville'])"
   ]
  },
  {
   "cell_type": "code",
   "execution_count": 29,
   "id": "b451b890",
   "metadata": {},
   "outputs": [],
   "source": [
    "df.loc[df['Secteur'] == 'Toute la ville', 'Secteur'] = df['Ville']"
   ]
  },
  {
   "cell_type": "code",
   "execution_count": 30,
   "id": "d92590b2",
   "metadata": {},
   "outputs": [],
   "source": [
    "df.loc[df['Secteur'] == 'Autre secteur', 'Secteur'] = df['Ville']"
   ]
  },
  {
   "cell_type": "code",
   "execution_count": 31,
   "id": "4a44eeb4",
   "metadata": {
    "scrolled": true
   },
   "outputs": [
    {
     "name": "stderr",
     "output_type": "stream",
     "text": [
      "C:\\Users\\wailb\\AppData\\Local\\Temp\\ipykernel_10360\\1000700378.py:1: SettingWithCopyWarning: \n",
      "A value is trying to be set on a copy of a slice from a DataFrame\n",
      "\n",
      "See the caveats in the documentation: https://pandas.pydata.org/pandas-docs/stable/user_guide/indexing.html#returning-a-view-versus-a-copy\n",
      "  df['Secteur'].fillna(df['Ville'], inplace=True)\n"
     ]
    }
   ],
   "source": [
    "df['Secteur'].fillna(df['Ville'], inplace=True)"
   ]
  },
  {
   "cell_type": "markdown",
   "id": "5e0a92fb",
   "metadata": {},
   "source": [
    "## 4 - Etage"
   ]
  },
  {
   "cell_type": "code",
   "execution_count": 32,
   "id": "2586ec0f",
   "metadata": {},
   "outputs": [],
   "source": [
    "df.loc[df['Etage'] == 'Rez de chaussée','Etage'] = 0"
   ]
  },
  {
   "cell_type": "code",
   "execution_count": 33,
   "id": "e0381cd6",
   "metadata": {},
   "outputs": [
    {
     "name": "stderr",
     "output_type": "stream",
     "text": [
      "C:\\Users\\wailb\\AppData\\Local\\Temp\\ipykernel_10360\\2401513928.py:1: FutureWarning: The default value of regex will change from True to False in a future version. In addition, single character regular expressions will *not* be treated as literal strings when regex=True.\n",
      "  df['Etage'] = df['Etage'].str.replace('+', '')\n",
      "C:\\Users\\wailb\\AppData\\Local\\Temp\\ipykernel_10360\\2401513928.py:1: SettingWithCopyWarning: \n",
      "A value is trying to be set on a copy of a slice from a DataFrame.\n",
      "Try using .loc[row_indexer,col_indexer] = value instead\n",
      "\n",
      "See the caveats in the documentation: https://pandas.pydata.org/pandas-docs/stable/user_guide/indexing.html#returning-a-view-versus-a-copy\n",
      "  df['Etage'] = df['Etage'].str.replace('+', '')\n"
     ]
    }
   ],
   "source": [
    "df['Etage'] = df['Etage'].str.replace('+', '')"
   ]
  },
  {
   "cell_type": "code",
   "execution_count": 34,
   "id": "4c94bf13",
   "metadata": {},
   "outputs": [
    {
     "name": "stderr",
     "output_type": "stream",
     "text": [
      "C:\\Users\\wailb\\AppData\\Local\\Temp\\ipykernel_10360\\3702589724.py:1: SettingWithCopyWarning: \n",
      "A value is trying to be set on a copy of a slice from a DataFrame.\n",
      "Try using .loc[row_indexer,col_indexer] = value instead\n",
      "\n",
      "See the caveats in the documentation: https://pandas.pydata.org/pandas-docs/stable/user_guide/indexing.html#returning-a-view-versus-a-copy\n",
      "  df['Etage'] = df['Etage'].fillna(df['Etage'].mode()[0]).astype(int)\n"
     ]
    }
   ],
   "source": [
    "df['Etage'] = df['Etage'].fillna(df['Etage'].mode()[0]).astype(int)"
   ]
  },
  {
   "cell_type": "code",
   "execution_count": 35,
   "id": "0ba24eb2",
   "metadata": {},
   "outputs": [
    {
     "name": "stderr",
     "output_type": "stream",
     "text": [
      "C:\\Users\\wailb\\AppData\\Local\\Temp\\ipykernel_10360\\1342378279.py:1: SettingWithCopyWarning: \n",
      "A value is trying to be set on a copy of a slice from a DataFrame.\n",
      "Try using .loc[row_indexer,col_indexer] = value instead\n",
      "\n",
      "See the caveats in the documentation: https://pandas.pydata.org/pandas-docs/stable/user_guide/indexing.html#returning-a-view-versus-a-copy\n",
      "  df['Etage'] = df['Etage'].astype(int)\n"
     ]
    }
   ],
   "source": [
    "df['Etage'] = df['Etage'].astype(int)"
   ]
  },
  {
   "cell_type": "markdown",
   "id": "f7ef52bd",
   "metadata": {},
   "source": [
    "## 5 -  Surface habitable"
   ]
  },
  {
   "cell_type": "code",
   "execution_count": 36,
   "id": "5e5a4153",
   "metadata": {},
   "outputs": [
    {
     "data": {
      "text/plain": [
       "320"
      ]
     },
     "execution_count": 36,
     "metadata": {},
     "output_type": "execute_result"
    }
   ],
   "source": [
    "df['Surface habitable'].isnull().sum()"
   ]
  },
  {
   "cell_type": "code",
   "execution_count": 37,
   "id": "f8713ae1",
   "metadata": {},
   "outputs": [
    {
     "name": "stderr",
     "output_type": "stream",
     "text": [
      "C:\\Users\\wailb\\AppData\\Local\\Temp\\ipykernel_10360\\1011409790.py:2: SettingWithCopyWarning: \n",
      "A value is trying to be set on a copy of a slice from a DataFrame.\n",
      "Try using .loc[row_indexer,col_indexer] = value instead\n",
      "\n",
      "See the caveats in the documentation: https://pandas.pydata.org/pandas-docs/stable/user_guide/indexing.html#returning-a-view-versus-a-copy\n",
      "  df['Surface habitable'] = df['Surface habitable'].replace('--', np.nan).astype(float)\n"
     ]
    }
   ],
   "source": [
    "import numpy as np\n",
    "df['Surface habitable'] = df['Surface habitable'].replace('--', np.nan).astype(float)"
   ]
  },
  {
   "cell_type": "code",
   "execution_count": 38,
   "id": "d07d9b30",
   "metadata": {},
   "outputs": [
    {
     "name": "stderr",
     "output_type": "stream",
     "text": [
      "C:\\Users\\wailb\\AppData\\Local\\Temp\\ipykernel_10360\\2382464987.py:1: SettingWithCopyWarning: \n",
      "A value is trying to be set on a copy of a slice from a DataFrame.\n",
      "Try using .loc[row_indexer,col_indexer] = value instead\n",
      "\n",
      "See the caveats in the documentation: https://pandas.pydata.org/pandas-docs/stable/user_guide/indexing.html#returning-a-view-versus-a-copy\n",
      "  df['Surface habitable'] = df['Surface habitable'].astype(float)\n"
     ]
    }
   ],
   "source": [
    "df['Surface habitable'] = df['Surface habitable'].astype(float)"
   ]
  },
  {
   "cell_type": "code",
   "execution_count": 39,
   "id": "00c59d56",
   "metadata": {},
   "outputs": [
    {
     "name": "stderr",
     "output_type": "stream",
     "text": [
      "C:\\Users\\wailb\\AppData\\Local\\Temp\\ipykernel_10360\\2738617472.py:1: SettingWithCopyWarning: \n",
      "A value is trying to be set on a copy of a slice from a DataFrame.\n",
      "Try using .loc[row_indexer,col_indexer] = value instead\n",
      "\n",
      "See the caveats in the documentation: https://pandas.pydata.org/pandas-docs/stable/user_guide/indexing.html#returning-a-view-versus-a-copy\n",
      "  df['Surface habitable'] = df['Surface habitable'].fillna(df['Surface habitable'].mean())\n"
     ]
    }
   ],
   "source": [
    "df['Surface habitable'] = df['Surface habitable'].fillna(df['Surface habitable'].mean())"
   ]
  },
  {
   "cell_type": "code",
   "execution_count": null,
   "id": "bc9ce4ca",
   "metadata": {},
   "outputs": [],
   "source": []
  },
  {
   "cell_type": "markdown",
   "id": "934a20d7",
   "metadata": {},
   "source": [
    "## 6 - NB Salons"
   ]
  },
  {
   "cell_type": "code",
   "execution_count": 40,
   "id": "3a1a9e25",
   "metadata": {},
   "outputs": [
    {
     "data": {
      "text/plain": [
       "779"
      ]
     },
     "execution_count": 40,
     "metadata": {},
     "output_type": "execute_result"
    }
   ],
   "source": [
    "df['NB Salons'].isnull().sum()"
   ]
  },
  {
   "cell_type": "code",
   "execution_count": 41,
   "id": "2fa821a3",
   "metadata": {},
   "outputs": [
    {
     "name": "stderr",
     "output_type": "stream",
     "text": [
      "C:\\Users\\wailb\\AppData\\Local\\Temp\\ipykernel_10360\\948110493.py:1: FutureWarning: The default value of regex will change from True to False in a future version. In addition, single character regular expressions will *not* be treated as literal strings when regex=True.\n",
      "  df['NB Salons'] = df['NB Salons'].str.replace('+', '')\n",
      "C:\\Users\\wailb\\AppData\\Local\\Temp\\ipykernel_10360\\948110493.py:1: SettingWithCopyWarning: \n",
      "A value is trying to be set on a copy of a slice from a DataFrame.\n",
      "Try using .loc[row_indexer,col_indexer] = value instead\n",
      "\n",
      "See the caveats in the documentation: https://pandas.pydata.org/pandas-docs/stable/user_guide/indexing.html#returning-a-view-versus-a-copy\n",
      "  df['NB Salons'] = df['NB Salons'].str.replace('+', '')\n"
     ]
    }
   ],
   "source": [
    "df['NB Salons'] = df['NB Salons'].str.replace('+', '')"
   ]
  },
  {
   "cell_type": "code",
   "execution_count": 42,
   "id": "46559374",
   "metadata": {},
   "outputs": [
    {
     "name": "stderr",
     "output_type": "stream",
     "text": [
      "C:\\Users\\wailb\\AppData\\Local\\Temp\\ipykernel_10360\\1710274287.py:1: SettingWithCopyWarning: \n",
      "A value is trying to be set on a copy of a slice from a DataFrame.\n",
      "Try using .loc[row_indexer,col_indexer] = value instead\n",
      "\n",
      "See the caveats in the documentation: https://pandas.pydata.org/pandas-docs/stable/user_guide/indexing.html#returning-a-view-versus-a-copy\n",
      "  df['NB Salons'] = df['NB Salons'].fillna(df['NB Salons'].mode()[0]).astype(int)\n"
     ]
    }
   ],
   "source": [
    "df['NB Salons'] = df['NB Salons'].fillna(df['NB Salons'].mode()[0]).astype(int)"
   ]
  },
  {
   "cell_type": "code",
   "execution_count": 43,
   "id": "4b170292",
   "metadata": {},
   "outputs": [
    {
     "name": "stderr",
     "output_type": "stream",
     "text": [
      "C:\\Users\\wailb\\AppData\\Local\\Temp\\ipykernel_10360\\2203718406.py:1: SettingWithCopyWarning: \n",
      "A value is trying to be set on a copy of a slice from a DataFrame.\n",
      "Try using .loc[row_indexer,col_indexer] = value instead\n",
      "\n",
      "See the caveats in the documentation: https://pandas.pydata.org/pandas-docs/stable/user_guide/indexing.html#returning-a-view-versus-a-copy\n",
      "  df['NB Salons'] = df['NB Salons'].astype(int)\n"
     ]
    }
   ],
   "source": [
    "df['NB Salons'] = df['NB Salons'].astype(int)"
   ]
  },
  {
   "cell_type": "code",
   "execution_count": null,
   "id": "08be450d",
   "metadata": {},
   "outputs": [],
   "source": []
  },
  {
   "cell_type": "markdown",
   "id": "fa26158a",
   "metadata": {},
   "source": [
    "## 7 - NB Chambres"
   ]
  },
  {
   "cell_type": "code",
   "execution_count": 44,
   "id": "2c1f23a7",
   "metadata": {},
   "outputs": [
    {
     "data": {
      "text/plain": [
       "196"
      ]
     },
     "execution_count": 44,
     "metadata": {},
     "output_type": "execute_result"
    }
   ],
   "source": [
    "df['NB Chambres'].isnull().sum()"
   ]
  },
  {
   "cell_type": "code",
   "execution_count": 45,
   "id": "eafb6c93",
   "metadata": {},
   "outputs": [
    {
     "name": "stderr",
     "output_type": "stream",
     "text": [
      "C:\\Users\\wailb\\AppData\\Local\\Temp\\ipykernel_10360\\585149556.py:1: FutureWarning: The default value of regex will change from True to False in a future version. In addition, single character regular expressions will *not* be treated as literal strings when regex=True.\n",
      "  df['NB Chambres'] = df['NB Chambres'].str.replace('+', '')\n",
      "C:\\Users\\wailb\\AppData\\Local\\Temp\\ipykernel_10360\\585149556.py:1: SettingWithCopyWarning: \n",
      "A value is trying to be set on a copy of a slice from a DataFrame.\n",
      "Try using .loc[row_indexer,col_indexer] = value instead\n",
      "\n",
      "See the caveats in the documentation: https://pandas.pydata.org/pandas-docs/stable/user_guide/indexing.html#returning-a-view-versus-a-copy\n",
      "  df['NB Chambres'] = df['NB Chambres'].str.replace('+', '')\n"
     ]
    }
   ],
   "source": [
    "df['NB Chambres'] = df['NB Chambres'].str.replace('+', '')"
   ]
  },
  {
   "cell_type": "code",
   "execution_count": 46,
   "id": "2c597ded",
   "metadata": {},
   "outputs": [
    {
     "name": "stderr",
     "output_type": "stream",
     "text": [
      "C:\\Users\\wailb\\AppData\\Local\\Temp\\ipykernel_10360\\4049559583.py:1: SettingWithCopyWarning: \n",
      "A value is trying to be set on a copy of a slice from a DataFrame.\n",
      "Try using .loc[row_indexer,col_indexer] = value instead\n",
      "\n",
      "See the caveats in the documentation: https://pandas.pydata.org/pandas-docs/stable/user_guide/indexing.html#returning-a-view-versus-a-copy\n",
      "  df['NB Chambres'] = df['NB Chambres'].astype(float)\n"
     ]
    }
   ],
   "source": [
    "df['NB Chambres'] = df['NB Chambres'].astype(float)"
   ]
  },
  {
   "cell_type": "code",
   "execution_count": 47,
   "id": "8638b804",
   "metadata": {},
   "outputs": [
    {
     "name": "stderr",
     "output_type": "stream",
     "text": [
      "C:\\Users\\wailb\\AppData\\Local\\Temp\\ipykernel_10360\\2854624618.py:1: SettingWithCopyWarning: \n",
      "A value is trying to be set on a copy of a slice from a DataFrame.\n",
      "Try using .loc[row_indexer,col_indexer] = value instead\n",
      "\n",
      "See the caveats in the documentation: https://pandas.pydata.org/pandas-docs/stable/user_guide/indexing.html#returning-a-view-versus-a-copy\n",
      "  df['NB Chambres'] = df['NB Chambres'].fillna(df['NB Chambres'].mean()).astype(float)\n"
     ]
    }
   ],
   "source": [
    "df['NB Chambres'] = df['NB Chambres'].fillna(df['NB Chambres'].mean()).astype(float)"
   ]
  },
  {
   "cell_type": "code",
   "execution_count": null,
   "id": "072ce59f",
   "metadata": {},
   "outputs": [],
   "source": []
  },
  {
   "cell_type": "markdown",
   "id": "90370e7f",
   "metadata": {},
   "source": [
    "## 8 - NB Salles de Bain"
   ]
  },
  {
   "cell_type": "code",
   "execution_count": 48,
   "id": "a192d58c",
   "metadata": {},
   "outputs": [
    {
     "data": {
      "text/plain": [
       "756"
      ]
     },
     "execution_count": 48,
     "metadata": {},
     "output_type": "execute_result"
    }
   ],
   "source": [
    "df['NB Salles de Bain'].isnull().sum()"
   ]
  },
  {
   "cell_type": "code",
   "execution_count": 49,
   "id": "59af32b5",
   "metadata": {},
   "outputs": [
    {
     "name": "stderr",
     "output_type": "stream",
     "text": [
      "C:\\Users\\wailb\\AppData\\Local\\Temp\\ipykernel_10360\\3556442004.py:1: FutureWarning: The default value of regex will change from True to False in a future version. In addition, single character regular expressions will *not* be treated as literal strings when regex=True.\n",
      "  df['NB Salles de Bain'] = df['NB Salles de Bain'].str.replace('+', '')\n",
      "C:\\Users\\wailb\\AppData\\Local\\Temp\\ipykernel_10360\\3556442004.py:1: SettingWithCopyWarning: \n",
      "A value is trying to be set on a copy of a slice from a DataFrame.\n",
      "Try using .loc[row_indexer,col_indexer] = value instead\n",
      "\n",
      "See the caveats in the documentation: https://pandas.pydata.org/pandas-docs/stable/user_guide/indexing.html#returning-a-view-versus-a-copy\n",
      "  df['NB Salles de Bain'] = df['NB Salles de Bain'].str.replace('+', '')\n"
     ]
    }
   ],
   "source": [
    "df['NB Salles de Bain'] = df['NB Salles de Bain'].str.replace('+', '')"
   ]
  },
  {
   "cell_type": "code",
   "execution_count": 50,
   "id": "0fa660f7",
   "metadata": {},
   "outputs": [
    {
     "name": "stderr",
     "output_type": "stream",
     "text": [
      "C:\\Users\\wailb\\AppData\\Local\\Temp\\ipykernel_10360\\4232127477.py:1: SettingWithCopyWarning: \n",
      "A value is trying to be set on a copy of a slice from a DataFrame.\n",
      "Try using .loc[row_indexer,col_indexer] = value instead\n",
      "\n",
      "See the caveats in the documentation: https://pandas.pydata.org/pandas-docs/stable/user_guide/indexing.html#returning-a-view-versus-a-copy\n",
      "  df['NB Salles de Bain'] = df['NB Salles de Bain'].fillna(df['NB Salles de Bain'].mode()[0]).astype(int)\n"
     ]
    }
   ],
   "source": [
    "df['NB Salles de Bain'] = df['NB Salles de Bain'].fillna(df['NB Salles de Bain'].mode()[0]).astype(int)"
   ]
  },
  {
   "cell_type": "code",
   "execution_count": 51,
   "id": "9c992413",
   "metadata": {},
   "outputs": [
    {
     "name": "stderr",
     "output_type": "stream",
     "text": [
      "C:\\Users\\wailb\\AppData\\Local\\Temp\\ipykernel_10360\\3055838461.py:1: SettingWithCopyWarning: \n",
      "A value is trying to be set on a copy of a slice from a DataFrame.\n",
      "Try using .loc[row_indexer,col_indexer] = value instead\n",
      "\n",
      "See the caveats in the documentation: https://pandas.pydata.org/pandas-docs/stable/user_guide/indexing.html#returning-a-view-versus-a-copy\n",
      "  df['NB Salles de Bain'] = df['NB Salles de Bain'].astype(int)\n"
     ]
    }
   ],
   "source": [
    "df['NB Salles de Bain'] = df['NB Salles de Bain'].astype(int)"
   ]
  },
  {
   "cell_type": "code",
   "execution_count": 52,
   "id": "51285837",
   "metadata": {},
   "outputs": [
    {
     "data": {
      "text/html": [
       "<div>\n",
       "<style scoped>\n",
       "    .dataframe tbody tr th:only-of-type {\n",
       "        vertical-align: middle;\n",
       "    }\n",
       "\n",
       "    .dataframe tbody tr th {\n",
       "        vertical-align: top;\n",
       "    }\n",
       "\n",
       "    .dataframe thead th {\n",
       "        text-align: right;\n",
       "    }\n",
       "</style>\n",
       "<table border=\"1\" class=\"dataframe\">\n",
       "  <thead>\n",
       "    <tr style=\"text-align: right;\">\n",
       "      <th></th>\n",
       "      <th>Prix</th>\n",
       "      <th>Ville</th>\n",
       "      <th>Secteur</th>\n",
       "      <th>Etage</th>\n",
       "      <th>Surface habitable</th>\n",
       "      <th>NB Salons</th>\n",
       "      <th>NB Chambres</th>\n",
       "      <th>NB Salles de Bain</th>\n",
       "    </tr>\n",
       "  </thead>\n",
       "  <tbody>\n",
       "    <tr>\n",
       "      <th>0</th>\n",
       "      <td>1160000</td>\n",
       "      <td>El Jadida</td>\n",
       "      <td>Narjiss</td>\n",
       "      <td>1</td>\n",
       "      <td>229.000000</td>\n",
       "      <td>3</td>\n",
       "      <td>6.0</td>\n",
       "      <td>2</td>\n",
       "    </tr>\n",
       "    <tr>\n",
       "      <th>1</th>\n",
       "      <td>360000</td>\n",
       "      <td>El Jadida</td>\n",
       "      <td>El Jadida</td>\n",
       "      <td>2</td>\n",
       "      <td>62.000000</td>\n",
       "      <td>1</td>\n",
       "      <td>2.0</td>\n",
       "      <td>1</td>\n",
       "    </tr>\n",
       "    <tr>\n",
       "      <th>2</th>\n",
       "      <td>750000</td>\n",
       "      <td>El Jadida</td>\n",
       "      <td>Hay Essalam</td>\n",
       "      <td>2</td>\n",
       "      <td>92.000000</td>\n",
       "      <td>1</td>\n",
       "      <td>3.0</td>\n",
       "      <td>1</td>\n",
       "    </tr>\n",
       "    <tr>\n",
       "      <th>3</th>\n",
       "      <td>2100000</td>\n",
       "      <td>Casablanca</td>\n",
       "      <td>Bourgogne</td>\n",
       "      <td>2</td>\n",
       "      <td>136.000000</td>\n",
       "      <td>1</td>\n",
       "      <td>2.0</td>\n",
       "      <td>2</td>\n",
       "    </tr>\n",
       "    <tr>\n",
       "      <th>4</th>\n",
       "      <td>7400000</td>\n",
       "      <td>El Mansouria</td>\n",
       "      <td>El Mansouria</td>\n",
       "      <td>2</td>\n",
       "      <td>60.000000</td>\n",
       "      <td>1</td>\n",
       "      <td>1.0</td>\n",
       "      <td>1</td>\n",
       "    </tr>\n",
       "    <tr>\n",
       "      <th>...</th>\n",
       "      <td>...</td>\n",
       "      <td>...</td>\n",
       "      <td>...</td>\n",
       "      <td>...</td>\n",
       "      <td>...</td>\n",
       "      <td>...</td>\n",
       "      <td>...</td>\n",
       "      <td>...</td>\n",
       "    </tr>\n",
       "    <tr>\n",
       "      <th>33316</th>\n",
       "      <td>360000</td>\n",
       "      <td>Larache</td>\n",
       "      <td>Larache</td>\n",
       "      <td>1</td>\n",
       "      <td>75.000000</td>\n",
       "      <td>1</td>\n",
       "      <td>2.0</td>\n",
       "      <td>1</td>\n",
       "    </tr>\n",
       "    <tr>\n",
       "      <th>33317</th>\n",
       "      <td>350000</td>\n",
       "      <td>Agadir</td>\n",
       "      <td>Hay Al Farah</td>\n",
       "      <td>1</td>\n",
       "      <td>58.000000</td>\n",
       "      <td>1</td>\n",
       "      <td>2.0</td>\n",
       "      <td>1</td>\n",
       "    </tr>\n",
       "    <tr>\n",
       "      <th>33318</th>\n",
       "      <td>180000</td>\n",
       "      <td>Casablanca</td>\n",
       "      <td>Ben M'sick</td>\n",
       "      <td>4</td>\n",
       "      <td>352.549861</td>\n",
       "      <td>1</td>\n",
       "      <td>1.0</td>\n",
       "      <td>1</td>\n",
       "    </tr>\n",
       "    <tr>\n",
       "      <th>33319</th>\n",
       "      <td>125000</td>\n",
       "      <td>Agadir</td>\n",
       "      <td>Hay Salam</td>\n",
       "      <td>1</td>\n",
       "      <td>122.000000</td>\n",
       "      <td>1</td>\n",
       "      <td>3.0</td>\n",
       "      <td>2</td>\n",
       "    </tr>\n",
       "    <tr>\n",
       "      <th>33320</th>\n",
       "      <td>159000</td>\n",
       "      <td>Fès</td>\n",
       "      <td>Sehb El Ward</td>\n",
       "      <td>4</td>\n",
       "      <td>71.000000</td>\n",
       "      <td>1</td>\n",
       "      <td>2.0</td>\n",
       "      <td>1</td>\n",
       "    </tr>\n",
       "  </tbody>\n",
       "</table>\n",
       "<p>24408 rows × 8 columns</p>\n",
       "</div>"
      ],
      "text/plain": [
       "          Prix         Ville       Secteur  Etage  Surface habitable  \\\n",
       "0      1160000     El Jadida       Narjiss      1         229.000000   \n",
       "1       360000     El Jadida     El Jadida      2          62.000000   \n",
       "2       750000     El Jadida   Hay Essalam      2          92.000000   \n",
       "3      2100000    Casablanca     Bourgogne      2         136.000000   \n",
       "4      7400000  El Mansouria  El Mansouria      2          60.000000   \n",
       "...        ...           ...           ...    ...                ...   \n",
       "33316   360000       Larache       Larache      1          75.000000   \n",
       "33317   350000        Agadir  Hay Al Farah      1          58.000000   \n",
       "33318   180000    Casablanca    Ben M'sick      4         352.549861   \n",
       "33319   125000        Agadir     Hay Salam      1         122.000000   \n",
       "33320   159000           Fès  Sehb El Ward      4          71.000000   \n",
       "\n",
       "       NB Salons  NB Chambres  NB Salles de Bain  \n",
       "0              3          6.0                  2  \n",
       "1              1          2.0                  1  \n",
       "2              1          3.0                  1  \n",
       "3              1          2.0                  2  \n",
       "4              1          1.0                  1  \n",
       "...          ...          ...                ...  \n",
       "33316          1          2.0                  1  \n",
       "33317          1          2.0                  1  \n",
       "33318          1          1.0                  1  \n",
       "33319          1          3.0                  2  \n",
       "33320          1          2.0                  1  \n",
       "\n",
       "[24408 rows x 8 columns]"
      ]
     },
     "execution_count": 52,
     "metadata": {},
     "output_type": "execute_result"
    }
   ],
   "source": [
    "df"
   ]
  },
  {
   "cell_type": "code",
   "execution_count": 53,
   "id": "03fe82a2",
   "metadata": {},
   "outputs": [
    {
     "data": {
      "text/plain": [
       "Prix                   int32\n",
       "Ville                 object\n",
       "Secteur               object\n",
       "Etage                  int32\n",
       "Surface habitable    float64\n",
       "NB Salons              int32\n",
       "NB Chambres          float64\n",
       "NB Salles de Bain      int32\n",
       "dtype: object"
      ]
     },
     "execution_count": 53,
     "metadata": {},
     "output_type": "execute_result"
    }
   ],
   "source": [
    "df.dtypes"
   ]
  },
  {
   "cell_type": "code",
   "execution_count": null,
   "id": "cff8cedf",
   "metadata": {},
   "outputs": [],
   "source": []
  },
  {
   "cell_type": "code",
   "execution_count": 54,
   "id": "1b2857bb",
   "metadata": {},
   "outputs": [
    {
     "data": {
      "text/plain": [
       "<Axes: >"
      ]
     },
     "execution_count": 54,
     "metadata": {},
     "output_type": "execute_result"
    },
    {
     "data": {
      "image/png": "[encoded data removed]",
      "text/plain": [
       "<Figure size 640x480 with 1 Axes>"
      ]
     },
     "metadata": {},
     "output_type": "display_data"
    }
   ],
   "source": [
    "import seaborn as sb\n",
    "\n",
    "sb.boxplot(data=df[['Surface habitable']])"
   ]
  },
  {
   "cell_type": "code",
   "execution_count": 55,
   "id": "9629ca3d",
   "metadata": {},
   "outputs": [
    {
     "data": {
      "text/plain": [
       "<Axes: xlabel='NB Chambres', ylabel='Prix'>"
      ]
     },
     "execution_count": 55,
     "metadata": {},
     "output_type": "execute_result"
    },
    {
     "data": {
      "image/png": "[encoded data removed]",
      "text/plain": [
       "<Figure size 640x480 with 1 Axes>"
      ]
     },
     "metadata": {},
     "output_type": "display_data"
    }
   ],
   "source": [
    "sb.scatterplot(data=df, x='NB Chambres', y='Prix')"
   ]
  },
  {
   "cell_type": "code",
   "execution_count": 56,
   "id": "53275b49",
   "metadata": {},
   "outputs": [
    {
     "data": {
      "image/png": "[encoded data removed]",
      "text/plain": [
       "<Figure size 640x480 with 1 Axes>"
      ]
     },
     "metadata": {},
     "output_type": "display_data"
    }
   ],
   "source": [
    "import matplotlib.pyplot as plt\n",
    "plt.figure()\n",
    "df['NB Salons'].hist(bins='auto', alpha=1)\n",
    "plt.show()"
   ]
  },
  {
   "cell_type": "code",
   "execution_count": 57,
   "id": "6a757c79",
   "metadata": {},
   "outputs": [
    {
     "name": "stderr",
     "output_type": "stream",
     "text": [
      "C:\\Users\\wailb\\AppData\\Local\\Temp\\ipykernel_10360\\3259007696.py:1: FutureWarning: \n",
      "\n",
      "`shade` is now deprecated in favor of `fill`; setting `fill=True`.\n",
      "This will become an error in seaborn v0.14.0; please update your code.\n",
      "\n",
      "  sb.kdeplot(df['Prix'], shade=True, bw_adjust=100)\n"
     ]
    },
    {
     "data": {
      "text/plain": [
       "<Axes: xlabel='Prix', ylabel='Density'>"
      ]
     },
     "execution_count": 57,
     "metadata": {},
     "output_type": "execute_result"
    },
    {
     "data": {
      "image/png": "[encoded data removed]",
      "text/plain": [
       "<Figure size 640x480 with 1 Axes>"
      ]
     },
     "metadata": {},
     "output_type": "display_data"
    }
   ],
   "source": [
    "sb.kdeplot(df['Prix'], shade=True, bw_adjust=100)  "
   ]
  },
  {
   "cell_type": "code",
   "execution_count": 58,
   "id": "8488fc44",
   "metadata": {},
   "outputs": [
    {
     "data": {
      "text/html": [
       "<div>\n",
       "<style scoped>\n",
       "    .dataframe tbody tr th:only-of-type {\n",
       "        vertical-align: middle;\n",
       "    }\n",
       "\n",
       "    .dataframe tbody tr th {\n",
       "        vertical-align: top;\n",
       "    }\n",
       "\n",
       "    .dataframe thead th {\n",
       "        text-align: right;\n",
       "    }\n",
       "</style>\n",
       "<table border=\"1\" class=\"dataframe\">\n",
       "  <thead>\n",
       "    <tr style=\"text-align: right;\">\n",
       "      <th></th>\n",
       "      <th>Prix</th>\n",
       "      <th>Ville</th>\n",
       "      <th>Secteur</th>\n",
       "      <th>Etage</th>\n",
       "      <th>Surface habitable</th>\n",
       "      <th>NB Salons</th>\n",
       "      <th>NB Chambres</th>\n",
       "      <th>NB Salles de Bain</th>\n",
       "    </tr>\n",
       "  </thead>\n",
       "  <tbody>\n",
       "    <tr>\n",
       "      <th>0</th>\n",
       "      <td>1160000</td>\n",
       "      <td>El Jadida</td>\n",
       "      <td>Narjiss</td>\n",
       "      <td>1</td>\n",
       "      <td>229.000000</td>\n",
       "      <td>3</td>\n",
       "      <td>6.0</td>\n",
       "      <td>2</td>\n",
       "    </tr>\n",
       "    <tr>\n",
       "      <th>1</th>\n",
       "      <td>360000</td>\n",
       "      <td>El Jadida</td>\n",
       "      <td>El Jadida</td>\n",
       "      <td>2</td>\n",
       "      <td>62.000000</td>\n",
       "      <td>1</td>\n",
       "      <td>2.0</td>\n",
       "      <td>1</td>\n",
       "    </tr>\n",
       "    <tr>\n",
       "      <th>2</th>\n",
       "      <td>750000</td>\n",
       "      <td>El Jadida</td>\n",
       "      <td>Hay Essalam</td>\n",
       "      <td>2</td>\n",
       "      <td>92.000000</td>\n",
       "      <td>1</td>\n",
       "      <td>3.0</td>\n",
       "      <td>1</td>\n",
       "    </tr>\n",
       "    <tr>\n",
       "      <th>3</th>\n",
       "      <td>2100000</td>\n",
       "      <td>Casablanca</td>\n",
       "      <td>Bourgogne</td>\n",
       "      <td>2</td>\n",
       "      <td>136.000000</td>\n",
       "      <td>1</td>\n",
       "      <td>2.0</td>\n",
       "      <td>2</td>\n",
       "    </tr>\n",
       "    <tr>\n",
       "      <th>4</th>\n",
       "      <td>7400000</td>\n",
       "      <td>El Mansouria</td>\n",
       "      <td>El Mansouria</td>\n",
       "      <td>2</td>\n",
       "      <td>60.000000</td>\n",
       "      <td>1</td>\n",
       "      <td>1.0</td>\n",
       "      <td>1</td>\n",
       "    </tr>\n",
       "    <tr>\n",
       "      <th>...</th>\n",
       "      <td>...</td>\n",
       "      <td>...</td>\n",
       "      <td>...</td>\n",
       "      <td>...</td>\n",
       "      <td>...</td>\n",
       "      <td>...</td>\n",
       "      <td>...</td>\n",
       "      <td>...</td>\n",
       "    </tr>\n",
       "    <tr>\n",
       "      <th>33316</th>\n",
       "      <td>360000</td>\n",
       "      <td>Larache</td>\n",
       "      <td>Larache</td>\n",
       "      <td>1</td>\n",
       "      <td>75.000000</td>\n",
       "      <td>1</td>\n",
       "      <td>2.0</td>\n",
       "      <td>1</td>\n",
       "    </tr>\n",
       "    <tr>\n",
       "      <th>33317</th>\n",
       "      <td>350000</td>\n",
       "      <td>Agadir</td>\n",
       "      <td>Hay Al Farah</td>\n",
       "      <td>1</td>\n",
       "      <td>58.000000</td>\n",
       "      <td>1</td>\n",
       "      <td>2.0</td>\n",
       "      <td>1</td>\n",
       "    </tr>\n",
       "    <tr>\n",
       "      <th>33318</th>\n",
       "      <td>180000</td>\n",
       "      <td>Casablanca</td>\n",
       "      <td>Ben M'sick</td>\n",
       "      <td>4</td>\n",
       "      <td>352.549861</td>\n",
       "      <td>1</td>\n",
       "      <td>1.0</td>\n",
       "      <td>1</td>\n",
       "    </tr>\n",
       "    <tr>\n",
       "      <th>33319</th>\n",
       "      <td>125000</td>\n",
       "      <td>Agadir</td>\n",
       "      <td>Hay Salam</td>\n",
       "      <td>1</td>\n",
       "      <td>122.000000</td>\n",
       "      <td>1</td>\n",
       "      <td>3.0</td>\n",
       "      <td>2</td>\n",
       "    </tr>\n",
       "    <tr>\n",
       "      <th>33320</th>\n",
       "      <td>159000</td>\n",
       "      <td>Fès</td>\n",
       "      <td>Sehb El Ward</td>\n",
       "      <td>4</td>\n",
       "      <td>71.000000</td>\n",
       "      <td>1</td>\n",
       "      <td>2.0</td>\n",
       "      <td>1</td>\n",
       "    </tr>\n",
       "  </tbody>\n",
       "</table>\n",
       "<p>24408 rows × 8 columns</p>\n",
       "</div>"
      ],
      "text/plain": [
       "          Prix         Ville       Secteur  Etage  Surface habitable  \\\n",
       "0      1160000     El Jadida       Narjiss      1         229.000000   \n",
       "1       360000     El Jadida     El Jadida      2          62.000000   \n",
       "2       750000     El Jadida   Hay Essalam      2          92.000000   \n",
       "3      2100000    Casablanca     Bourgogne      2         136.000000   \n",
       "4      7400000  El Mansouria  El Mansouria      2          60.000000   \n",
       "...        ...           ...           ...    ...                ...   \n",
       "33316   360000       Larache       Larache      1          75.000000   \n",
       "33317   350000        Agadir  Hay Al Farah      1          58.000000   \n",
       "33318   180000    Casablanca    Ben M'sick      4         352.549861   \n",
       "33319   125000        Agadir     Hay Salam      1         122.000000   \n",
       "33320   159000           Fès  Sehb El Ward      4          71.000000   \n",
       "\n",
       "       NB Salons  NB Chambres  NB Salles de Bain  \n",
       "0              3          6.0                  2  \n",
       "1              1          2.0                  1  \n",
       "2              1          3.0                  1  \n",
       "3              1          2.0                  2  \n",
       "4              1          1.0                  1  \n",
       "...          ...          ...                ...  \n",
       "33316          1          2.0                  1  \n",
       "33317          1          2.0                  1  \n",
       "33318          1          1.0                  1  \n",
       "33319          1          3.0                  2  \n",
       "33320          1          2.0                  1  \n",
       "\n",
       "[24408 rows x 8 columns]"
      ]
     },
     "execution_count": 58,
     "metadata": {},
     "output_type": "execute_result"
    }
   ],
   "source": [
    "df"
   ]
  },
  {
   "cell_type": "code",
   "execution_count": 59,
   "id": "0673cbb6",
   "metadata": {},
   "outputs": [
    {
     "data": {
      "text/plain": [
       "Prix                   int32\n",
       "Ville                 object\n",
       "Secteur               object\n",
       "Etage                  int32\n",
       "Surface habitable    float64\n",
       "NB Salons              int32\n",
       "NB Chambres          float64\n",
       "NB Salles de Bain      int32\n",
       "dtype: object"
      ]
     },
     "execution_count": 59,
     "metadata": {},
     "output_type": "execute_result"
    }
   ],
   "source": [
    "df.dtypes"
   ]
  },
  {
   "cell_type": "code",
   "execution_count": 60,
   "id": "c43b20b0",
   "metadata": {},
   "outputs": [
    {
     "name": "stderr",
     "output_type": "stream",
     "text": [
      "C:\\Users\\wailb\\AppData\\Local\\Temp\\ipykernel_10360\\3317293155.py:1: SettingWithCopyWarning: \n",
      "A value is trying to be set on a copy of a slice from a DataFrame.\n",
      "Try using .loc[row_indexer,col_indexer] = value instead\n",
      "\n",
      "See the caveats in the documentation: https://pandas.pydata.org/pandas-docs/stable/user_guide/indexing.html#returning-a-view-versus-a-copy\n",
      "  df['NB Chambres'] = df['NB Chambres'].astype(int)\n"
     ]
    }
   ],
   "source": [
    "df['NB Chambres'] = df['NB Chambres'].astype(int)"
   ]
  },
  {
   "cell_type": "code",
   "execution_count": 61,
   "id": "01fc7ab3",
   "metadata": {},
   "outputs": [
    {
     "data": {
      "text/plain": [
       "Prix                   int32\n",
       "Ville                 object\n",
       "Secteur               object\n",
       "Etage                  int32\n",
       "Surface habitable    float64\n",
       "NB Salons              int32\n",
       "NB Chambres            int32\n",
       "NB Salles de Bain      int32\n",
       "dtype: object"
      ]
     },
     "execution_count": 61,
     "metadata": {},
     "output_type": "execute_result"
    }
   ],
   "source": [
    "df.dtypes"
   ]
  },
  {
   "cell_type": "code",
   "execution_count": 62,
   "id": "c56a934e",
   "metadata": {},
   "outputs": [
    {
     "data": {
      "text/html": [
       "<div>\n",
       "<style scoped>\n",
       "    .dataframe tbody tr th:only-of-type {\n",
       "        vertical-align: middle;\n",
       "    }\n",
       "\n",
       "    .dataframe tbody tr th {\n",
       "        vertical-align: top;\n",
       "    }\n",
       "\n",
       "    .dataframe thead th {\n",
       "        text-align: right;\n",
       "    }\n",
       "</style>\n",
       "<table border=\"1\" class=\"dataframe\">\n",
       "  <thead>\n",
       "    <tr style=\"text-align: right;\">\n",
       "      <th></th>\n",
       "      <th>Prix</th>\n",
       "      <th>Ville</th>\n",
       "      <th>Secteur</th>\n",
       "      <th>Etage</th>\n",
       "      <th>Surface habitable</th>\n",
       "      <th>NB Salons</th>\n",
       "      <th>NB Chambres</th>\n",
       "      <th>NB Salles de Bain</th>\n",
       "    </tr>\n",
       "  </thead>\n",
       "  <tbody>\n",
       "    <tr>\n",
       "      <th>0</th>\n",
       "      <td>1160000</td>\n",
       "      <td>El Jadida</td>\n",
       "      <td>Narjiss</td>\n",
       "      <td>1</td>\n",
       "      <td>229.0</td>\n",
       "      <td>3</td>\n",
       "      <td>6</td>\n",
       "      <td>2</td>\n",
       "    </tr>\n",
       "    <tr>\n",
       "      <th>1</th>\n",
       "      <td>360000</td>\n",
       "      <td>El Jadida</td>\n",
       "      <td>El Jadida</td>\n",
       "      <td>2</td>\n",
       "      <td>62.0</td>\n",
       "      <td>1</td>\n",
       "      <td>2</td>\n",
       "      <td>1</td>\n",
       "    </tr>\n",
       "    <tr>\n",
       "      <th>2</th>\n",
       "      <td>750000</td>\n",
       "      <td>El Jadida</td>\n",
       "      <td>Hay Essalam</td>\n",
       "      <td>2</td>\n",
       "      <td>92.0</td>\n",
       "      <td>1</td>\n",
       "      <td>3</td>\n",
       "      <td>1</td>\n",
       "    </tr>\n",
       "    <tr>\n",
       "      <th>3</th>\n",
       "      <td>2100000</td>\n",
       "      <td>Casablanca</td>\n",
       "      <td>Bourgogne</td>\n",
       "      <td>2</td>\n",
       "      <td>136.0</td>\n",
       "      <td>1</td>\n",
       "      <td>2</td>\n",
       "      <td>2</td>\n",
       "    </tr>\n",
       "    <tr>\n",
       "      <th>4</th>\n",
       "      <td>7400000</td>\n",
       "      <td>El Mansouria</td>\n",
       "      <td>El Mansouria</td>\n",
       "      <td>2</td>\n",
       "      <td>60.0</td>\n",
       "      <td>1</td>\n",
       "      <td>1</td>\n",
       "      <td>1</td>\n",
       "    </tr>\n",
       "  </tbody>\n",
       "</table>\n",
       "</div>"
      ],
      "text/plain": [
       "      Prix         Ville       Secteur  Etage  Surface habitable  NB Salons  \\\n",
       "0  1160000     El Jadida       Narjiss      1              229.0          3   \n",
       "1   360000     El Jadida     El Jadida      2               62.0          1   \n",
       "2   750000     El Jadida   Hay Essalam      2               92.0          1   \n",
       "3  2100000    Casablanca     Bourgogne      2              136.0          1   \n",
       "4  7400000  El Mansouria  El Mansouria      2               60.0          1   \n",
       "\n",
       "   NB Chambres  NB Salles de Bain  \n",
       "0            6                  2  \n",
       "1            2                  1  \n",
       "2            3                  1  \n",
       "3            2                  2  \n",
       "4            1                  1  "
      ]
     },
     "execution_count": 62,
     "metadata": {},
     "output_type": "execute_result"
    }
   ],
   "source": [
    "df.head()"
   ]
  },
  {
   "cell_type": "code",
   "execution_count": 63,
   "id": "737a46be",
   "metadata": {},
   "outputs": [
    {
     "name": "stderr",
     "output_type": "stream",
     "text": [
      "C:\\Users\\wailb\\AppData\\Local\\Temp\\ipykernel_10360\\3205624384.py:1: SettingWithCopyWarning: \n",
      "A value is trying to be set on a copy of a slice from a DataFrame.\n",
      "Try using .loc[row_indexer,col_indexer] = value instead\n",
      "\n",
      "See the caveats in the documentation: https://pandas.pydata.org/pandas-docs/stable/user_guide/indexing.html#returning-a-view-versus-a-copy\n",
      "  df['Surface habitable'] = df['Surface habitable'].astype(int)\n"
     ]
    }
   ],
   "source": [
    "df['Surface habitable'] = df['Surface habitable'].astype(int)"
   ]
  },
  {
   "cell_type": "code",
   "execution_count": 64,
   "id": "52c5fba6",
   "metadata": {},
   "outputs": [],
   "source": [
    "df = df[df['Surface habitable'] < 1000]"
   ]
  },
  {
   "cell_type": "code",
   "execution_count": 65,
   "id": "ac09763b",
   "metadata": {},
   "outputs": [],
   "source": [
    "df.to_csv(\"data.csv\")"
   ]
  },
  {
   "cell_type": "code",
   "execution_count": 66,
   "id": "47c489dd",
   "metadata": {},
   "outputs": [
    {
     "data": {
      "text/plain": [
       "191"
      ]
     },
     "execution_count": 66,
     "metadata": {},
     "output_type": "execute_result"
    }
   ],
   "source": [
    "df[\"Ville\"].nunique()"
   ]
  },
  {
   "cell_type": "code",
   "execution_count": 67,
   "id": "560094e8",
   "metadata": {},
   "outputs": [],
   "source": [
    "import numpy as np\n",
    "import pandas as pd\n",
    "from ydata_profiling import ProfileReport"
   ]
  },
  {
   "cell_type": "code",
   "execution_count": null,
   "id": "d727d354",
   "metadata": {},
   "outputs": [],
   "source": []
  },
  {
   "cell_type": "code",
   "execution_count": null,
   "id": "695c11f2",
   "metadata": {},
   "outputs": [],
   "source": []
  }
 ],
 "metadata": {
  "kernelspec": {
   "display_name": "Python 3 (ipykernel)",
   "language": "python",
   "name": "python3"
  },
  "language_info": {
   "codemirror_mode": {
    "name": "ipython",
    "version": 3
   },
   "file_extension": ".py",
   "mimetype": "text/x-python",
   "name": "python",
   "nbconvert_exporter": "python",
   "pygments_lexer": "ipython3",
   "version": "3.10.9"
  }
 },
 "nbformat": 4,
 "nbformat_minor": 5
}
