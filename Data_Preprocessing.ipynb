{
 "cells": [
  {
   "cell_type": "code",
   "execution_count": 1,
   "id": "d4f3f067",
   "metadata": {},
   "outputs": [],
   "source": [
    "import pandas as pd"
   ]
  },
  {
   "cell_type": "markdown",
   "id": "146a5cd2",
   "metadata": {},
   "source": [
    "# 1 - Load Data"
   ]
  },
  {
   "cell_type": "code",
   "execution_count": 2,
   "id": "701160a7",
   "metadata": {},
   "outputs": [],
   "source": [
    "df = pd.read_csv(\"Appartements.csv\")"
   ]
  },
  {
   "cell_type": "code",
   "execution_count": 3,
   "id": "64a0415a",
   "metadata": {},
   "outputs": [
    {
     "data": {
      "text/html": [
       "<div>\n",
       "<style scoped>\n",
       "    .dataframe tbody tr th:only-of-type {\n",
       "        vertical-align: middle;\n",
       "    }\n",
       "\n",
       "    .dataframe tbody tr th {\n",
       "        vertical-align: top;\n",
       "    }\n",
       "\n",
       "    .dataframe thead th {\n",
       "        text-align: right;\n",
       "    }\n",
       "</style>\n",
       "<table border=\"1\" class=\"dataframe\">\n",
       "  <thead>\n",
       "    <tr style=\"text-align: right;\">\n",
       "      <th></th>\n",
       "      <th>Titre</th>\n",
       "      <th>Prix</th>\n",
       "      <th>Ville</th>\n",
       "      <th>Type</th>\n",
       "      <th>Secteur</th>\n",
       "      <th>Etage</th>\n",
       "      <th>Age du bien</th>\n",
       "      <th>Surface habitable</th>\n",
       "      <th>NB Salons</th>\n",
       "      <th>NB Chambres</th>\n",
       "      <th>NB Salles de Bain</th>\n",
       "      <th>Frais de syndic / mois</th>\n",
       "      <th>Description</th>\n",
       "    </tr>\n",
       "  </thead>\n",
       "  <tbody>\n",
       "    <tr>\n",
       "      <th>0</th>\n",
       "      <td>Appartement 165m² narjiss à El Jadida</td>\n",
       "      <td>1 160 000 DH</td>\n",
       "      <td>El Jadida</td>\n",
       "      <td>Appartements, à vendre</td>\n",
       "      <td>Narjiss</td>\n",
       "      <td>1</td>\n",
       "      <td>NaN</td>\n",
       "      <td>229</td>\n",
       "      <td>3</td>\n",
       "      <td>6</td>\n",
       "      <td>2</td>\n",
       "      <td>NaN</td>\n",
       "      <td>un appart 115m2 et garçonnière 50m2 à vendre\\n...</td>\n",
       "    </tr>\n",
       "    <tr>\n",
       "      <th>1</th>\n",
       "      <td>Appartement à vendre 62 m² à El Jadida</td>\n",
       "      <td>360 000 DH</td>\n",
       "      <td>El Jadida</td>\n",
       "      <td>Appartements, à vendre</td>\n",
       "      <td>Autre secteur</td>\n",
       "      <td>2</td>\n",
       "      <td>6-10 ans</td>\n",
       "      <td>62</td>\n",
       "      <td>1</td>\n",
       "      <td>2</td>\n",
       "      <td>1</td>\n",
       "      <td>NaN</td>\n",
       "      <td>un appart 62m2 à vendre\\nappart au quartier hi...</td>\n",
       "    </tr>\n",
       "    <tr>\n",
       "      <th>2</th>\n",
       "      <td>Appartement hay essalam 92 m² à El Jadida</td>\n",
       "      <td>750 000 DH</td>\n",
       "      <td>El Jadida</td>\n",
       "      <td>Appartements, à vendre</td>\n",
       "      <td>Hay Essalam</td>\n",
       "      <td>2</td>\n",
       "      <td>6-10 ans</td>\n",
       "      <td>92</td>\n",
       "      <td>1</td>\n",
       "      <td>3</td>\n",
       "      <td>1</td>\n",
       "      <td>NaN</td>\n",
       "      <td>un appart 92m2 à vendre\\nappart au quartier sa...</td>\n",
       "    </tr>\n",
       "    <tr>\n",
       "      <th>3</th>\n",
       "      <td>Appartement 110m² 2ème étg. résd. fermée Corniche</td>\n",
       "      <td>2 100 000 DH</td>\n",
       "      <td>Casablanca</td>\n",
       "      <td>Appartements, à vendre</td>\n",
       "      <td>Bourgogne</td>\n",
       "      <td>2</td>\n",
       "      <td>1-5 ans</td>\n",
       "      <td>136</td>\n",
       "      <td>1</td>\n",
       "      <td>2</td>\n",
       "      <td>2</td>\n",
       "      <td>500.0</td>\n",
       "      <td>Appartement moderne 110m² au 2ème étg. en rési...</td>\n",
       "    </tr>\n",
       "    <tr>\n",
       "      <th>4</th>\n",
       "      <td>app a vendre</td>\n",
       "      <td>7 400 000 DH</td>\n",
       "      <td>El Mansouria</td>\n",
       "      <td>Appartements, à vendre</td>\n",
       "      <td>Toute la ville</td>\n",
       "      <td>2</td>\n",
       "      <td>Neuf</td>\n",
       "      <td>60</td>\n",
       "      <td>1</td>\n",
       "      <td>1</td>\n",
       "      <td>1</td>\n",
       "      <td>450.0</td>\n",
       "      <td>vendre un belle appartement vie sur piscine et...</td>\n",
       "    </tr>\n",
       "    <tr>\n",
       "      <th>...</th>\n",
       "      <td>...</td>\n",
       "      <td>...</td>\n",
       "      <td>...</td>\n",
       "      <td>...</td>\n",
       "      <td>...</td>\n",
       "      <td>...</td>\n",
       "      <td>...</td>\n",
       "      <td>...</td>\n",
       "      <td>...</td>\n",
       "      <td>...</td>\n",
       "      <td>...</td>\n",
       "      <td>...</td>\n",
       "      <td>...</td>\n",
       "    </tr>\n",
       "    <tr>\n",
       "      <th>33316</th>\n",
       "      <td>Appartement 75m² en Vente à Larache</td>\n",
       "      <td>360 000 DH</td>\n",
       "      <td>Larache</td>\n",
       "      <td>Appartements, à vendre</td>\n",
       "      <td>Toute la ville</td>\n",
       "      <td>1</td>\n",
       "      <td>1-5 ans</td>\n",
       "      <td>75</td>\n",
       "      <td>1</td>\n",
       "      <td>2</td>\n",
       "      <td>1</td>\n",
       "      <td>180.0</td>\n",
       "      <td>Appartement en vente\\n\\nPrix 36 malion</td>\n",
       "    </tr>\n",
       "    <tr>\n",
       "      <th>33317</th>\n",
       "      <td>Appartement en Vente à Farah Agadir</td>\n",
       "      <td>350 000 DH</td>\n",
       "      <td>Agadir</td>\n",
       "      <td>Appartements, à vendre</td>\n",
       "      <td>Hay Al Farah</td>\n",
       "      <td>1</td>\n",
       "      <td>NaN</td>\n",
       "      <td>58</td>\n",
       "      <td>1</td>\n",
       "      <td>2</td>\n",
       "      <td>1</td>\n",
       "      <td>NaN</td>\n",
       "      <td>SERVICE CHERKI met en vente un appartement d'u...</td>\n",
       "    </tr>\n",
       "    <tr>\n",
       "      <th>33318</th>\n",
       "      <td>garçonnière</td>\n",
       "      <td>180 000 DH</td>\n",
       "      <td>Casablanca</td>\n",
       "      <td>Appartements, à vendre</td>\n",
       "      <td>Ben M'sick</td>\n",
       "      <td>4</td>\n",
       "      <td>NaN</td>\n",
       "      <td>NaN</td>\n",
       "      <td>1</td>\n",
       "      <td>1</td>\n",
       "      <td>1</td>\n",
       "      <td>NaN</td>\n",
       "      <td>garçonnière au quatrième étage. tetri</td>\n",
       "    </tr>\n",
       "    <tr>\n",
       "      <th>33319</th>\n",
       "      <td>شقة مجهزة</td>\n",
       "      <td>125 000 DH</td>\n",
       "      <td>Agadir</td>\n",
       "      <td>Appartements, à vendre</td>\n",
       "      <td>Hay Salam</td>\n",
       "      <td>1</td>\n",
       "      <td>6-10 ans</td>\n",
       "      <td>122</td>\n",
       "      <td>1</td>\n",
       "      <td>3</td>\n",
       "      <td>2</td>\n",
       "      <td>1.0</td>\n",
       "      <td>شقة مجهزة للبيع حي السلام بالقرب من جميع المرا...</td>\n",
       "    </tr>\n",
       "    <tr>\n",
       "      <th>33320</th>\n",
       "      <td>شقة جديدة في سهب الورد فاس في حي الطلبة .</td>\n",
       "      <td>159 000 DH</td>\n",
       "      <td>Fès</td>\n",
       "      <td>Appartements, à vendre</td>\n",
       "      <td>Sehb El Ward</td>\n",
       "      <td>4</td>\n",
       "      <td>Neuf</td>\n",
       "      <td>71</td>\n",
       "      <td>1</td>\n",
       "      <td>2</td>\n",
       "      <td>1</td>\n",
       "      <td>71.0</td>\n",
       "      <td>شقة جديدة في سهب الورد فاس في حي الطلبة .\\nالم...</td>\n",
       "    </tr>\n",
       "  </tbody>\n",
       "</table>\n",
       "<p>33321 rows × 13 columns</p>\n",
       "</div>"
      ],
      "text/plain": [
       "                                                   Titre          Prix  \\\n",
       "0                  Appartement 165m² narjiss à El Jadida  1 160 000 DH   \n",
       "1                 Appartement à vendre 62 m² à El Jadida    360 000 DH   \n",
       "2              Appartement hay essalam 92 m² à El Jadida    750 000 DH   \n",
       "3      Appartement 110m² 2ème étg. résd. fermée Corniche  2 100 000 DH   \n",
       "4                                           app a vendre  7 400 000 DH   \n",
       "...                                                  ...           ...   \n",
       "33316                Appartement 75m² en Vente à Larache    360 000 DH   \n",
       "33317                Appartement en Vente à Farah Agadir    350 000 DH   \n",
       "33318                                        garçonnière    180 000 DH   \n",
       "33319                                          شقة مجهزة    125 000 DH   \n",
       "33320          شقة جديدة في سهب الورد فاس في حي الطلبة .    159 000 DH   \n",
       "\n",
       "              Ville                    Type         Secteur Etage Age du bien  \\\n",
       "0         El Jadida  Appartements, à vendre         Narjiss     1         NaN   \n",
       "1         El Jadida  Appartements, à vendre   Autre secteur     2    6-10 ans   \n",
       "2         El Jadida  Appartements, à vendre     Hay Essalam     2    6-10 ans   \n",
       "3        Casablanca  Appartements, à vendre       Bourgogne     2     1-5 ans   \n",
       "4      El Mansouria  Appartements, à vendre  Toute la ville     2        Neuf   \n",
       "...             ...                     ...             ...   ...         ...   \n",
       "33316       Larache  Appartements, à vendre  Toute la ville     1     1-5 ans   \n",
       "33317        Agadir  Appartements, à vendre    Hay Al Farah     1         NaN   \n",
       "33318    Casablanca  Appartements, à vendre      Ben M'sick     4         NaN   \n",
       "33319        Agadir  Appartements, à vendre       Hay Salam     1    6-10 ans   \n",
       "33320           Fès  Appartements, à vendre    Sehb El Ward     4        Neuf   \n",
       "\n",
       "      Surface habitable NB Salons NB Chambres NB Salles de Bain  \\\n",
       "0                   229         3           6                 2   \n",
       "1                    62         1           2                 1   \n",
       "2                    92         1           3                 1   \n",
       "3                   136         1           2                 2   \n",
       "4                    60         1           1                 1   \n",
       "...                 ...       ...         ...               ...   \n",
       "33316                75         1           2                 1   \n",
       "33317                58         1           2                 1   \n",
       "33318               NaN         1           1                 1   \n",
       "33319               122         1           3                 2   \n",
       "33320                71         1           2                 1   \n",
       "\n",
       "       Frais de syndic / mois  \\\n",
       "0                         NaN   \n",
       "1                         NaN   \n",
       "2                         NaN   \n",
       "3                       500.0   \n",
       "4                       450.0   \n",
       "...                       ...   \n",
       "33316                   180.0   \n",
       "33317                     NaN   \n",
       "33318                     NaN   \n",
       "33319                     1.0   \n",
       "33320                    71.0   \n",
       "\n",
       "                                             Description  \n",
       "0      un appart 115m2 et garçonnière 50m2 à vendre\\n...  \n",
       "1      un appart 62m2 à vendre\\nappart au quartier hi...  \n",
       "2      un appart 92m2 à vendre\\nappart au quartier sa...  \n",
       "3      Appartement moderne 110m² au 2ème étg. en rési...  \n",
       "4      vendre un belle appartement vie sur piscine et...  \n",
       "...                                                  ...  \n",
       "33316             Appartement en vente\\n\\nPrix 36 malion  \n",
       "33317  SERVICE CHERKI met en vente un appartement d'u...  \n",
       "33318              garçonnière au quatrième étage. tetri  \n",
       "33319  شقة مجهزة للبيع حي السلام بالقرب من جميع المرا...  \n",
       "33320  شقة جديدة في سهب الورد فاس في حي الطلبة .\\nالم...  \n",
       "\n",
       "[33321 rows x 13 columns]"
      ]
     },
     "execution_count": 3,
     "metadata": {},
     "output_type": "execute_result"
    }
   ],
   "source": [
    "df"
   ]
  },
  {
   "cell_type": "code",
   "execution_count": 4,
   "id": "86f6749e",
   "metadata": {},
   "outputs": [
    {
     "data": {
      "text/plain": [
       "Titre                      object\n",
       "Prix                       object\n",
       "Ville                      object\n",
       "Type                       object\n",
       "Secteur                    object\n",
       "Etage                      object\n",
       "Age du bien                object\n",
       "Surface habitable          object\n",
       "NB Salons                  object\n",
       "NB Chambres                object\n",
       "NB Salles de Bain          object\n",
       "Frais de syndic / mois    float64\n",
       "Description                object\n",
       "dtype: object"
      ]
     },
     "execution_count": 4,
     "metadata": {},
     "output_type": "execute_result"
    }
   ],
   "source": [
    "df.dtypes"
   ]
  },
  {
   "cell_type": "markdown",
   "id": "3b8258eb",
   "metadata": {},
   "source": [
    "### Duplicates"
   ]
  },
  {
   "cell_type": "code",
   "execution_count": 5,
   "id": "1cce9e50",
   "metadata": {},
   "outputs": [
    {
     "data": {
      "text/plain": [
       "1814"
      ]
     },
     "execution_count": 5,
     "metadata": {},
     "output_type": "execute_result"
    }
   ],
   "source": [
    "df.duplicated().sum()"
   ]
  },
  {
   "cell_type": "code",
   "execution_count": 6,
   "id": "f8a2ce08",
   "metadata": {},
   "outputs": [],
   "source": [
    "df.drop_duplicates(inplace = True)"
   ]
  },
  {
   "cell_type": "markdown",
   "id": "2e096b36",
   "metadata": {},
   "source": [
    "### Null rows"
   ]
  },
  {
   "cell_type": "code",
   "execution_count": 7,
   "id": "58c26f3e",
   "metadata": {},
   "outputs": [
    {
     "data": {
      "text/plain": [
       "Titre                         1\n",
       "Prix                          1\n",
       "Ville                         4\n",
       "Type                          1\n",
       "Secteur                     355\n",
       "Etage                       615\n",
       "Age du bien                6686\n",
       "Surface habitable           618\n",
       "NB Salons                  1264\n",
       "NB Chambres                 383\n",
       "NB Salles de Bain          1237\n",
       "Frais de syndic / mois    19452\n",
       "Description                   3\n",
       "dtype: int64"
      ]
     },
     "execution_count": 7,
     "metadata": {},
     "output_type": "execute_result"
    }
   ],
   "source": [
    "df.isnull().sum()"
   ]
  },
  {
   "cell_type": "code",
   "execution_count": 8,
   "id": "6aa457ae",
   "metadata": {},
   "outputs": [
    {
     "data": {
      "text/plain": [
       "30620"
      ]
     },
     "execution_count": 8,
     "metadata": {},
     "output_type": "execute_result"
    }
   ],
   "source": [
    "df.isnull().sum().sum()"
   ]
  },
  {
   "cell_type": "code",
   "execution_count": 10,
   "id": "d252d443",
   "metadata": {},
   "outputs": [
    {
     "name": "stdout",
     "output_type": "stream",
     "text": [
      "Collecting missingno\n",
      "  Downloading missingno-0.5.2-py3-none-any.whl (8.7 kB)\n",
      "Requirement already satisfied: numpy in c:\\users\\wailb\\anaconda3\\lib\\site-packages (from missingno) (1.24.3)\n",
      "Requirement already satisfied: matplotlib in c:\\users\\wailb\\anaconda3\\lib\\site-packages (from missingno) (3.7.2)\n",
      "Requirement already satisfied: scipy in c:\\users\\wailb\\anaconda3\\lib\\site-packages (from missingno) (1.11.1)\n",
      "Requirement already satisfied: seaborn in c:\\users\\wailb\\anaconda3\\lib\\site-packages (from missingno) (0.12.2)\n",
      "Requirement already satisfied: contourpy>=1.0.1 in c:\\users\\wailb\\anaconda3\\lib\\site-packages (from matplotlib->missingno) (1.0.5)\n",
      "Requirement already satisfied: cycler>=0.10 in c:\\users\\wailb\\anaconda3\\lib\\site-packages (from matplotlib->missingno) (0.11.0)\n",
      "Requirement already satisfied: fonttools>=4.22.0 in c:\\users\\wailb\\anaconda3\\lib\\site-packages (from matplotlib->missingno) (4.25.0)\n",
      "Requirement already satisfied: kiwisolver>=1.0.1 in c:\\users\\wailb\\anaconda3\\lib\\site-packages (from matplotlib->missingno) (1.4.4)\n",
      "Requirement already satisfied: packaging>=20.0 in c:\\users\\wailb\\anaconda3\\lib\\site-packages (from matplotlib->missingno) (23.1)\n",
      "Requirement already satisfied: pillow>=6.2.0 in c:\\users\\wailb\\anaconda3\\lib\\site-packages (from matplotlib->missingno) (9.4.0)\n",
      "Requirement already satisfied: pyparsing<3.1,>=2.3.1 in c:\\users\\wailb\\anaconda3\\lib\\site-packages (from matplotlib->missingno) (3.0.9)\n",
      "Requirement already satisfied: python-dateutil>=2.7 in c:\\users\\wailb\\anaconda3\\lib\\site-packages (from matplotlib->missingno) (2.8.2)\n",
      "Requirement already satisfied: pandas>=0.25 in c:\\users\\wailb\\anaconda3\\lib\\site-packages (from seaborn->missingno) (2.0.3)\n",
      "Requirement already satisfied: pytz>=2020.1 in c:\\users\\wailb\\anaconda3\\lib\\site-packages (from pandas>=0.25->seaborn->missingno) (2023.3.post1)\n",
      "Requirement already satisfied: tzdata>=2022.1 in c:\\users\\wailb\\anaconda3\\lib\\site-packages (from pandas>=0.25->seaborn->missingno) (2023.3)\n",
      "Requirement already satisfied: six>=1.5 in c:\\users\\wailb\\anaconda3\\lib\\site-packages (from python-dateutil>=2.7->matplotlib->missingno) (1.16.0)\n",
      "Installing collected packages: missingno\n",
      "Successfully installed missingno-0.5.2\n"
     ]
    }
   ],
   "source": [
    "!pip install missingno"
   ]
  },
  {
   "cell_type": "code",
   "execution_count": 11,
   "id": "3343f701",
   "metadata": {
    "scrolled": true
   },
   "outputs": [
    {
     "data": {
      "text/plain": [
       "<Axes: >"
      ]
     },
     "execution_count": 11,
     "metadata": {},
     "output_type": "execute_result"
    },
    {
     "data": {
      "image/png": "[encoded data removed]",
      "text/plain": [
       "<Figure size 2500x1000 with 3 Axes>"
      ]
     },
     "metadata": {},
     "output_type": "display_data"
    }
   ],
   "source": [
    "import missingno as msno\n",
    "msno.bar(df)"
   ]
  },
  {
   "cell_type": "markdown",
   "id": "1560ac83",
   "metadata": {},
   "source": [
    "### Drope ( Frais de syndic / mois  -  Age du bien  -  Type  -  Titre  -  Description) Columns"
   ]
  },
  {
   "cell_type": "code",
   "execution_count": 12,
   "id": "8ad8340d",
   "metadata": {},
   "outputs": [],
   "source": [
    "df = df.drop(\"Frais de syndic / mois\", axis='columns')"
   ]
  },
  {
   "cell_type": "code",
   "execution_count": 13,
   "id": "9925ac24",
   "metadata": {},
   "outputs": [],
   "source": [
    "df = df.drop(\"Age du bien\", axis='columns')"
   ]
  },
  {
   "cell_type": "code",
   "execution_count": 14,
   "id": "dcbe7446",
   "metadata": {},
   "outputs": [],
   "source": [
    "df = df.drop(\"Type\", axis='columns')"
   ]
  },
  {
   "cell_type": "code",
   "execution_count": 15,
   "id": "68a5ce93",
   "metadata": {},
   "outputs": [],
   "source": [
    "df = df.drop(\"Titre\", axis='columns')"
   ]
  },
  {
   "cell_type": "code",
   "execution_count": 16,
   "id": "b1e78542",
   "metadata": {},
   "outputs": [],
   "source": [
    "df = df.drop(\"Description\", axis='columns')"
   ]
  },
  {
   "cell_type": "markdown",
   "id": "fa752c0d",
   "metadata": {},
   "source": [
    "### Remove rows with 'Secteur', 'Etage', 'Surface habitable', 'NB Salons', 'NB Chambres', 'NB Salles de Bain' Null"
   ]
  },
  {
   "cell_type": "code",
   "execution_count": 17,
   "id": "c06448c1",
   "metadata": {},
   "outputs": [],
   "source": [
    "columns_to_check = ['Secteur', 'Etage', 'Surface habitable', 'NB Salons', 'NB Chambres', 'NB Salles de Bain']\n",
    "df.dropna(subset=columns_to_check, how='all', inplace=True)"
   ]
  },
  {
   "cell_type": "code",
   "execution_count": 18,
   "id": "6d13aad0",
   "metadata": {},
   "outputs": [
    {
     "data": {
      "text/html": [
       "<div>\n",
       "<style scoped>\n",
       "    .dataframe tbody tr th:only-of-type {\n",
       "        vertical-align: middle;\n",
       "    }\n",
       "\n",
       "    .dataframe tbody tr th {\n",
       "        vertical-align: top;\n",
       "    }\n",
       "\n",
       "    .dataframe thead th {\n",
       "        text-align: right;\n",
       "    }\n",
       "</style>\n",
       "<table border=\"1\" class=\"dataframe\">\n",
       "  <thead>\n",
       "    <tr style=\"text-align: right;\">\n",
       "      <th></th>\n",
       "      <th>Prix</th>\n",
       "      <th>Ville</th>\n",
       "      <th>Secteur</th>\n",
       "      <th>Etage</th>\n",
       "      <th>Surface habitable</th>\n",
       "      <th>NB Salons</th>\n",
       "      <th>NB Chambres</th>\n",
       "      <th>NB Salles de Bain</th>\n",
       "    </tr>\n",
       "  </thead>\n",
       "  <tbody>\n",
       "    <tr>\n",
       "      <th>0</th>\n",
       "      <td>1 160 000 DH</td>\n",
       "      <td>El Jadida</td>\n",
       "      <td>Narjiss</td>\n",
       "      <td>1</td>\n",
       "      <td>229</td>\n",
       "      <td>3</td>\n",
       "      <td>6</td>\n",
       "      <td>2</td>\n",
       "    </tr>\n",
       "    <tr>\n",
       "      <th>1</th>\n",
       "      <td>360 000 DH</td>\n",
       "      <td>El Jadida</td>\n",
       "      <td>Autre secteur</td>\n",
       "      <td>2</td>\n",
       "      <td>62</td>\n",
       "      <td>1</td>\n",
       "      <td>2</td>\n",
       "      <td>1</td>\n",
       "    </tr>\n",
       "    <tr>\n",
       "      <th>2</th>\n",
       "      <td>750 000 DH</td>\n",
       "      <td>El Jadida</td>\n",
       "      <td>Hay Essalam</td>\n",
       "      <td>2</td>\n",
       "      <td>92</td>\n",
       "      <td>1</td>\n",
       "      <td>3</td>\n",
       "      <td>1</td>\n",
       "    </tr>\n",
       "    <tr>\n",
       "      <th>3</th>\n",
       "      <td>2 100 000 DH</td>\n",
       "      <td>Casablanca</td>\n",
       "      <td>Bourgogne</td>\n",
       "      <td>2</td>\n",
       "      <td>136</td>\n",
       "      <td>1</td>\n",
       "      <td>2</td>\n",
       "      <td>2</td>\n",
       "    </tr>\n",
       "    <tr>\n",
       "      <th>4</th>\n",
       "      <td>7 400 000 DH</td>\n",
       "      <td>El Mansouria</td>\n",
       "      <td>Toute la ville</td>\n",
       "      <td>2</td>\n",
       "      <td>60</td>\n",
       "      <td>1</td>\n",
       "      <td>1</td>\n",
       "      <td>1</td>\n",
       "    </tr>\n",
       "    <tr>\n",
       "      <th>...</th>\n",
       "      <td>...</td>\n",
       "      <td>...</td>\n",
       "      <td>...</td>\n",
       "      <td>...</td>\n",
       "      <td>...</td>\n",
       "      <td>...</td>\n",
       "      <td>...</td>\n",
       "      <td>...</td>\n",
       "    </tr>\n",
       "    <tr>\n",
       "      <th>33316</th>\n",
       "      <td>360 000 DH</td>\n",
       "      <td>Larache</td>\n",
       "      <td>Toute la ville</td>\n",
       "      <td>1</td>\n",
       "      <td>75</td>\n",
       "      <td>1</td>\n",
       "      <td>2</td>\n",
       "      <td>1</td>\n",
       "    </tr>\n",
       "    <tr>\n",
       "      <th>33317</th>\n",
       "      <td>350 000 DH</td>\n",
       "      <td>Agadir</td>\n",
       "      <td>Hay Al Farah</td>\n",
       "      <td>1</td>\n",
       "      <td>58</td>\n",
       "      <td>1</td>\n",
       "      <td>2</td>\n",
       "      <td>1</td>\n",
       "    </tr>\n",
       "    <tr>\n",
       "      <th>33318</th>\n",
       "      <td>180 000 DH</td>\n",
       "      <td>Casablanca</td>\n",
       "      <td>Ben M'sick</td>\n",
       "      <td>4</td>\n",
       "      <td>NaN</td>\n",
       "      <td>1</td>\n",
       "      <td>1</td>\n",
       "      <td>1</td>\n",
       "    </tr>\n",
       "    <tr>\n",
       "      <th>33319</th>\n",
       "      <td>125 000 DH</td>\n",
       "      <td>Agadir</td>\n",
       "      <td>Hay Salam</td>\n",
       "      <td>1</td>\n",
       "      <td>122</td>\n",
       "      <td>1</td>\n",
       "      <td>3</td>\n",
       "      <td>2</td>\n",
       "    </tr>\n",
       "    <tr>\n",
       "      <th>33320</th>\n",
       "      <td>159 000 DH</td>\n",
       "      <td>Fès</td>\n",
       "      <td>Sehb El Ward</td>\n",
       "      <td>4</td>\n",
       "      <td>71</td>\n",
       "      <td>1</td>\n",
       "      <td>2</td>\n",
       "      <td>1</td>\n",
       "    </tr>\n",
       "  </tbody>\n",
       "</table>\n",
       "<p>31495 rows × 8 columns</p>\n",
       "</div>"
      ],
      "text/plain": [
       "               Prix         Ville         Secteur Etage Surface habitable  \\\n",
       "0      1 160 000 DH     El Jadida         Narjiss     1               229   \n",
       "1        360 000 DH     El Jadida   Autre secteur     2                62   \n",
       "2        750 000 DH     El Jadida     Hay Essalam     2                92   \n",
       "3      2 100 000 DH    Casablanca       Bourgogne     2               136   \n",
       "4      7 400 000 DH  El Mansouria  Toute la ville     2                60   \n",
       "...             ...           ...             ...   ...               ...   \n",
       "33316    360 000 DH       Larache  Toute la ville     1                75   \n",
       "33317    350 000 DH        Agadir    Hay Al Farah     1                58   \n",
       "33318    180 000 DH    Casablanca      Ben M'sick     4               NaN   \n",
       "33319    125 000 DH        Agadir       Hay Salam     1               122   \n",
       "33320    159 000 DH           Fès    Sehb El Ward     4                71   \n",
       "\n",
       "      NB Salons NB Chambres NB Salles de Bain  \n",
       "0             3           6                 2  \n",
       "1             1           2                 1  \n",
       "2             1           3                 1  \n",
       "3             1           2                 2  \n",
       "4             1           1                 1  \n",
       "...         ...         ...               ...  \n",
       "33316         1           2                 1  \n",
       "33317         1           2                 1  \n",
       "33318         1           1                 1  \n",
       "33319         1           3                 2  \n",
       "33320         1           2                 1  \n",
       "\n",
       "[31495 rows x 8 columns]"
      ]
     },
     "execution_count": 18,
     "metadata": {},
     "output_type": "execute_result"
    }
   ],
   "source": [
    "df"
   ]
  },
  {
   "cell_type": "code",
   "execution_count": 19,
   "id": "b55fddf6",
   "metadata": {},
   "outputs": [
    {
     "data": {
      "text/plain": [
       "Prix                    0\n",
       "Ville                   3\n",
       "Secteur               343\n",
       "Etage                 603\n",
       "Surface habitable     606\n",
       "NB Salons            1252\n",
       "NB Chambres           371\n",
       "NB Salles de Bain    1225\n",
       "dtype: int64"
      ]
     },
     "execution_count": 19,
     "metadata": {},
     "output_type": "execute_result"
    }
   ],
   "source": [
    "df.isnull().sum()"
   ]
  },
  {
   "cell_type": "markdown",
   "id": "7206a514",
   "metadata": {},
   "source": [
    "## 1 - Prix"
   ]
  },
  {
   "cell_type": "code",
   "execution_count": 20,
   "id": "d47887c1",
   "metadata": {},
   "outputs": [
    {
     "data": {
      "text/plain": [
       "0"
      ]
     },
     "execution_count": 20,
     "metadata": {},
     "output_type": "execute_result"
    }
   ],
   "source": [
    "df['Prix'].isnull().sum()"
   ]
  },
  {
   "cell_type": "code",
   "execution_count": 21,
   "id": "99c87026",
   "metadata": {},
   "outputs": [
    {
     "data": {
      "text/plain": [
       "7087"
      ]
     },
     "execution_count": 21,
     "metadata": {},
     "output_type": "execute_result"
    }
   ],
   "source": [
    "len(df[df['Prix'] == 'PRIX NON SPÉCIFIÉ'])"
   ]
  },
  {
   "cell_type": "markdown",
   "id": "e5409b48",
   "metadata": {},
   "source": [
    "#### Drop all rows with Prix == PRIX NON SPÉCIFIÉ"
   ]
  },
  {
   "cell_type": "code",
   "execution_count": 22,
   "id": "9ffc0fa5",
   "metadata": {},
   "outputs": [
    {
     "data": {
      "text/plain": [
       "0"
      ]
     },
     "execution_count": 22,
     "metadata": {},
     "output_type": "execute_result"
    }
   ],
   "source": [
    "df = df[df['Prix'] != 'PRIX NON SPÉCIFIÉ']\n",
    "len(df[df['Prix'] == 'PRIX NON SPÉCIFIÉ'])"
   ]
  },
  {
   "cell_type": "markdown",
   "id": "98f007bb",
   "metadata": {},
   "source": [
    "#### Convert Prix to int"
   ]
  },
  {
   "cell_type": "code",
   "execution_count": 23,
   "id": "3ef44cb5",
   "metadata": {},
   "outputs": [
    {
     "name": "stderr",
     "output_type": "stream",
     "text": [
      "C:\\Users\\wailb\\AppData\\Local\\Temp\\ipykernel_8524\\853350707.py:1: SettingWithCopyWarning: \n",
      "A value is trying to be set on a copy of a slice from a DataFrame.\n",
      "Try using .loc[row_indexer,col_indexer] = value instead\n",
      "\n",
      "See the caveats in the documentation: https://pandas.pydata.org/pandas-docs/stable/user_guide/indexing.html#returning-a-view-versus-a-copy\n",
      "  df['Prix'] = df['Prix'].str.replace(' DH', '').str.replace(' ', '').str.replace(' ', '').astype(int)\n"
     ]
    }
   ],
   "source": [
    "df['Prix'] = df['Prix'].str.replace(' DH', '').str.replace(' ', '').str.replace(' ', '').astype(int)"
   ]
  },
  {
   "cell_type": "code",
   "execution_count": 24,
   "id": "c804b79c",
   "metadata": {},
   "outputs": [
    {
     "data": {
      "text/plain": [
       "750000000"
      ]
     },
     "execution_count": 24,
     "metadata": {},
     "output_type": "execute_result"
    }
   ],
   "source": [
    "df['Prix'].max()"
   ]
  },
  {
   "cell_type": "code",
   "execution_count": 25,
   "id": "9ac40435",
   "metadata": {},
   "outputs": [
    {
     "data": {
      "text/plain": [
       "1"
      ]
     },
     "execution_count": 25,
     "metadata": {},
     "output_type": "execute_result"
    }
   ],
   "source": [
    "df['Prix'].min()"
   ]
  },
  {
   "cell_type": "code",
   "execution_count": 26,
   "id": "f3b4f2e0",
   "metadata": {},
   "outputs": [
    {
     "data": {
      "text/plain": [
       "600000.0"
      ]
     },
     "execution_count": 26,
     "metadata": {},
     "output_type": "execute_result"
    }
   ],
   "source": [
    "df['Prix'].median()"
   ]
  },
  {
   "cell_type": "code",
   "execution_count": 27,
   "id": "c4532d04",
   "metadata": {},
   "outputs": [
    {
     "data": {
      "text/plain": [
       "1128454.5510488364"
      ]
     },
     "execution_count": 27,
     "metadata": {},
     "output_type": "execute_result"
    }
   ],
   "source": [
    "df['Prix'].mean()"
   ]
  },
  {
   "cell_type": "code",
   "execution_count": 72,
   "id": "7365bbeb",
   "metadata": {},
   "outputs": [],
   "source": [
    "df = df[df['Prix'] < 1800000]"
   ]
  },
  {
   "cell_type": "code",
   "execution_count": 29,
   "id": "47305df1",
   "metadata": {},
   "outputs": [],
   "source": [
    "df = df[df['Prix'] > 200000]"
   ]
  },
  {
   "cell_type": "code",
   "execution_count": null,
   "id": "6d10b4de",
   "metadata": {},
   "outputs": [],
   "source": []
  },
  {
   "cell_type": "markdown",
   "id": "0941f8e0",
   "metadata": {},
   "source": [
    "## 2 - Ville"
   ]
  },
  {
   "cell_type": "code",
   "execution_count": 30,
   "id": "df709958",
   "metadata": {},
   "outputs": [
    {
     "data": {
      "text/plain": [
       "2"
      ]
     },
     "execution_count": 30,
     "metadata": {},
     "output_type": "execute_result"
    }
   ],
   "source": [
    "df['Ville'].isnull().sum()"
   ]
  },
  {
   "cell_type": "code",
   "execution_count": 31,
   "id": "5aa3ad10",
   "metadata": {},
   "outputs": [],
   "source": [
    "df['Ville'] = df['Ville'].astype(str)"
   ]
  },
  {
   "cell_type": "code",
   "execution_count": 32,
   "id": "9b2d74a4",
   "metadata": {},
   "outputs": [
    {
     "data": {
      "text/plain": [
       "array(['El Jadida', 'Deroua', 'El Mansouria', 'Marrakech', 'Rabat',\n",
       "       'Oujda', 'Casablanca', 'Bouskoura', 'Tanger', 'Temara', 'Agadir',\n",
       "       'Sidi Rahal', 'Tamesna', 'Mohammedia', 'Sidi Kacem', 'Salé',\n",
       "       'Béni Mellal', 'Kénitra', 'Mehdia', 'Nador', 'Fès', 'Martil',\n",
       "       'Fnideq', 'Bouznika', 'Tétouan', 'Cabo Negro', 'Skhirat',\n",
       "       'Larache', 'Dar Bouazza', 'Saidia', 'Safi', 'Ain Harrouda',\n",
       "       'Benslimane', 'Sidi Bouknadel', 'Settat', 'Meknès', 'Ain Attig',\n",
       "       'Tamaris', 'Khemisset', 'Drargua', 'Berrechid', 'Agadir Melloul',\n",
       "       'Tifelt', 'Tit Mellil', 'Errahma', 'Ras el Ma', 'Mdiq',\n",
       "       'Essaouira', 'Ain Aouda', 'Oualidia', 'Tamensourt', 'Ait Melloul',\n",
       "       'Midelt', 'Oued Laou', 'Had Soualem', 'Sefrou', 'Taroudant',\n",
       "       'Azemmour', 'Asilah', 'Ouled Teïma', 'Selouane', 'Mediouna',\n",
       "       'Ifrane', 'Al Hoceïma', 'Sidi Bouzid', 'Taza', 'Lqliaa',\n",
       "       'Sidi Slimane', 'Dcheïra El Jihadia', 'El Hajeb', 'Laâyoune',\n",
       "       'Bir Jdid', 'Nouaceur', 'Azrou', 'Oued Zem', 'Taourirt',\n",
       "       'Fquih Ben Saleh', 'Sidi Abdallah El Bouchouari', 'Mirleft',\n",
       "       'Dakhla', 'Khouribga', 'Oulad Salah', 'El Kelâa des Sraghna',\n",
       "       'Tiznit', 'Lamharza Essahel', 'Errachidia', 'Ksar el-Kebir',\n",
       "       'Imouzzer-Kendar', 'Biougra', 'Sidi Allal El Bahraoui',\n",
       "       'Chefchaouen', 'Ben Guerir', 'Berkane', 'El Gara', 'Ouarzazate',\n",
       "       'Imouzzer', 'Chellalate', 'Béni Yakhlef', 'Sidi Bennour',\n",
       "       'Dcheira', 'Moulay Bousselham', 'Gzenaya Al Janoubia',\n",
       "       'Ifrane Atlas Saghir', 'Zemamra', 'Inzegan', 'Guelmim', 'Gueznaia',\n",
       "       'Sidi Yahya Zaer', 'Taounate', 'Boufkrane', 'Aghbalou',\n",
       "       'Ait Ourir', 'Ksar es-Seghir', 'Imzouren', 'Zaïo', 'Jamaat Shaim',\n",
       "       'Oulmes', 'Jorf El Melha', 'Mansoura', 'Tahannaout', 'Ouazzane',\n",
       "       'Souk El Arbaa', 'Daoura', 'Machraa El Ain', 'Ain Karma',\n",
       "       'Al Aaroui', 'nan', \"Mrir't\", 'Ouislane', 'Khénifra', 'Ourika',\n",
       "       'Mers El Kheir', 'Sidi Hajjaj Oued Hassar', 'Ain Taoujdate',\n",
       "       'Meknassa Al Gharbia', 'Targuist', 'Tizgane', 'Sidi Taibi',\n",
       "       'Ahfir', 'Sabaa Aiyoun', 'Souk Sebt Ouled Nemma',\n",
       "       'Aquouass Briech', 'Skhinate', 'Laattaouia', 'Mechra Bel Ksiri',\n",
       "       'Meknassa Acharqia', 'Bhalil', 'Zeghanghane', 'Ain Cheggag',\n",
       "       'Afourar', 'Tahla', 'Sidi Bibi', 'Azilal', 'Demnate',\n",
       "       'Moulay Abdallah', 'Lamaachate', 'Guercif', 'Haouzia', 'Laaounate',\n",
       "       'Tangarfa', 'Bouanane', 'Sidi Bettache', 'Ain Tizgha',\n",
       "       'Bir Tam Tam', 'Aourir', 'Temsia', 'Chichaoua', 'Talsint',\n",
       "       'Boujniba', 'Massa', 'Aarab Sebbah Gheris', 'Sidi Moussa Ben Ali',\n",
       "       'Lahraouyine', 'Missour', 'Boukhalef', 'Tikiouine', 'Taghazout',\n",
       "       'Tan-Tan', 'Oulad Abbou', 'Tata', 'Méchouar Fès Jdid'],\n",
       "      dtype=object)"
      ]
     },
     "execution_count": 32,
     "metadata": {},
     "output_type": "execute_result"
    }
   ],
   "source": [
    "df['Ville'].unique()"
   ]
  },
  {
   "cell_type": "code",
   "execution_count": 33,
   "id": "b886206d",
   "metadata": {},
   "outputs": [
    {
     "data": {
      "text/plain": [
       "Ville\n",
       "Casablanca             5033\n",
       "Marrakech              1501\n",
       "Tanger                 1349\n",
       "Kénitra                1102\n",
       "Fès                    1089\n",
       "                       ... \n",
       "Afourar                   1\n",
       "Tahla                     1\n",
       "Sidi Bibi                 1\n",
       "Ifrane Atlas Saghir       1\n",
       "Méchouar Fès Jdid         1\n",
       "Name: count, Length: 181, dtype: int64"
      ]
     },
     "execution_count": 33,
     "metadata": {},
     "output_type": "execute_result"
    }
   ],
   "source": [
    "df['Ville'].value_counts()"
   ]
  },
  {
   "cell_type": "code",
   "execution_count": 34,
   "id": "c7ea068e",
   "metadata": {
    "scrolled": true
   },
   "outputs": [
    {
     "data": {
      "text/plain": [
       "0           El Jadida\n",
       "1           El Jadida\n",
       "2           El Jadida\n",
       "5              Deroua\n",
       "6        El Mansouria\n",
       "             ...     \n",
       "33312           Oujda\n",
       "33313       El Jadida\n",
       "33315            Salé\n",
       "33316         Larache\n",
       "33317          Agadir\n",
       "Name: Ville, Length: 21288, dtype: object"
      ]
     },
     "execution_count": 34,
     "metadata": {},
     "output_type": "execute_result"
    }
   ],
   "source": [
    "df['Ville'].fillna(df['Ville'].mode()[0])"
   ]
  },
  {
   "cell_type": "markdown",
   "id": "bdf21b09",
   "metadata": {},
   "source": [
    "## 3 - Secteur"
   ]
  },
  {
   "cell_type": "code",
   "execution_count": 35,
   "id": "dc599bba",
   "metadata": {},
   "outputs": [
    {
     "data": {
      "text/plain": [
       "232"
      ]
     },
     "execution_count": 35,
     "metadata": {},
     "output_type": "execute_result"
    }
   ],
   "source": [
    "df['Secteur'].isnull().sum()"
   ]
  },
  {
   "cell_type": "code",
   "execution_count": 36,
   "id": "22a06eb0",
   "metadata": {},
   "outputs": [
    {
     "data": {
      "text/plain": [
       "4331"
      ]
     },
     "execution_count": 36,
     "metadata": {},
     "output_type": "execute_result"
    }
   ],
   "source": [
    "len(df[df['Secteur'] == 'Toute la ville'])"
   ]
  },
  {
   "cell_type": "code",
   "execution_count": 37,
   "id": "b451b890",
   "metadata": {},
   "outputs": [],
   "source": [
    "df.loc[df['Secteur'] == 'Toute la ville', 'Secteur'] = df['Ville']"
   ]
  },
  {
   "cell_type": "code",
   "execution_count": 38,
   "id": "d92590b2",
   "metadata": {},
   "outputs": [],
   "source": [
    "df.loc[df['Secteur'] == 'Autre secteur', 'Secteur'] = df['Ville']"
   ]
  },
  {
   "cell_type": "code",
   "execution_count": 39,
   "id": "f18170f8",
   "metadata": {},
   "outputs": [],
   "source": [
    "df['Secteur'].fillna(df['Ville'], inplace=True)"
   ]
  },
  {
   "cell_type": "code",
   "execution_count": 40,
   "id": "4a44eeb4",
   "metadata": {
    "scrolled": true
   },
   "outputs": [],
   "source": [
    "df = df.drop(\"Secteur\", axis='columns')"
   ]
  },
  {
   "cell_type": "markdown",
   "id": "5e0a92fb",
   "metadata": {},
   "source": [
    "## 4 - Etage"
   ]
  },
  {
   "cell_type": "code",
   "execution_count": 41,
   "id": "2586ec0f",
   "metadata": {},
   "outputs": [],
   "source": [
    "df.loc[df['Etage'] == 'Rez de chaussée','Etage'] = 0"
   ]
  },
  {
   "cell_type": "code",
   "execution_count": 42,
   "id": "e0381cd6",
   "metadata": {},
   "outputs": [],
   "source": [
    "df['Etage'] = df['Etage'].str.replace('+', '')"
   ]
  },
  {
   "cell_type": "code",
   "execution_count": 43,
   "id": "4c94bf13",
   "metadata": {},
   "outputs": [],
   "source": [
    "df['Etage'] = df['Etage'].fillna(df['Etage'].mode()[0]).astype(int)"
   ]
  },
  {
   "cell_type": "code",
   "execution_count": 44,
   "id": "0ba24eb2",
   "metadata": {},
   "outputs": [],
   "source": [
    "df['Etage'] = df['Etage'].astype(int)"
   ]
  },
  {
   "cell_type": "markdown",
   "id": "f7ef52bd",
   "metadata": {},
   "source": [
    "## 5 -  Surface habitable"
   ]
  },
  {
   "cell_type": "code",
   "execution_count": 45,
   "id": "5e5a4153",
   "metadata": {},
   "outputs": [
    {
     "data": {
      "text/plain": [
       "246"
      ]
     },
     "execution_count": 45,
     "metadata": {},
     "output_type": "execute_result"
    }
   ],
   "source": [
    "df['Surface habitable'].isnull().sum()"
   ]
  },
  {
   "cell_type": "code",
   "execution_count": 46,
   "id": "f8713ae1",
   "metadata": {},
   "outputs": [],
   "source": [
    "import numpy as np\n",
    "df['Surface habitable'] = df['Surface habitable'].replace('--', np.nan).astype(float)"
   ]
  },
  {
   "cell_type": "code",
   "execution_count": 47,
   "id": "d07d9b30",
   "metadata": {},
   "outputs": [],
   "source": [
    "df['Surface habitable'] = df['Surface habitable'].astype(float)"
   ]
  },
  {
   "cell_type": "code",
   "execution_count": 48,
   "id": "00c59d56",
   "metadata": {},
   "outputs": [],
   "source": [
    "df['Surface habitable'] = df['Surface habitable'].fillna(df['Surface habitable'].mean())"
   ]
  },
  {
   "cell_type": "code",
   "execution_count": 49,
   "id": "bc9ce4ca",
   "metadata": {},
   "outputs": [
    {
     "data": {
      "text/plain": [
       "1000000.0"
      ]
     },
     "execution_count": 49,
     "metadata": {},
     "output_type": "execute_result"
    }
   ],
   "source": [
    "df['Surface habitable'].max()"
   ]
  },
  {
   "cell_type": "code",
   "execution_count": 50,
   "id": "1acdd5df",
   "metadata": {},
   "outputs": [
    {
     "data": {
      "text/plain": [
       "1.0"
      ]
     },
     "execution_count": 50,
     "metadata": {},
     "output_type": "execute_result"
    }
   ],
   "source": [
    "df['Surface habitable'].min()"
   ]
  },
  {
   "cell_type": "code",
   "execution_count": 51,
   "id": "2c293f7b",
   "metadata": {},
   "outputs": [],
   "source": [
    "df = df[df['Surface habitable'] > 30]"
   ]
  },
  {
   "cell_type": "code",
   "execution_count": 73,
   "id": "e20294f1",
   "metadata": {},
   "outputs": [],
   "source": [
    "df = df[df['Surface habitable'] < 170]"
   ]
  },
  {
   "cell_type": "code",
   "execution_count": null,
   "id": "66ce5efb",
   "metadata": {},
   "outputs": [],
   "source": []
  },
  {
   "cell_type": "markdown",
   "id": "934a20d7",
   "metadata": {},
   "source": [
    "## 6 - NB Salons"
   ]
  },
  {
   "cell_type": "code",
   "execution_count": 53,
   "id": "3a1a9e25",
   "metadata": {},
   "outputs": [
    {
     "data": {
      "text/plain": [
       "466"
      ]
     },
     "execution_count": 53,
     "metadata": {},
     "output_type": "execute_result"
    }
   ],
   "source": [
    "df['NB Salons'].isnull().sum()"
   ]
  },
  {
   "cell_type": "code",
   "execution_count": 54,
   "id": "2fa821a3",
   "metadata": {},
   "outputs": [],
   "source": [
    "df['NB Salons'] = df['NB Salons'].str.replace('+', '')"
   ]
  },
  {
   "cell_type": "code",
   "execution_count": 55,
   "id": "46559374",
   "metadata": {},
   "outputs": [],
   "source": [
    "df['NB Salons'] = df['NB Salons'].fillna(df['NB Salons'].mode()[0]).astype(int)"
   ]
  },
  {
   "cell_type": "code",
   "execution_count": 56,
   "id": "4b170292",
   "metadata": {},
   "outputs": [],
   "source": [
    "df['NB Salons'] = df['NB Salons'].astype(int)"
   ]
  },
  {
   "cell_type": "code",
   "execution_count": null,
   "id": "08be450d",
   "metadata": {},
   "outputs": [],
   "source": []
  },
  {
   "cell_type": "markdown",
   "id": "fa26158a",
   "metadata": {},
   "source": [
    "## 7 - NB Chambres"
   ]
  },
  {
   "cell_type": "code",
   "execution_count": 57,
   "id": "2c1f23a7",
   "metadata": {},
   "outputs": [
    {
     "data": {
      "text/plain": [
       "57"
      ]
     },
     "execution_count": 57,
     "metadata": {},
     "output_type": "execute_result"
    }
   ],
   "source": [
    "df['NB Chambres'].isnull().sum()"
   ]
  },
  {
   "cell_type": "code",
   "execution_count": 58,
   "id": "eafb6c93",
   "metadata": {},
   "outputs": [],
   "source": [
    "df['NB Chambres'] = df['NB Chambres'].str.replace('+', '')"
   ]
  },
  {
   "cell_type": "code",
   "execution_count": 59,
   "id": "2c597ded",
   "metadata": {},
   "outputs": [],
   "source": [
    "df['NB Chambres'] = df['NB Chambres'].astype(float)"
   ]
  },
  {
   "cell_type": "code",
   "execution_count": 60,
   "id": "8638b804",
   "metadata": {},
   "outputs": [],
   "source": [
    "df['NB Chambres'] = df['NB Chambres'].fillna(df['NB Chambres'].mean()).astype(float)"
   ]
  },
  {
   "cell_type": "code",
   "execution_count": null,
   "id": "072ce59f",
   "metadata": {},
   "outputs": [],
   "source": []
  },
  {
   "cell_type": "markdown",
   "id": "90370e7f",
   "metadata": {},
   "source": [
    "## 8 - NB Salles de Bain"
   ]
  },
  {
   "cell_type": "code",
   "execution_count": 61,
   "id": "a192d58c",
   "metadata": {},
   "outputs": [
    {
     "data": {
      "text/plain": [
       "472"
      ]
     },
     "execution_count": 61,
     "metadata": {},
     "output_type": "execute_result"
    }
   ],
   "source": [
    "df['NB Salles de Bain'].isnull().sum()"
   ]
  },
  {
   "cell_type": "code",
   "execution_count": 62,
   "id": "59af32b5",
   "metadata": {},
   "outputs": [],
   "source": [
    "df['NB Salles de Bain'] = df['NB Salles de Bain'].str.replace('+', '')"
   ]
  },
  {
   "cell_type": "code",
   "execution_count": 63,
   "id": "0fa660f7",
   "metadata": {},
   "outputs": [],
   "source": [
    "df['NB Salles de Bain'] = df['NB Salles de Bain'].fillna(df['NB Salles de Bain'].mode()[0]).astype(int)"
   ]
  },
  {
   "cell_type": "code",
   "execution_count": 64,
   "id": "9c992413",
   "metadata": {},
   "outputs": [],
   "source": [
    "df['NB Salles de Bain'] = df['NB Salles de Bain'].astype(int)"
   ]
  },
  {
   "cell_type": "code",
   "execution_count": 65,
   "id": "51285837",
   "metadata": {},
   "outputs": [
    {
     "data": {
      "text/html": [
       "<div>\n",
       "<style scoped>\n",
       "    .dataframe tbody tr th:only-of-type {\n",
       "        vertical-align: middle;\n",
       "    }\n",
       "\n",
       "    .dataframe tbody tr th {\n",
       "        vertical-align: top;\n",
       "    }\n",
       "\n",
       "    .dataframe thead th {\n",
       "        text-align: right;\n",
       "    }\n",
       "</style>\n",
       "<table border=\"1\" class=\"dataframe\">\n",
       "  <thead>\n",
       "    <tr style=\"text-align: right;\">\n",
       "      <th></th>\n",
       "      <th>Prix</th>\n",
       "      <th>Ville</th>\n",
       "      <th>Etage</th>\n",
       "      <th>Surface habitable</th>\n",
       "      <th>NB Salons</th>\n",
       "      <th>NB Chambres</th>\n",
       "      <th>NB Salles de Bain</th>\n",
       "    </tr>\n",
       "  </thead>\n",
       "  <tbody>\n",
       "    <tr>\n",
       "      <th>1</th>\n",
       "      <td>360000</td>\n",
       "      <td>El Jadida</td>\n",
       "      <td>2</td>\n",
       "      <td>62.0</td>\n",
       "      <td>1</td>\n",
       "      <td>2.0</td>\n",
       "      <td>1</td>\n",
       "    </tr>\n",
       "    <tr>\n",
       "      <th>2</th>\n",
       "      <td>750000</td>\n",
       "      <td>El Jadida</td>\n",
       "      <td>2</td>\n",
       "      <td>92.0</td>\n",
       "      <td>1</td>\n",
       "      <td>3.0</td>\n",
       "      <td>1</td>\n",
       "    </tr>\n",
       "    <tr>\n",
       "      <th>5</th>\n",
       "      <td>250000</td>\n",
       "      <td>Deroua</td>\n",
       "      <td>4</td>\n",
       "      <td>72.0</td>\n",
       "      <td>1</td>\n",
       "      <td>3.0</td>\n",
       "      <td>1</td>\n",
       "    </tr>\n",
       "    <tr>\n",
       "      <th>6</th>\n",
       "      <td>445000</td>\n",
       "      <td>El Mansouria</td>\n",
       "      <td>3</td>\n",
       "      <td>50.0</td>\n",
       "      <td>1</td>\n",
       "      <td>1.0</td>\n",
       "      <td>1</td>\n",
       "    </tr>\n",
       "    <tr>\n",
       "      <th>7</th>\n",
       "      <td>450000</td>\n",
       "      <td>Marrakech</td>\n",
       "      <td>2</td>\n",
       "      <td>71.0</td>\n",
       "      <td>1</td>\n",
       "      <td>2.0</td>\n",
       "      <td>2</td>\n",
       "    </tr>\n",
       "    <tr>\n",
       "      <th>...</th>\n",
       "      <td>...</td>\n",
       "      <td>...</td>\n",
       "      <td>...</td>\n",
       "      <td>...</td>\n",
       "      <td>...</td>\n",
       "      <td>...</td>\n",
       "      <td>...</td>\n",
       "    </tr>\n",
       "    <tr>\n",
       "      <th>33311</th>\n",
       "      <td>1290000</td>\n",
       "      <td>Casablanca</td>\n",
       "      <td>6</td>\n",
       "      <td>130.0</td>\n",
       "      <td>2</td>\n",
       "      <td>3.0</td>\n",
       "      <td>2</td>\n",
       "    </tr>\n",
       "    <tr>\n",
       "      <th>33313</th>\n",
       "      <td>580000</td>\n",
       "      <td>El Jadida</td>\n",
       "      <td>1</td>\n",
       "      <td>67.0</td>\n",
       "      <td>1</td>\n",
       "      <td>2.0</td>\n",
       "      <td>1</td>\n",
       "    </tr>\n",
       "    <tr>\n",
       "      <th>33315</th>\n",
       "      <td>245000</td>\n",
       "      <td>Salé</td>\n",
       "      <td>3</td>\n",
       "      <td>65.0</td>\n",
       "      <td>1</td>\n",
       "      <td>2.0</td>\n",
       "      <td>1</td>\n",
       "    </tr>\n",
       "    <tr>\n",
       "      <th>33316</th>\n",
       "      <td>360000</td>\n",
       "      <td>Larache</td>\n",
       "      <td>1</td>\n",
       "      <td>75.0</td>\n",
       "      <td>1</td>\n",
       "      <td>2.0</td>\n",
       "      <td>1</td>\n",
       "    </tr>\n",
       "    <tr>\n",
       "      <th>33317</th>\n",
       "      <td>350000</td>\n",
       "      <td>Agadir</td>\n",
       "      <td>1</td>\n",
       "      <td>58.0</td>\n",
       "      <td>1</td>\n",
       "      <td>2.0</td>\n",
       "      <td>1</td>\n",
       "    </tr>\n",
       "  </tbody>\n",
       "</table>\n",
       "<p>20490 rows × 7 columns</p>\n",
       "</div>"
      ],
      "text/plain": [
       "          Prix         Ville  Etage  Surface habitable  NB Salons  \\\n",
       "1       360000     El Jadida      2               62.0          1   \n",
       "2       750000     El Jadida      2               92.0          1   \n",
       "5       250000        Deroua      4               72.0          1   \n",
       "6       445000  El Mansouria      3               50.0          1   \n",
       "7       450000     Marrakech      2               71.0          1   \n",
       "...        ...           ...    ...                ...        ...   \n",
       "33311  1290000    Casablanca      6              130.0          2   \n",
       "33313   580000     El Jadida      1               67.0          1   \n",
       "33315   245000          Salé      3               65.0          1   \n",
       "33316   360000       Larache      1               75.0          1   \n",
       "33317   350000        Agadir      1               58.0          1   \n",
       "\n",
       "       NB Chambres  NB Salles de Bain  \n",
       "1              2.0                  1  \n",
       "2              3.0                  1  \n",
       "5              3.0                  1  \n",
       "6              1.0                  1  \n",
       "7              2.0                  2  \n",
       "...            ...                ...  \n",
       "33311          3.0                  2  \n",
       "33313          2.0                  1  \n",
       "33315          2.0                  1  \n",
       "33316          2.0                  1  \n",
       "33317          2.0                  1  \n",
       "\n",
       "[20490 rows x 7 columns]"
      ]
     },
     "execution_count": 65,
     "metadata": {},
     "output_type": "execute_result"
    }
   ],
   "source": [
    "df"
   ]
  },
  {
   "cell_type": "code",
   "execution_count": 66,
   "id": "03fe82a2",
   "metadata": {},
   "outputs": [
    {
     "data": {
      "text/plain": [
       "Prix                   int32\n",
       "Ville                 object\n",
       "Etage                  int32\n",
       "Surface habitable    float64\n",
       "NB Salons              int32\n",
       "NB Chambres          float64\n",
       "NB Salles de Bain      int32\n",
       "dtype: object"
      ]
     },
     "execution_count": 66,
     "metadata": {},
     "output_type": "execute_result"
    }
   ],
   "source": [
    "df.dtypes"
   ]
  },
  {
   "cell_type": "code",
   "execution_count": null,
   "id": "cff8cedf",
   "metadata": {},
   "outputs": [],
   "source": []
  },
  {
   "cell_type": "code",
   "execution_count": 80,
   "id": "1b2857bb",
   "metadata": {},
   "outputs": [
    {
     "data": {
      "text/plain": [
       "<Axes: >"
      ]
     },
     "execution_count": 80,
     "metadata": {},
     "output_type": "execute_result"
    },
    {
     "data": {
      "image/png": "[encoded data removed]",
      "text/plain": [
       "<Figure size 640x480 with 1 Axes>"
      ]
     },
     "metadata": {},
     "output_type": "display_data"
    }
   ],
   "source": [
    "import seaborn as sb\n",
    "\n",
    "sb.boxplot(data=df[['Prix']])"
   ]
  },
  {
   "cell_type": "code",
   "execution_count": 118,
   "id": "5c1eb23c",
   "metadata": {},
   "outputs": [],
   "source": [
    "df3 = df"
   ]
  },
  {
   "cell_type": "code",
   "execution_count": 132,
   "id": "f9d4f4fb",
   "metadata": {},
   "outputs": [],
   "source": [
    "df3 = df3[~((df3['Surface habitable'] < 40) & (df3['Prix'] > 1800000))]"
   ]
  },
  {
   "cell_type": "code",
   "execution_count": null,
   "id": "95a125d4",
   "metadata": {},
   "outputs": [],
   "source": [
    "df3 = df3[~((df3['Surface habitable'] < 60) & (df3['Prix'] > 1000000))]"
   ]
  },
  {
   "cell_type": "code",
   "execution_count": null,
   "id": "e5bf53a5",
   "metadata": {},
   "outputs": [],
   "source": [
    "df3 = df3[~((df3['Surface habitable'] < 50) & (df3['Prix'] > 800000))]"
   ]
  },
  {
   "cell_type": "code",
   "execution_count": null,
   "id": "05f34ea9",
   "metadata": {},
   "outputs": [],
   "source": [
    "df3 = df3[~((df3['Surface habitable'] < 45) & (df3['Prix'] > 700000))]"
   ]
  },
  {
   "cell_type": "code",
   "execution_count": null,
   "id": "9fdd1e99",
   "metadata": {},
   "outputs": [],
   "source": [
    "df3 = df3[~((df3['Surface habitable'] < 40) & (df3['Prix'] > 600000))]"
   ]
  },
  {
   "cell_type": "code",
   "execution_count": 134,
   "id": "4222b7df",
   "metadata": {},
   "outputs": [],
   "source": [
    "df3 = df3[~((df3['Surface habitable'] > 100) & (df3['Prix'] < 300000))]"
   ]
  },
  {
   "cell_type": "code",
   "execution_count": 136,
   "id": "5399dda9",
   "metadata": {},
   "outputs": [],
   "source": [
    "df3 = df3[~((df3['Surface habitable'] > 120) & (df3['Prix'] < 400000))]"
   ]
  },
  {
   "cell_type": "code",
   "execution_count": 138,
   "id": "f55aba70",
   "metadata": {},
   "outputs": [],
   "source": [
    "df3 = df3[~((df3['Surface habitable'] > 140) & (df3['Prix'] < 600000))]"
   ]
  },
  {
   "cell_type": "code",
   "execution_count": 150,
   "id": "60cdb89b",
   "metadata": {},
   "outputs": [],
   "source": [
    "df = df3"
   ]
  },
  {
   "cell_type": "code",
   "execution_count": 152,
   "id": "9629ca3d",
   "metadata": {},
   "outputs": [
    {
     "data": {
      "text/plain": [
       "<Axes: xlabel='Surface habitable', ylabel='Prix'>"
      ]
     },
     "execution_count": 152,
     "metadata": {},
     "output_type": "execute_result"
    },
    {
     "data": {
      "image/png": "[encoded data removed]",
      "text/plain": [
       "<Figure size 640x480 with 1 Axes>"
      ]
     },
     "metadata": {},
     "output_type": "display_data"
    }
   ],
   "source": [
    "sb.scatterplot(data=df, x='Surface habitable', y='Prix')"
   ]
  },
  {
   "cell_type": "code",
   "execution_count": 167,
   "id": "53275b49",
   "metadata": {},
   "outputs": [
    {
     "data": {
      "image/png": "[encoded data removed]",
      "text/plain": [
       "<Figure size 640x480 with 1 Axes>"
      ]
     },
     "metadata": {},
     "output_type": "display_data"
    }
   ],
   "source": [
    "import matplotlib.pyplot as plt\n",
    "plt.figure()\n",
    "df['Surface habitable'].hist(bins='auto', alpha=1)\n",
    "plt.show()"
   ]
  },
  {
   "cell_type": "code",
   "execution_count": null,
   "id": "979ba2c8",
   "metadata": {},
   "outputs": [],
   "source": []
  },
  {
   "cell_type": "code",
   "execution_count": 168,
   "id": "6a757c79",
   "metadata": {},
   "outputs": [
    {
     "name": "stderr",
     "output_type": "stream",
     "text": [
      "C:\\Users\\wailb\\AppData\\Local\\Temp\\ipykernel_8524\\3259007696.py:1: FutureWarning: \n",
      "\n",
      "`shade` is now deprecated in favor of `fill`; setting `fill=True`.\n",
      "This will become an error in seaborn v0.14.0; please update your code.\n",
      "\n",
      "  sb.kdeplot(df['Prix'], shade=True, bw_adjust=100)\n"
     ]
    },
    {
     "data": {
      "text/plain": [
       "<Axes: xlabel='Prix', ylabel='Density'>"
      ]
     },
     "execution_count": 168,
     "metadata": {},
     "output_type": "execute_result"
    },
    {
     "data": {
      "image/png": "[encoded data removed]",
      "text/plain": [
       "<Figure size 640x480 with 1 Axes>"
      ]
     },
     "metadata": {},
     "output_type": "display_data"
    }
   ],
   "source": [
    "sb.kdeplot(df['Prix'], shade=True, bw_adjust=100)  "
   ]
  },
  {
   "cell_type": "code",
   "execution_count": 169,
   "id": "8488fc44",
   "metadata": {},
   "outputs": [
    {
     "data": {
      "text/html": [
       "<div>\n",
       "<style scoped>\n",
       "    .dataframe tbody tr th:only-of-type {\n",
       "        vertical-align: middle;\n",
       "    }\n",
       "\n",
       "    .dataframe tbody tr th {\n",
       "        vertical-align: top;\n",
       "    }\n",
       "\n",
       "    .dataframe thead th {\n",
       "        text-align: right;\n",
       "    }\n",
       "</style>\n",
       "<table border=\"1\" class=\"dataframe\">\n",
       "  <thead>\n",
       "    <tr style=\"text-align: right;\">\n",
       "      <th></th>\n",
       "      <th>Prix</th>\n",
       "      <th>Ville</th>\n",
       "      <th>Etage</th>\n",
       "      <th>Surface habitable</th>\n",
       "      <th>NB Salons</th>\n",
       "      <th>NB Chambres</th>\n",
       "      <th>NB Salles de Bain</th>\n",
       "      <th>Longitude</th>\n",
       "      <th>Latitude</th>\n",
       "    </tr>\n",
       "  </thead>\n",
       "  <tbody>\n",
       "    <tr>\n",
       "      <th>1</th>\n",
       "      <td>360000</td>\n",
       "      <td>El Jadida</td>\n",
       "      <td>2</td>\n",
       "      <td>62</td>\n",
       "      <td>1</td>\n",
       "      <td>2</td>\n",
       "      <td>1</td>\n",
       "      <td>-8.500712</td>\n",
       "      <td>33.231633</td>\n",
       "    </tr>\n",
       "    <tr>\n",
       "      <th>2</th>\n",
       "      <td>750000</td>\n",
       "      <td>El Jadida</td>\n",
       "      <td>2</td>\n",
       "      <td>92</td>\n",
       "      <td>1</td>\n",
       "      <td>3</td>\n",
       "      <td>1</td>\n",
       "      <td>-8.500712</td>\n",
       "      <td>33.231633</td>\n",
       "    </tr>\n",
       "    <tr>\n",
       "      <th>5</th>\n",
       "      <td>250000</td>\n",
       "      <td>Deroua</td>\n",
       "      <td>4</td>\n",
       "      <td>72</td>\n",
       "      <td>1</td>\n",
       "      <td>3</td>\n",
       "      <td>1</td>\n",
       "      <td>-7.537081</td>\n",
       "      <td>33.416063</td>\n",
       "    </tr>\n",
       "    <tr>\n",
       "      <th>6</th>\n",
       "      <td>445000</td>\n",
       "      <td>El Mansouria</td>\n",
       "      <td>3</td>\n",
       "      <td>50</td>\n",
       "      <td>1</td>\n",
       "      <td>1</td>\n",
       "      <td>1</td>\n",
       "      <td>-7.291590</td>\n",
       "      <td>33.739586</td>\n",
       "    </tr>\n",
       "    <tr>\n",
       "      <th>7</th>\n",
       "      <td>450000</td>\n",
       "      <td>Marrakech</td>\n",
       "      <td>2</td>\n",
       "      <td>71</td>\n",
       "      <td>1</td>\n",
       "      <td>2</td>\n",
       "      <td>2</td>\n",
       "      <td>-7.989826</td>\n",
       "      <td>31.622522</td>\n",
       "    </tr>\n",
       "    <tr>\n",
       "      <th>...</th>\n",
       "      <td>...</td>\n",
       "      <td>...</td>\n",
       "      <td>...</td>\n",
       "      <td>...</td>\n",
       "      <td>...</td>\n",
       "      <td>...</td>\n",
       "      <td>...</td>\n",
       "      <td>...</td>\n",
       "      <td>...</td>\n",
       "    </tr>\n",
       "    <tr>\n",
       "      <th>33311</th>\n",
       "      <td>1290000</td>\n",
       "      <td>Casablanca</td>\n",
       "      <td>6</td>\n",
       "      <td>130</td>\n",
       "      <td>2</td>\n",
       "      <td>3</td>\n",
       "      <td>2</td>\n",
       "      <td>-7.589843</td>\n",
       "      <td>33.573110</td>\n",
       "    </tr>\n",
       "    <tr>\n",
       "      <th>33313</th>\n",
       "      <td>580000</td>\n",
       "      <td>El Jadida</td>\n",
       "      <td>1</td>\n",
       "      <td>67</td>\n",
       "      <td>1</td>\n",
       "      <td>2</td>\n",
       "      <td>1</td>\n",
       "      <td>-8.500712</td>\n",
       "      <td>33.231633</td>\n",
       "    </tr>\n",
       "    <tr>\n",
       "      <th>33315</th>\n",
       "      <td>245000</td>\n",
       "      <td>Salé</td>\n",
       "      <td>3</td>\n",
       "      <td>65</td>\n",
       "      <td>1</td>\n",
       "      <td>2</td>\n",
       "      <td>1</td>\n",
       "      <td>-6.770814</td>\n",
       "      <td>34.033697</td>\n",
       "    </tr>\n",
       "    <tr>\n",
       "      <th>33316</th>\n",
       "      <td>360000</td>\n",
       "      <td>Larache</td>\n",
       "      <td>1</td>\n",
       "      <td>75</td>\n",
       "      <td>1</td>\n",
       "      <td>2</td>\n",
       "      <td>1</td>\n",
       "      <td>-6.147396</td>\n",
       "      <td>35.174427</td>\n",
       "    </tr>\n",
       "    <tr>\n",
       "      <th>33317</th>\n",
       "      <td>350000</td>\n",
       "      <td>Agadir</td>\n",
       "      <td>1</td>\n",
       "      <td>58</td>\n",
       "      <td>1</td>\n",
       "      <td>2</td>\n",
       "      <td>1</td>\n",
       "      <td>-9.592544</td>\n",
       "      <td>30.428041</td>\n",
       "    </tr>\n",
       "  </tbody>\n",
       "</table>\n",
       "<p>19705 rows × 9 columns</p>\n",
       "</div>"
      ],
      "text/plain": [
       "          Prix         Ville  Etage  Surface habitable  NB Salons  \\\n",
       "1       360000     El Jadida      2                 62          1   \n",
       "2       750000     El Jadida      2                 92          1   \n",
       "5       250000        Deroua      4                 72          1   \n",
       "6       445000  El Mansouria      3                 50          1   \n",
       "7       450000     Marrakech      2                 71          1   \n",
       "...        ...           ...    ...                ...        ...   \n",
       "33311  1290000    Casablanca      6                130          2   \n",
       "33313   580000     El Jadida      1                 67          1   \n",
       "33315   245000          Salé      3                 65          1   \n",
       "33316   360000       Larache      1                 75          1   \n",
       "33317   350000        Agadir      1                 58          1   \n",
       "\n",
       "       NB Chambres  NB Salles de Bain  Longitude   Latitude  \n",
       "1                2                  1  -8.500712  33.231633  \n",
       "2                3                  1  -8.500712  33.231633  \n",
       "5                3                  1  -7.537081  33.416063  \n",
       "6                1                  1  -7.291590  33.739586  \n",
       "7                2                  2  -7.989826  31.622522  \n",
       "...            ...                ...        ...        ...  \n",
       "33311            3                  2  -7.589843  33.573110  \n",
       "33313            2                  1  -8.500712  33.231633  \n",
       "33315            2                  1  -6.770814  34.033697  \n",
       "33316            2                  1  -6.147396  35.174427  \n",
       "33317            2                  1  -9.592544  30.428041  \n",
       "\n",
       "[19705 rows x 9 columns]"
      ]
     },
     "execution_count": 169,
     "metadata": {},
     "output_type": "execute_result"
    }
   ],
   "source": [
    "df"
   ]
  },
  {
   "cell_type": "code",
   "execution_count": 144,
   "id": "0673cbb6",
   "metadata": {},
   "outputs": [
    {
     "data": {
      "text/plain": [
       "Prix                   int32\n",
       "Ville                 object\n",
       "Etage                  int32\n",
       "Surface habitable      int32\n",
       "NB Salons              int32\n",
       "NB Chambres            int32\n",
       "NB Salles de Bain      int32\n",
       "Longitude            float64\n",
       "Latitude             float64\n",
       "dtype: object"
      ]
     },
     "execution_count": 144,
     "metadata": {},
     "output_type": "execute_result"
    }
   ],
   "source": [
    "df.dtypes"
   ]
  },
  {
   "cell_type": "code",
   "execution_count": 145,
   "id": "c43b20b0",
   "metadata": {},
   "outputs": [],
   "source": [
    "df['NB Chambres'] = df['NB Chambres'].astype(int)"
   ]
  },
  {
   "cell_type": "code",
   "execution_count": 146,
   "id": "01fc7ab3",
   "metadata": {},
   "outputs": [
    {
     "data": {
      "text/plain": [
       "Prix                   int32\n",
       "Ville                 object\n",
       "Etage                  int32\n",
       "Surface habitable      int32\n",
       "NB Salons              int32\n",
       "NB Chambres            int32\n",
       "NB Salles de Bain      int32\n",
       "Longitude            float64\n",
       "Latitude             float64\n",
       "dtype: object"
      ]
     },
     "execution_count": 146,
     "metadata": {},
     "output_type": "execute_result"
    }
   ],
   "source": [
    "df.dtypes"
   ]
  },
  {
   "cell_type": "code",
   "execution_count": 147,
   "id": "c56a934e",
   "metadata": {},
   "outputs": [
    {
     "data": {
      "text/html": [
       "<div>\n",
       "<style scoped>\n",
       "    .dataframe tbody tr th:only-of-type {\n",
       "        vertical-align: middle;\n",
       "    }\n",
       "\n",
       "    .dataframe tbody tr th {\n",
       "        vertical-align: top;\n",
       "    }\n",
       "\n",
       "    .dataframe thead th {\n",
       "        text-align: right;\n",
       "    }\n",
       "</style>\n",
       "<table border=\"1\" class=\"dataframe\">\n",
       "  <thead>\n",
       "    <tr style=\"text-align: right;\">\n",
       "      <th></th>\n",
       "      <th>Prix</th>\n",
       "      <th>Ville</th>\n",
       "      <th>Etage</th>\n",
       "      <th>Surface habitable</th>\n",
       "      <th>NB Salons</th>\n",
       "      <th>NB Chambres</th>\n",
       "      <th>NB Salles de Bain</th>\n",
       "      <th>Longitude</th>\n",
       "      <th>Latitude</th>\n",
       "    </tr>\n",
       "  </thead>\n",
       "  <tbody>\n",
       "    <tr>\n",
       "      <th>1</th>\n",
       "      <td>360000</td>\n",
       "      <td>El Jadida</td>\n",
       "      <td>2</td>\n",
       "      <td>62</td>\n",
       "      <td>1</td>\n",
       "      <td>2</td>\n",
       "      <td>1</td>\n",
       "      <td>-8.500712</td>\n",
       "      <td>33.231633</td>\n",
       "    </tr>\n",
       "    <tr>\n",
       "      <th>2</th>\n",
       "      <td>750000</td>\n",
       "      <td>El Jadida</td>\n",
       "      <td>2</td>\n",
       "      <td>92</td>\n",
       "      <td>1</td>\n",
       "      <td>3</td>\n",
       "      <td>1</td>\n",
       "      <td>-8.500712</td>\n",
       "      <td>33.231633</td>\n",
       "    </tr>\n",
       "    <tr>\n",
       "      <th>5</th>\n",
       "      <td>250000</td>\n",
       "      <td>Deroua</td>\n",
       "      <td>4</td>\n",
       "      <td>72</td>\n",
       "      <td>1</td>\n",
       "      <td>3</td>\n",
       "      <td>1</td>\n",
       "      <td>-7.537081</td>\n",
       "      <td>33.416063</td>\n",
       "    </tr>\n",
       "    <tr>\n",
       "      <th>6</th>\n",
       "      <td>445000</td>\n",
       "      <td>El Mansouria</td>\n",
       "      <td>3</td>\n",
       "      <td>50</td>\n",
       "      <td>1</td>\n",
       "      <td>1</td>\n",
       "      <td>1</td>\n",
       "      <td>-7.291590</td>\n",
       "      <td>33.739586</td>\n",
       "    </tr>\n",
       "    <tr>\n",
       "      <th>7</th>\n",
       "      <td>450000</td>\n",
       "      <td>Marrakech</td>\n",
       "      <td>2</td>\n",
       "      <td>71</td>\n",
       "      <td>1</td>\n",
       "      <td>2</td>\n",
       "      <td>2</td>\n",
       "      <td>-7.989826</td>\n",
       "      <td>31.622522</td>\n",
       "    </tr>\n",
       "  </tbody>\n",
       "</table>\n",
       "</div>"
      ],
      "text/plain": [
       "     Prix         Ville  Etage  Surface habitable  NB Salons  NB Chambres  \\\n",
       "1  360000     El Jadida      2                 62          1            2   \n",
       "2  750000     El Jadida      2                 92          1            3   \n",
       "5  250000        Deroua      4                 72          1            3   \n",
       "6  445000  El Mansouria      3                 50          1            1   \n",
       "7  450000     Marrakech      2                 71          1            2   \n",
       "\n",
       "   NB Salles de Bain  Longitude   Latitude  \n",
       "1                  1  -8.500712  33.231633  \n",
       "2                  1  -8.500712  33.231633  \n",
       "5                  1  -7.537081  33.416063  \n",
       "6                  1  -7.291590  33.739586  \n",
       "7                  2  -7.989826  31.622522  "
      ]
     },
     "execution_count": 147,
     "metadata": {},
     "output_type": "execute_result"
    }
   ],
   "source": [
    "df.head()"
   ]
  },
  {
   "cell_type": "code",
   "execution_count": 148,
   "id": "737a46be",
   "metadata": {},
   "outputs": [],
   "source": [
    "df['Surface habitable'] = df['Surface habitable'].astype(int)"
   ]
  },
  {
   "cell_type": "code",
   "execution_count": 149,
   "id": "52c5fba6",
   "metadata": {},
   "outputs": [],
   "source": [
    "df = df[df['Surface habitable'] < 500]"
   ]
  },
  {
   "cell_type": "markdown",
   "id": "469f4e9b",
   "metadata": {},
   "source": [
    "# Replace Ville by Long and Lat "
   ]
  },
  {
   "cell_type": "code",
   "execution_count": 157,
   "id": "fb0cdaf6",
   "metadata": {},
   "outputs": [],
   "source": [
    "df2 = df"
   ]
  },
  {
   "cell_type": "code",
   "execution_count": 158,
   "id": "b065c760",
   "metadata": {},
   "outputs": [],
   "source": [
    "df1 = pd.read_csv(\"core.csv\")"
   ]
  },
  {
   "cell_type": "code",
   "execution_count": 159,
   "id": "9be8c531",
   "metadata": {},
   "outputs": [],
   "source": [
    "mapping_dict = df1.set_index('Column1').to_dict(orient='index')\n",
    "\n",
    "df2['Longitude'] = df2['Ville'].map(lambda x: mapping_dict.get(x, {'Longitude': np.nan})['Longitude'])\n",
    "df2['Latitude'] = df2['Ville'].map(lambda x: mapping_dict.get(x, {'Latitude': np.nan})['Latitude'])"
   ]
  },
  {
   "cell_type": "code",
   "execution_count": 160,
   "id": "686914e2",
   "metadata": {},
   "outputs": [
    {
     "data": {
      "text/html": [
       "<div>\n",
       "<style scoped>\n",
       "    .dataframe tbody tr th:only-of-type {\n",
       "        vertical-align: middle;\n",
       "    }\n",
       "\n",
       "    .dataframe tbody tr th {\n",
       "        vertical-align: top;\n",
       "    }\n",
       "\n",
       "    .dataframe thead th {\n",
       "        text-align: right;\n",
       "    }\n",
       "</style>\n",
       "<table border=\"1\" class=\"dataframe\">\n",
       "  <thead>\n",
       "    <tr style=\"text-align: right;\">\n",
       "      <th></th>\n",
       "      <th>Prix</th>\n",
       "      <th>Ville</th>\n",
       "      <th>Etage</th>\n",
       "      <th>Surface habitable</th>\n",
       "      <th>NB Salons</th>\n",
       "      <th>NB Chambres</th>\n",
       "      <th>NB Salles de Bain</th>\n",
       "      <th>Longitude</th>\n",
       "      <th>Latitude</th>\n",
       "    </tr>\n",
       "  </thead>\n",
       "  <tbody>\n",
       "    <tr>\n",
       "      <th>1</th>\n",
       "      <td>360000</td>\n",
       "      <td>El Jadida</td>\n",
       "      <td>2</td>\n",
       "      <td>62</td>\n",
       "      <td>1</td>\n",
       "      <td>2</td>\n",
       "      <td>1</td>\n",
       "      <td>-8.500712</td>\n",
       "      <td>33.231633</td>\n",
       "    </tr>\n",
       "    <tr>\n",
       "      <th>2</th>\n",
       "      <td>750000</td>\n",
       "      <td>El Jadida</td>\n",
       "      <td>2</td>\n",
       "      <td>92</td>\n",
       "      <td>1</td>\n",
       "      <td>3</td>\n",
       "      <td>1</td>\n",
       "      <td>-8.500712</td>\n",
       "      <td>33.231633</td>\n",
       "    </tr>\n",
       "    <tr>\n",
       "      <th>5</th>\n",
       "      <td>250000</td>\n",
       "      <td>Deroua</td>\n",
       "      <td>4</td>\n",
       "      <td>72</td>\n",
       "      <td>1</td>\n",
       "      <td>3</td>\n",
       "      <td>1</td>\n",
       "      <td>-7.537081</td>\n",
       "      <td>33.416063</td>\n",
       "    </tr>\n",
       "    <tr>\n",
       "      <th>6</th>\n",
       "      <td>445000</td>\n",
       "      <td>El Mansouria</td>\n",
       "      <td>3</td>\n",
       "      <td>50</td>\n",
       "      <td>1</td>\n",
       "      <td>1</td>\n",
       "      <td>1</td>\n",
       "      <td>-7.291590</td>\n",
       "      <td>33.739586</td>\n",
       "    </tr>\n",
       "    <tr>\n",
       "      <th>7</th>\n",
       "      <td>450000</td>\n",
       "      <td>Marrakech</td>\n",
       "      <td>2</td>\n",
       "      <td>71</td>\n",
       "      <td>1</td>\n",
       "      <td>2</td>\n",
       "      <td>2</td>\n",
       "      <td>-7.989826</td>\n",
       "      <td>31.622522</td>\n",
       "    </tr>\n",
       "    <tr>\n",
       "      <th>...</th>\n",
       "      <td>...</td>\n",
       "      <td>...</td>\n",
       "      <td>...</td>\n",
       "      <td>...</td>\n",
       "      <td>...</td>\n",
       "      <td>...</td>\n",
       "      <td>...</td>\n",
       "      <td>...</td>\n",
       "      <td>...</td>\n",
       "    </tr>\n",
       "    <tr>\n",
       "      <th>33311</th>\n",
       "      <td>1290000</td>\n",
       "      <td>Casablanca</td>\n",
       "      <td>6</td>\n",
       "      <td>130</td>\n",
       "      <td>2</td>\n",
       "      <td>3</td>\n",
       "      <td>2</td>\n",
       "      <td>-7.589843</td>\n",
       "      <td>33.573110</td>\n",
       "    </tr>\n",
       "    <tr>\n",
       "      <th>33313</th>\n",
       "      <td>580000</td>\n",
       "      <td>El Jadida</td>\n",
       "      <td>1</td>\n",
       "      <td>67</td>\n",
       "      <td>1</td>\n",
       "      <td>2</td>\n",
       "      <td>1</td>\n",
       "      <td>-8.500712</td>\n",
       "      <td>33.231633</td>\n",
       "    </tr>\n",
       "    <tr>\n",
       "      <th>33315</th>\n",
       "      <td>245000</td>\n",
       "      <td>Salé</td>\n",
       "      <td>3</td>\n",
       "      <td>65</td>\n",
       "      <td>1</td>\n",
       "      <td>2</td>\n",
       "      <td>1</td>\n",
       "      <td>-6.770814</td>\n",
       "      <td>34.033697</td>\n",
       "    </tr>\n",
       "    <tr>\n",
       "      <th>33316</th>\n",
       "      <td>360000</td>\n",
       "      <td>Larache</td>\n",
       "      <td>1</td>\n",
       "      <td>75</td>\n",
       "      <td>1</td>\n",
       "      <td>2</td>\n",
       "      <td>1</td>\n",
       "      <td>-6.147396</td>\n",
       "      <td>35.174427</td>\n",
       "    </tr>\n",
       "    <tr>\n",
       "      <th>33317</th>\n",
       "      <td>350000</td>\n",
       "      <td>Agadir</td>\n",
       "      <td>1</td>\n",
       "      <td>58</td>\n",
       "      <td>1</td>\n",
       "      <td>2</td>\n",
       "      <td>1</td>\n",
       "      <td>-9.592544</td>\n",
       "      <td>30.428041</td>\n",
       "    </tr>\n",
       "  </tbody>\n",
       "</table>\n",
       "<p>19705 rows × 9 columns</p>\n",
       "</div>"
      ],
      "text/plain": [
       "          Prix         Ville  Etage  Surface habitable  NB Salons  \\\n",
       "1       360000     El Jadida      2                 62          1   \n",
       "2       750000     El Jadida      2                 92          1   \n",
       "5       250000        Deroua      4                 72          1   \n",
       "6       445000  El Mansouria      3                 50          1   \n",
       "7       450000     Marrakech      2                 71          1   \n",
       "...        ...           ...    ...                ...        ...   \n",
       "33311  1290000    Casablanca      6                130          2   \n",
       "33313   580000     El Jadida      1                 67          1   \n",
       "33315   245000          Salé      3                 65          1   \n",
       "33316   360000       Larache      1                 75          1   \n",
       "33317   350000        Agadir      1                 58          1   \n",
       "\n",
       "       NB Chambres  NB Salles de Bain  Longitude   Latitude  \n",
       "1                2                  1  -8.500712  33.231633  \n",
       "2                3                  1  -8.500712  33.231633  \n",
       "5                3                  1  -7.537081  33.416063  \n",
       "6                1                  1  -7.291590  33.739586  \n",
       "7                2                  2  -7.989826  31.622522  \n",
       "...            ...                ...        ...        ...  \n",
       "33311            3                  2  -7.589843  33.573110  \n",
       "33313            2                  1  -8.500712  33.231633  \n",
       "33315            2                  1  -6.770814  34.033697  \n",
       "33316            2                  1  -6.147396  35.174427  \n",
       "33317            2                  1  -9.592544  30.428041  \n",
       "\n",
       "[19705 rows x 9 columns]"
      ]
     },
     "execution_count": 160,
     "metadata": {},
     "output_type": "execute_result"
    }
   ],
   "source": [
    "df2"
   ]
  },
  {
   "cell_type": "code",
   "execution_count": 161,
   "id": "745c9d50",
   "metadata": {},
   "outputs": [
    {
     "data": {
      "text/html": [
       "<div>\n",
       "<style scoped>\n",
       "    .dataframe tbody tr th:only-of-type {\n",
       "        vertical-align: middle;\n",
       "    }\n",
       "\n",
       "    .dataframe tbody tr th {\n",
       "        vertical-align: top;\n",
       "    }\n",
       "\n",
       "    .dataframe thead th {\n",
       "        text-align: right;\n",
       "    }\n",
       "</style>\n",
       "<table border=\"1\" class=\"dataframe\">\n",
       "  <thead>\n",
       "    <tr style=\"text-align: right;\">\n",
       "      <th></th>\n",
       "      <th>Prix</th>\n",
       "      <th>Ville</th>\n",
       "      <th>Etage</th>\n",
       "      <th>Surface habitable</th>\n",
       "      <th>NB Salons</th>\n",
       "      <th>NB Chambres</th>\n",
       "      <th>NB Salles de Bain</th>\n",
       "      <th>Longitude</th>\n",
       "      <th>Latitude</th>\n",
       "    </tr>\n",
       "  </thead>\n",
       "  <tbody>\n",
       "    <tr>\n",
       "      <th>1</th>\n",
       "      <td>360000</td>\n",
       "      <td>El Jadida</td>\n",
       "      <td>2</td>\n",
       "      <td>62</td>\n",
       "      <td>1</td>\n",
       "      <td>2</td>\n",
       "      <td>1</td>\n",
       "      <td>-8.500712</td>\n",
       "      <td>33.231633</td>\n",
       "    </tr>\n",
       "    <tr>\n",
       "      <th>2</th>\n",
       "      <td>750000</td>\n",
       "      <td>El Jadida</td>\n",
       "      <td>2</td>\n",
       "      <td>92</td>\n",
       "      <td>1</td>\n",
       "      <td>3</td>\n",
       "      <td>1</td>\n",
       "      <td>-8.500712</td>\n",
       "      <td>33.231633</td>\n",
       "    </tr>\n",
       "    <tr>\n",
       "      <th>5</th>\n",
       "      <td>250000</td>\n",
       "      <td>Deroua</td>\n",
       "      <td>4</td>\n",
       "      <td>72</td>\n",
       "      <td>1</td>\n",
       "      <td>3</td>\n",
       "      <td>1</td>\n",
       "      <td>-7.537081</td>\n",
       "      <td>33.416063</td>\n",
       "    </tr>\n",
       "    <tr>\n",
       "      <th>6</th>\n",
       "      <td>445000</td>\n",
       "      <td>El Mansouria</td>\n",
       "      <td>3</td>\n",
       "      <td>50</td>\n",
       "      <td>1</td>\n",
       "      <td>1</td>\n",
       "      <td>1</td>\n",
       "      <td>-7.291590</td>\n",
       "      <td>33.739586</td>\n",
       "    </tr>\n",
       "    <tr>\n",
       "      <th>7</th>\n",
       "      <td>450000</td>\n",
       "      <td>Marrakech</td>\n",
       "      <td>2</td>\n",
       "      <td>71</td>\n",
       "      <td>1</td>\n",
       "      <td>2</td>\n",
       "      <td>2</td>\n",
       "      <td>-7.989826</td>\n",
       "      <td>31.622522</td>\n",
       "    </tr>\n",
       "    <tr>\n",
       "      <th>...</th>\n",
       "      <td>...</td>\n",
       "      <td>...</td>\n",
       "      <td>...</td>\n",
       "      <td>...</td>\n",
       "      <td>...</td>\n",
       "      <td>...</td>\n",
       "      <td>...</td>\n",
       "      <td>...</td>\n",
       "      <td>...</td>\n",
       "    </tr>\n",
       "    <tr>\n",
       "      <th>33311</th>\n",
       "      <td>1290000</td>\n",
       "      <td>Casablanca</td>\n",
       "      <td>6</td>\n",
       "      <td>130</td>\n",
       "      <td>2</td>\n",
       "      <td>3</td>\n",
       "      <td>2</td>\n",
       "      <td>-7.589843</td>\n",
       "      <td>33.573110</td>\n",
       "    </tr>\n",
       "    <tr>\n",
       "      <th>33313</th>\n",
       "      <td>580000</td>\n",
       "      <td>El Jadida</td>\n",
       "      <td>1</td>\n",
       "      <td>67</td>\n",
       "      <td>1</td>\n",
       "      <td>2</td>\n",
       "      <td>1</td>\n",
       "      <td>-8.500712</td>\n",
       "      <td>33.231633</td>\n",
       "    </tr>\n",
       "    <tr>\n",
       "      <th>33315</th>\n",
       "      <td>245000</td>\n",
       "      <td>Salé</td>\n",
       "      <td>3</td>\n",
       "      <td>65</td>\n",
       "      <td>1</td>\n",
       "      <td>2</td>\n",
       "      <td>1</td>\n",
       "      <td>-6.770814</td>\n",
       "      <td>34.033697</td>\n",
       "    </tr>\n",
       "    <tr>\n",
       "      <th>33316</th>\n",
       "      <td>360000</td>\n",
       "      <td>Larache</td>\n",
       "      <td>1</td>\n",
       "      <td>75</td>\n",
       "      <td>1</td>\n",
       "      <td>2</td>\n",
       "      <td>1</td>\n",
       "      <td>-6.147396</td>\n",
       "      <td>35.174427</td>\n",
       "    </tr>\n",
       "    <tr>\n",
       "      <th>33317</th>\n",
       "      <td>350000</td>\n",
       "      <td>Agadir</td>\n",
       "      <td>1</td>\n",
       "      <td>58</td>\n",
       "      <td>1</td>\n",
       "      <td>2</td>\n",
       "      <td>1</td>\n",
       "      <td>-9.592544</td>\n",
       "      <td>30.428041</td>\n",
       "    </tr>\n",
       "  </tbody>\n",
       "</table>\n",
       "<p>19705 rows × 9 columns</p>\n",
       "</div>"
      ],
      "text/plain": [
       "          Prix         Ville  Etage  Surface habitable  NB Salons  \\\n",
       "1       360000     El Jadida      2                 62          1   \n",
       "2       750000     El Jadida      2                 92          1   \n",
       "5       250000        Deroua      4                 72          1   \n",
       "6       445000  El Mansouria      3                 50          1   \n",
       "7       450000     Marrakech      2                 71          1   \n",
       "...        ...           ...    ...                ...        ...   \n",
       "33311  1290000    Casablanca      6                130          2   \n",
       "33313   580000     El Jadida      1                 67          1   \n",
       "33315   245000          Salé      3                 65          1   \n",
       "33316   360000       Larache      1                 75          1   \n",
       "33317   350000        Agadir      1                 58          1   \n",
       "\n",
       "       NB Chambres  NB Salles de Bain  Longitude   Latitude  \n",
       "1                2                  1  -8.500712  33.231633  \n",
       "2                3                  1  -8.500712  33.231633  \n",
       "5                3                  1  -7.537081  33.416063  \n",
       "6                1                  1  -7.291590  33.739586  \n",
       "7                2                  2  -7.989826  31.622522  \n",
       "...            ...                ...        ...        ...  \n",
       "33311            3                  2  -7.589843  33.573110  \n",
       "33313            2                  1  -8.500712  33.231633  \n",
       "33315            2                  1  -6.770814  34.033697  \n",
       "33316            2                  1  -6.147396  35.174427  \n",
       "33317            2                  1  -9.592544  30.428041  \n",
       "\n",
       "[19705 rows x 9 columns]"
      ]
     },
     "execution_count": 161,
     "metadata": {},
     "output_type": "execute_result"
    }
   ],
   "source": [
    "df"
   ]
  },
  {
   "cell_type": "code",
   "execution_count": 162,
   "id": "c60cf55d",
   "metadata": {},
   "outputs": [
    {
     "data": {
      "text/plain": [
       "Prix                 0\n",
       "Ville                0\n",
       "Etage                0\n",
       "Surface habitable    0\n",
       "NB Salons            0\n",
       "NB Chambres          0\n",
       "NB Salles de Bain    0\n",
       "Longitude            2\n",
       "Latitude             2\n",
       "dtype: int64"
      ]
     },
     "execution_count": 162,
     "metadata": {},
     "output_type": "execute_result"
    }
   ],
   "source": [
    "df.isnull().sum()"
   ]
  },
  {
   "cell_type": "code",
   "execution_count": 163,
   "id": "666e6c7a",
   "metadata": {},
   "outputs": [
    {
     "data": {
      "text/plain": [
       "Prix                 0\n",
       "Ville                0\n",
       "Etage                0\n",
       "Surface habitable    0\n",
       "NB Salons            0\n",
       "NB Chambres          0\n",
       "NB Salles de Bain    0\n",
       "Longitude            0\n",
       "Latitude             0\n",
       "dtype: int64"
      ]
     },
     "execution_count": 163,
     "metadata": {},
     "output_type": "execute_result"
    }
   ],
   "source": [
    "df2 = df2.dropna()\n",
    "df2.isnull().sum()"
   ]
  },
  {
   "cell_type": "code",
   "execution_count": 164,
   "id": "67196640",
   "metadata": {},
   "outputs": [],
   "source": [
    "df2 = df2.drop('Ville', axis=1)"
   ]
  },
  {
   "cell_type": "code",
   "execution_count": 165,
   "id": "1d7fc250",
   "metadata": {},
   "outputs": [
    {
     "data": {
      "text/plain": [
       "Prix                   int32\n",
       "Etage                  int32\n",
       "Surface habitable      int32\n",
       "NB Salons              int32\n",
       "NB Chambres            int32\n",
       "NB Salles de Bain      int32\n",
       "Longitude            float64\n",
       "Latitude             float64\n",
       "dtype: object"
      ]
     },
     "execution_count": 165,
     "metadata": {},
     "output_type": "execute_result"
    }
   ],
   "source": [
    "df2.dtypes"
   ]
  },
  {
   "cell_type": "code",
   "execution_count": 166,
   "id": "81010fba",
   "metadata": {},
   "outputs": [],
   "source": [
    "df2.to_csv(\"data.csv\", index=False)"
   ]
  },
  {
   "cell_type": "code",
   "execution_count": null,
   "id": "6dd96e1e",
   "metadata": {},
   "outputs": [],
   "source": []
  },
  {
   "cell_type": "code",
   "execution_count": null,
   "id": "1fc1bf45",
   "metadata": {},
   "outputs": [],
   "source": []
  }
 ],
 "metadata": {
  "kernelspec": {
   "display_name": "Python 3 (ipykernel)",
   "language": "python",
   "name": "python3"
  },
  "language_info": {
   "codemirror_mode": {
    "name": "ipython",
    "version": 3
   },
   "file_extension": ".py",
   "mimetype": "text/x-python",
   "name": "python",
   "nbconvert_exporter": "python",
   "pygments_lexer": "ipython3",
   "version": "3.11.5"
  }
 },
 "nbformat": 4,
 "nbformat_minor": 5
}
