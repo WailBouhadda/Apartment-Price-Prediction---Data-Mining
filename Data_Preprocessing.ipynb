{
 "cells": [
  {
   "cell_type": "code",
   "execution_count": 347,
   "id": "d4f3f067",
   "metadata": {},
   "outputs": [],
   "source": [
    "import pandas as pd"
   ]
  },
  {
   "cell_type": "markdown",
   "id": "8c466acc",
   "metadata": {},
   "source": [
    "# 1 - Load Data"
   ]
  },
  {
   "cell_type": "code",
   "execution_count": 348,
   "id": "701160a7",
   "metadata": {},
   "outputs": [],
   "source": [
    "df = pd.read_csv(\"Appartements.csv\")"
   ]
  },
  {
   "cell_type": "code",
   "execution_count": 349,
   "id": "64a0415a",
   "metadata": {},
   "outputs": [
    {
     "data": {
      "text/html": [
       "<div>\n",
       "<style scoped>\n",
       "    .dataframe tbody tr th:only-of-type {\n",
       "        vertical-align: middle;\n",
       "    }\n",
       "\n",
       "    .dataframe tbody tr th {\n",
       "        vertical-align: top;\n",
       "    }\n",
       "\n",
       "    .dataframe thead th {\n",
       "        text-align: right;\n",
       "    }\n",
       "</style>\n",
       "<table border=\"1\" class=\"dataframe\">\n",
       "  <thead>\n",
       "    <tr style=\"text-align: right;\">\n",
       "      <th></th>\n",
       "      <th>Titre</th>\n",
       "      <th>Prix</th>\n",
       "      <th>Ville</th>\n",
       "      <th>Type</th>\n",
       "      <th>Secteur</th>\n",
       "      <th>Etage</th>\n",
       "      <th>Age du bien</th>\n",
       "      <th>Surface habitable</th>\n",
       "      <th>NB Salons</th>\n",
       "      <th>NB Chambres</th>\n",
       "      <th>NB Salles de Bain</th>\n",
       "      <th>Frais de syndic / mois</th>\n",
       "      <th>Description</th>\n",
       "    </tr>\n",
       "  </thead>\n",
       "  <tbody>\n",
       "    <tr>\n",
       "      <th>0</th>\n",
       "      <td>Appartement 165m² narjiss à El Jadida</td>\n",
       "      <td>1 160 000 DH</td>\n",
       "      <td>El Jadida</td>\n",
       "      <td>Appartements, à vendre</td>\n",
       "      <td>Narjiss</td>\n",
       "      <td>1</td>\n",
       "      <td>NaN</td>\n",
       "      <td>229</td>\n",
       "      <td>3</td>\n",
       "      <td>6</td>\n",
       "      <td>2</td>\n",
       "      <td>NaN</td>\n",
       "      <td>un appart 115m2 et garçonnière 50m2 à vendre\\n...</td>\n",
       "    </tr>\n",
       "    <tr>\n",
       "      <th>1</th>\n",
       "      <td>Appartement à vendre 62 m² à El Jadida</td>\n",
       "      <td>360 000 DH</td>\n",
       "      <td>El Jadida</td>\n",
       "      <td>Appartements, à vendre</td>\n",
       "      <td>Autre secteur</td>\n",
       "      <td>2</td>\n",
       "      <td>6-10 ans</td>\n",
       "      <td>62</td>\n",
       "      <td>1</td>\n",
       "      <td>2</td>\n",
       "      <td>1</td>\n",
       "      <td>NaN</td>\n",
       "      <td>un appart 62m2 à vendre\\nappart au quartier hi...</td>\n",
       "    </tr>\n",
       "    <tr>\n",
       "      <th>2</th>\n",
       "      <td>Appartement hay essalam 92 m² à El Jadida</td>\n",
       "      <td>750 000 DH</td>\n",
       "      <td>El Jadida</td>\n",
       "      <td>Appartements, à vendre</td>\n",
       "      <td>Hay Essalam</td>\n",
       "      <td>2</td>\n",
       "      <td>6-10 ans</td>\n",
       "      <td>92</td>\n",
       "      <td>1</td>\n",
       "      <td>3</td>\n",
       "      <td>1</td>\n",
       "      <td>NaN</td>\n",
       "      <td>un appart 92m2 à vendre\\nappart au quartier sa...</td>\n",
       "    </tr>\n",
       "    <tr>\n",
       "      <th>3</th>\n",
       "      <td>Appartement 110m² 2ème étg. résd. fermée Corniche</td>\n",
       "      <td>2 100 000 DH</td>\n",
       "      <td>Casablanca</td>\n",
       "      <td>Appartements, à vendre</td>\n",
       "      <td>Bourgogne</td>\n",
       "      <td>2</td>\n",
       "      <td>1-5 ans</td>\n",
       "      <td>136</td>\n",
       "      <td>1</td>\n",
       "      <td>2</td>\n",
       "      <td>2</td>\n",
       "      <td>500.0</td>\n",
       "      <td>Appartement moderne 110m² au 2ème étg. en rési...</td>\n",
       "    </tr>\n",
       "    <tr>\n",
       "      <th>4</th>\n",
       "      <td>app a vendre</td>\n",
       "      <td>7 400 000 DH</td>\n",
       "      <td>El Mansouria</td>\n",
       "      <td>Appartements, à vendre</td>\n",
       "      <td>Toute la ville</td>\n",
       "      <td>2</td>\n",
       "      <td>Neuf</td>\n",
       "      <td>60</td>\n",
       "      <td>1</td>\n",
       "      <td>1</td>\n",
       "      <td>1</td>\n",
       "      <td>450.0</td>\n",
       "      <td>vendre un belle appartement vie sur piscine et...</td>\n",
       "    </tr>\n",
       "    <tr>\n",
       "      <th>...</th>\n",
       "      <td>...</td>\n",
       "      <td>...</td>\n",
       "      <td>...</td>\n",
       "      <td>...</td>\n",
       "      <td>...</td>\n",
       "      <td>...</td>\n",
       "      <td>...</td>\n",
       "      <td>...</td>\n",
       "      <td>...</td>\n",
       "      <td>...</td>\n",
       "      <td>...</td>\n",
       "      <td>...</td>\n",
       "      <td>...</td>\n",
       "    </tr>\n",
       "    <tr>\n",
       "      <th>33316</th>\n",
       "      <td>Appartement 75m² en Vente à Larache</td>\n",
       "      <td>360 000 DH</td>\n",
       "      <td>Larache</td>\n",
       "      <td>Appartements, à vendre</td>\n",
       "      <td>Toute la ville</td>\n",
       "      <td>1</td>\n",
       "      <td>1-5 ans</td>\n",
       "      <td>75</td>\n",
       "      <td>1</td>\n",
       "      <td>2</td>\n",
       "      <td>1</td>\n",
       "      <td>180.0</td>\n",
       "      <td>Appartement en vente\\n\\nPrix 36 malion</td>\n",
       "    </tr>\n",
       "    <tr>\n",
       "      <th>33317</th>\n",
       "      <td>Appartement en Vente à Farah Agadir</td>\n",
       "      <td>350 000 DH</td>\n",
       "      <td>Agadir</td>\n",
       "      <td>Appartements, à vendre</td>\n",
       "      <td>Hay Al Farah</td>\n",
       "      <td>1</td>\n",
       "      <td>NaN</td>\n",
       "      <td>58</td>\n",
       "      <td>1</td>\n",
       "      <td>2</td>\n",
       "      <td>1</td>\n",
       "      <td>NaN</td>\n",
       "      <td>SERVICE CHERKI met en vente un appartement d'u...</td>\n",
       "    </tr>\n",
       "    <tr>\n",
       "      <th>33318</th>\n",
       "      <td>garçonnière</td>\n",
       "      <td>180 000 DH</td>\n",
       "      <td>Casablanca</td>\n",
       "      <td>Appartements, à vendre</td>\n",
       "      <td>Ben M'sick</td>\n",
       "      <td>4</td>\n",
       "      <td>NaN</td>\n",
       "      <td>NaN</td>\n",
       "      <td>1</td>\n",
       "      <td>1</td>\n",
       "      <td>1</td>\n",
       "      <td>NaN</td>\n",
       "      <td>garçonnière au quatrième étage. tetri</td>\n",
       "    </tr>\n",
       "    <tr>\n",
       "      <th>33319</th>\n",
       "      <td>شقة مجهزة</td>\n",
       "      <td>125 000 DH</td>\n",
       "      <td>Agadir</td>\n",
       "      <td>Appartements, à vendre</td>\n",
       "      <td>Hay Salam</td>\n",
       "      <td>1</td>\n",
       "      <td>6-10 ans</td>\n",
       "      <td>122</td>\n",
       "      <td>1</td>\n",
       "      <td>3</td>\n",
       "      <td>2</td>\n",
       "      <td>1.0</td>\n",
       "      <td>شقة مجهزة للبيع حي السلام بالقرب من جميع المرا...</td>\n",
       "    </tr>\n",
       "    <tr>\n",
       "      <th>33320</th>\n",
       "      <td>شقة جديدة في سهب الورد فاس في حي الطلبة .</td>\n",
       "      <td>159 000 DH</td>\n",
       "      <td>Fès</td>\n",
       "      <td>Appartements, à vendre</td>\n",
       "      <td>Sehb El Ward</td>\n",
       "      <td>4</td>\n",
       "      <td>Neuf</td>\n",
       "      <td>71</td>\n",
       "      <td>1</td>\n",
       "      <td>2</td>\n",
       "      <td>1</td>\n",
       "      <td>71.0</td>\n",
       "      <td>شقة جديدة في سهب الورد فاس في حي الطلبة .\\nالم...</td>\n",
       "    </tr>\n",
       "  </tbody>\n",
       "</table>\n",
       "<p>33321 rows × 13 columns</p>\n",
       "</div>"
      ],
      "text/plain": [
       "                                                   Titre          Prix  \\\n",
       "0                  Appartement 165m² narjiss à El Jadida  1 160 000 DH   \n",
       "1                 Appartement à vendre 62 m² à El Jadida    360 000 DH   \n",
       "2              Appartement hay essalam 92 m² à El Jadida    750 000 DH   \n",
       "3      Appartement 110m² 2ème étg. résd. fermée Corniche  2 100 000 DH   \n",
       "4                                           app a vendre  7 400 000 DH   \n",
       "...                                                  ...           ...   \n",
       "33316                Appartement 75m² en Vente à Larache    360 000 DH   \n",
       "33317                Appartement en Vente à Farah Agadir    350 000 DH   \n",
       "33318                                        garçonnière    180 000 DH   \n",
       "33319                                          شقة مجهزة    125 000 DH   \n",
       "33320          شقة جديدة في سهب الورد فاس في حي الطلبة .    159 000 DH   \n",
       "\n",
       "              Ville                    Type         Secteur Etage Age du bien  \\\n",
       "0         El Jadida  Appartements, à vendre         Narjiss     1         NaN   \n",
       "1         El Jadida  Appartements, à vendre   Autre secteur     2    6-10 ans   \n",
       "2         El Jadida  Appartements, à vendre     Hay Essalam     2    6-10 ans   \n",
       "3        Casablanca  Appartements, à vendre       Bourgogne     2     1-5 ans   \n",
       "4      El Mansouria  Appartements, à vendre  Toute la ville     2        Neuf   \n",
       "...             ...                     ...             ...   ...         ...   \n",
       "33316       Larache  Appartements, à vendre  Toute la ville     1     1-5 ans   \n",
       "33317        Agadir  Appartements, à vendre    Hay Al Farah     1         NaN   \n",
       "33318    Casablanca  Appartements, à vendre      Ben M'sick     4         NaN   \n",
       "33319        Agadir  Appartements, à vendre       Hay Salam     1    6-10 ans   \n",
       "33320           Fès  Appartements, à vendre    Sehb El Ward     4        Neuf   \n",
       "\n",
       "      Surface habitable NB Salons NB Chambres NB Salles de Bain  \\\n",
       "0                   229         3           6                 2   \n",
       "1                    62         1           2                 1   \n",
       "2                    92         1           3                 1   \n",
       "3                   136         1           2                 2   \n",
       "4                    60         1           1                 1   \n",
       "...                 ...       ...         ...               ...   \n",
       "33316                75         1           2                 1   \n",
       "33317                58         1           2                 1   \n",
       "33318               NaN         1           1                 1   \n",
       "33319               122         1           3                 2   \n",
       "33320                71         1           2                 1   \n",
       "\n",
       "       Frais de syndic / mois  \\\n",
       "0                         NaN   \n",
       "1                         NaN   \n",
       "2                         NaN   \n",
       "3                       500.0   \n",
       "4                       450.0   \n",
       "...                       ...   \n",
       "33316                   180.0   \n",
       "33317                     NaN   \n",
       "33318                     NaN   \n",
       "33319                     1.0   \n",
       "33320                    71.0   \n",
       "\n",
       "                                             Description  \n",
       "0      un appart 115m2 et garçonnière 50m2 à vendre\\n...  \n",
       "1      un appart 62m2 à vendre\\nappart au quartier hi...  \n",
       "2      un appart 92m2 à vendre\\nappart au quartier sa...  \n",
       "3      Appartement moderne 110m² au 2ème étg. en rési...  \n",
       "4      vendre un belle appartement vie sur piscine et...  \n",
       "...                                                  ...  \n",
       "33316             Appartement en vente\\n\\nPrix 36 malion  \n",
       "33317  SERVICE CHERKI met en vente un appartement d'u...  \n",
       "33318              garçonnière au quatrième étage. tetri  \n",
       "33319  شقة مجهزة للبيع حي السلام بالقرب من جميع المرا...  \n",
       "33320  شقة جديدة في سهب الورد فاس في حي الطلبة .\\nالم...  \n",
       "\n",
       "[33321 rows x 13 columns]"
      ]
     },
     "execution_count": 349,
     "metadata": {},
     "output_type": "execute_result"
    }
   ],
   "source": [
    "df"
   ]
  },
  {
   "cell_type": "code",
   "execution_count": 350,
   "id": "86f6749e",
   "metadata": {},
   "outputs": [
    {
     "data": {
      "text/plain": [
       "Titre                      object\n",
       "Prix                       object\n",
       "Ville                      object\n",
       "Type                       object\n",
       "Secteur                    object\n",
       "Etage                      object\n",
       "Age du bien                object\n",
       "Surface habitable          object\n",
       "NB Salons                  object\n",
       "NB Chambres                object\n",
       "NB Salles de Bain          object\n",
       "Frais de syndic / mois    float64\n",
       "Description                object\n",
       "dtype: object"
      ]
     },
     "execution_count": 350,
     "metadata": {},
     "output_type": "execute_result"
    }
   ],
   "source": [
    "df.dtypes"
   ]
  },
  {
   "cell_type": "markdown",
   "id": "0f4c6971",
   "metadata": {},
   "source": [
    "### Duplicates"
   ]
  },
  {
   "cell_type": "code",
   "execution_count": 351,
   "id": "1cce9e50",
   "metadata": {},
   "outputs": [
    {
     "data": {
      "text/plain": [
       "1814"
      ]
     },
     "execution_count": 351,
     "metadata": {},
     "output_type": "execute_result"
    }
   ],
   "source": [
    "df.duplicated().sum()"
   ]
  },
  {
   "cell_type": "code",
   "execution_count": 352,
   "id": "87121ec8",
   "metadata": {},
   "outputs": [],
   "source": [
    "df.drop_duplicates(inplace = True)"
   ]
  },
  {
   "cell_type": "markdown",
   "id": "eb451169",
   "metadata": {},
   "source": [
    "### Null rows"
   ]
  },
  {
   "cell_type": "code",
   "execution_count": 353,
   "id": "58c26f3e",
   "metadata": {},
   "outputs": [
    {
     "data": {
      "text/plain": [
       "Titre                         1\n",
       "Prix                          1\n",
       "Ville                         4\n",
       "Type                          1\n",
       "Secteur                     355\n",
       "Etage                       615\n",
       "Age du bien                6686\n",
       "Surface habitable           618\n",
       "NB Salons                  1264\n",
       "NB Chambres                 383\n",
       "NB Salles de Bain          1237\n",
       "Frais de syndic / mois    19452\n",
       "Description                   3\n",
       "dtype: int64"
      ]
     },
     "execution_count": 353,
     "metadata": {},
     "output_type": "execute_result"
    }
   ],
   "source": [
    "df.isnull().sum()"
   ]
  },
  {
   "cell_type": "code",
   "execution_count": 354,
   "id": "a7c45504",
   "metadata": {},
   "outputs": [
    {
     "data": {
      "text/plain": [
       "30620"
      ]
     },
     "execution_count": 354,
     "metadata": {},
     "output_type": "execute_result"
    }
   ],
   "source": [
    "df.isnull().sum().sum()"
   ]
  },
  {
   "cell_type": "code",
   "execution_count": 355,
   "id": "3343f701",
   "metadata": {},
   "outputs": [
    {
     "data": {
      "text/plain": [
       "<Axes: >"
      ]
     },
     "execution_count": 355,
     "metadata": {},
     "output_type": "execute_result"
    },
    {
     "data": {
      "image/png": "[encoded data removed]",
      "text/plain": [
       "<Figure size 2500x1000 with 3 Axes>"
      ]
     },
     "metadata": {},
     "output_type": "display_data"
    }
   ],
   "source": [
    "import missingno as msno\n",
    "msno.bar(df)"
   ]
  },
  {
   "cell_type": "markdown",
   "id": "12fb07c5",
   "metadata": {},
   "source": [
    "### Drope ( Frais de syndic / mois  -  Age du bien  -  Type  -  Titre  -  Description) Columns"
   ]
  },
  {
   "cell_type": "code",
   "execution_count": 356,
   "id": "8ad8340d",
   "metadata": {},
   "outputs": [],
   "source": [
    "df = df.drop(\"Frais de syndic / mois\", axis='columns')"
   ]
  },
  {
   "cell_type": "code",
   "execution_count": 357,
   "id": "60e371eb",
   "metadata": {},
   "outputs": [],
   "source": [
    "df = df.drop(\"Age du bien\", axis='columns')"
   ]
  },
  {
   "cell_type": "code",
   "execution_count": 358,
   "id": "68642249",
   "metadata": {},
   "outputs": [],
   "source": [
    "df = df.drop(\"Type\", axis='columns')"
   ]
  },
  {
   "cell_type": "code",
   "execution_count": 359,
   "id": "465e54ea",
   "metadata": {},
   "outputs": [],
   "source": [
    "df = df.drop(\"Titre\", axis='columns')"
   ]
  },
  {
   "cell_type": "code",
   "execution_count": 360,
   "id": "8cf8f92b",
   "metadata": {},
   "outputs": [],
   "source": [
    "df = df.drop(\"Description\", axis='columns')"
   ]
  },
  {
   "cell_type": "markdown",
   "id": "913acb14",
   "metadata": {},
   "source": [
    "### Remove rows with 'Secteur', 'Etage', 'Surface habitable', 'NB Salons', 'NB Chambres', 'NB Salles de Bain' Null"
   ]
  },
  {
   "cell_type": "code",
   "execution_count": 361,
   "id": "83c29fde",
   "metadata": {},
   "outputs": [],
   "source": [
    "columns_to_check = ['Secteur', 'Etage', 'Surface habitable', 'NB Salons', 'NB Chambres', 'NB Salles de Bain']\n",
    "df.dropna(subset=columns_to_check, how='all', inplace=True)"
   ]
  },
  {
   "cell_type": "code",
   "execution_count": 362,
   "id": "16997b72",
   "metadata": {},
   "outputs": [
    {
     "data": {
      "text/html": [
       "<div>\n",
       "<style scoped>\n",
       "    .dataframe tbody tr th:only-of-type {\n",
       "        vertical-align: middle;\n",
       "    }\n",
       "\n",
       "    .dataframe tbody tr th {\n",
       "        vertical-align: top;\n",
       "    }\n",
       "\n",
       "    .dataframe thead th {\n",
       "        text-align: right;\n",
       "    }\n",
       "</style>\n",
       "<table border=\"1\" class=\"dataframe\">\n",
       "  <thead>\n",
       "    <tr style=\"text-align: right;\">\n",
       "      <th></th>\n",
       "      <th>Prix</th>\n",
       "      <th>Ville</th>\n",
       "      <th>Secteur</th>\n",
       "      <th>Etage</th>\n",
       "      <th>Surface habitable</th>\n",
       "      <th>NB Salons</th>\n",
       "      <th>NB Chambres</th>\n",
       "      <th>NB Salles de Bain</th>\n",
       "    </tr>\n",
       "  </thead>\n",
       "  <tbody>\n",
       "    <tr>\n",
       "      <th>0</th>\n",
       "      <td>1 160 000 DH</td>\n",
       "      <td>El Jadida</td>\n",
       "      <td>Narjiss</td>\n",
       "      <td>1</td>\n",
       "      <td>229</td>\n",
       "      <td>3</td>\n",
       "      <td>6</td>\n",
       "      <td>2</td>\n",
       "    </tr>\n",
       "    <tr>\n",
       "      <th>1</th>\n",
       "      <td>360 000 DH</td>\n",
       "      <td>El Jadida</td>\n",
       "      <td>Autre secteur</td>\n",
       "      <td>2</td>\n",
       "      <td>62</td>\n",
       "      <td>1</td>\n",
       "      <td>2</td>\n",
       "      <td>1</td>\n",
       "    </tr>\n",
       "    <tr>\n",
       "      <th>2</th>\n",
       "      <td>750 000 DH</td>\n",
       "      <td>El Jadida</td>\n",
       "      <td>Hay Essalam</td>\n",
       "      <td>2</td>\n",
       "      <td>92</td>\n",
       "      <td>1</td>\n",
       "      <td>3</td>\n",
       "      <td>1</td>\n",
       "    </tr>\n",
       "    <tr>\n",
       "      <th>3</th>\n",
       "      <td>2 100 000 DH</td>\n",
       "      <td>Casablanca</td>\n",
       "      <td>Bourgogne</td>\n",
       "      <td>2</td>\n",
       "      <td>136</td>\n",
       "      <td>1</td>\n",
       "      <td>2</td>\n",
       "      <td>2</td>\n",
       "    </tr>\n",
       "    <tr>\n",
       "      <th>4</th>\n",
       "      <td>7 400 000 DH</td>\n",
       "      <td>El Mansouria</td>\n",
       "      <td>Toute la ville</td>\n",
       "      <td>2</td>\n",
       "      <td>60</td>\n",
       "      <td>1</td>\n",
       "      <td>1</td>\n",
       "      <td>1</td>\n",
       "    </tr>\n",
       "    <tr>\n",
       "      <th>...</th>\n",
       "      <td>...</td>\n",
       "      <td>...</td>\n",
       "      <td>...</td>\n",
       "      <td>...</td>\n",
       "      <td>...</td>\n",
       "      <td>...</td>\n",
       "      <td>...</td>\n",
       "      <td>...</td>\n",
       "    </tr>\n",
       "    <tr>\n",
       "      <th>33316</th>\n",
       "      <td>360 000 DH</td>\n",
       "      <td>Larache</td>\n",
       "      <td>Toute la ville</td>\n",
       "      <td>1</td>\n",
       "      <td>75</td>\n",
       "      <td>1</td>\n",
       "      <td>2</td>\n",
       "      <td>1</td>\n",
       "    </tr>\n",
       "    <tr>\n",
       "      <th>33317</th>\n",
       "      <td>350 000 DH</td>\n",
       "      <td>Agadir</td>\n",
       "      <td>Hay Al Farah</td>\n",
       "      <td>1</td>\n",
       "      <td>58</td>\n",
       "      <td>1</td>\n",
       "      <td>2</td>\n",
       "      <td>1</td>\n",
       "    </tr>\n",
       "    <tr>\n",
       "      <th>33318</th>\n",
       "      <td>180 000 DH</td>\n",
       "      <td>Casablanca</td>\n",
       "      <td>Ben M'sick</td>\n",
       "      <td>4</td>\n",
       "      <td>NaN</td>\n",
       "      <td>1</td>\n",
       "      <td>1</td>\n",
       "      <td>1</td>\n",
       "    </tr>\n",
       "    <tr>\n",
       "      <th>33319</th>\n",
       "      <td>125 000 DH</td>\n",
       "      <td>Agadir</td>\n",
       "      <td>Hay Salam</td>\n",
       "      <td>1</td>\n",
       "      <td>122</td>\n",
       "      <td>1</td>\n",
       "      <td>3</td>\n",
       "      <td>2</td>\n",
       "    </tr>\n",
       "    <tr>\n",
       "      <th>33320</th>\n",
       "      <td>159 000 DH</td>\n",
       "      <td>Fès</td>\n",
       "      <td>Sehb El Ward</td>\n",
       "      <td>4</td>\n",
       "      <td>71</td>\n",
       "      <td>1</td>\n",
       "      <td>2</td>\n",
       "      <td>1</td>\n",
       "    </tr>\n",
       "  </tbody>\n",
       "</table>\n",
       "<p>31495 rows × 8 columns</p>\n",
       "</div>"
      ],
      "text/plain": [
       "               Prix         Ville         Secteur Etage Surface habitable  \\\n",
       "0      1 160 000 DH     El Jadida         Narjiss     1               229   \n",
       "1        360 000 DH     El Jadida   Autre secteur     2                62   \n",
       "2        750 000 DH     El Jadida     Hay Essalam     2                92   \n",
       "3      2 100 000 DH    Casablanca       Bourgogne     2               136   \n",
       "4      7 400 000 DH  El Mansouria  Toute la ville     2                60   \n",
       "...             ...           ...             ...   ...               ...   \n",
       "33316    360 000 DH       Larache  Toute la ville     1                75   \n",
       "33317    350 000 DH        Agadir    Hay Al Farah     1                58   \n",
       "33318    180 000 DH    Casablanca      Ben M'sick     4               NaN   \n",
       "33319    125 000 DH        Agadir       Hay Salam     1               122   \n",
       "33320    159 000 DH           Fès    Sehb El Ward     4                71   \n",
       "\n",
       "      NB Salons NB Chambres NB Salles de Bain  \n",
       "0             3           6                 2  \n",
       "1             1           2                 1  \n",
       "2             1           3                 1  \n",
       "3             1           2                 2  \n",
       "4             1           1                 1  \n",
       "...         ...         ...               ...  \n",
       "33316         1           2                 1  \n",
       "33317         1           2                 1  \n",
       "33318         1           1                 1  \n",
       "33319         1           3                 2  \n",
       "33320         1           2                 1  \n",
       "\n",
       "[31495 rows x 8 columns]"
      ]
     },
     "execution_count": 362,
     "metadata": {},
     "output_type": "execute_result"
    }
   ],
   "source": [
    "df"
   ]
  },
  {
   "cell_type": "code",
   "execution_count": 363,
   "id": "a952bef7",
   "metadata": {},
   "outputs": [
    {
     "data": {
      "text/plain": [
       "Prix                    0\n",
       "Ville                   3\n",
       "Secteur               343\n",
       "Etage                 603\n",
       "Surface habitable     606\n",
       "NB Salons            1252\n",
       "NB Chambres           371\n",
       "NB Salles de Bain    1225\n",
       "dtype: int64"
      ]
     },
     "execution_count": 363,
     "metadata": {},
     "output_type": "execute_result"
    }
   ],
   "source": [
    "df.isnull().sum()"
   ]
  },
  {
   "cell_type": "markdown",
   "id": "6c082bc5",
   "metadata": {},
   "source": [
    "## 1 - Prix"
   ]
  },
  {
   "cell_type": "code",
   "execution_count": 364,
   "id": "e2ec4ae5",
   "metadata": {},
   "outputs": [
    {
     "data": {
      "text/plain": [
       "0"
      ]
     },
     "execution_count": 364,
     "metadata": {},
     "output_type": "execute_result"
    }
   ],
   "source": [
    "df['Prix'].isnull().sum()"
   ]
  },
  {
   "cell_type": "code",
   "execution_count": 365,
   "id": "7639370f",
   "metadata": {},
   "outputs": [
    {
     "data": {
      "text/plain": [
       "7087"
      ]
     },
     "execution_count": 365,
     "metadata": {},
     "output_type": "execute_result"
    }
   ],
   "source": [
    "len(df[df['Prix'] == 'PRIX NON SPÉCIFIÉ'])"
   ]
  },
  {
   "cell_type": "markdown",
   "id": "82b75fc5",
   "metadata": {},
   "source": [
    "#### Drop all rows with Prix == PRIX NON SPÉCIFIÉ"
   ]
  },
  {
   "cell_type": "code",
   "execution_count": 366,
   "id": "61db4161",
   "metadata": {},
   "outputs": [
    {
     "data": {
      "text/plain": [
       "0"
      ]
     },
     "execution_count": 366,
     "metadata": {},
     "output_type": "execute_result"
    }
   ],
   "source": [
    "df = df[df['Prix'] != 'PRIX NON SPÉCIFIÉ']\n",
    "len(df[df['Prix'] == 'PRIX NON SPÉCIFIÉ'])"
   ]
  },
  {
   "cell_type": "markdown",
   "id": "3c4b088e",
   "metadata": {},
   "source": [
    "#### Convert Prix to int"
   ]
  },
  {
   "cell_type": "code",
   "execution_count": 367,
   "id": "3ef44cb5",
   "metadata": {},
   "outputs": [
    {
     "name": "stderr",
     "output_type": "stream",
     "text": [
      "C:\\Users\\wailb\\AppData\\Local\\Temp\\ipykernel_18684\\853350707.py:1: SettingWithCopyWarning: \n",
      "A value is trying to be set on a copy of a slice from a DataFrame.\n",
      "Try using .loc[row_indexer,col_indexer] = value instead\n",
      "\n",
      "See the caveats in the documentation: https://pandas.pydata.org/pandas-docs/stable/user_guide/indexing.html#returning-a-view-versus-a-copy\n",
      "  df['Prix'] = df['Prix'].str.replace(' DH', '').str.replace(' ', '').str.replace(' ', '').astype(int)\n"
     ]
    }
   ],
   "source": [
    "df['Prix'] = df['Prix'].str.replace(' DH', '').str.replace(' ', '').str.replace(' ', '').astype(int)"
   ]
  },
  {
   "cell_type": "code",
   "execution_count": null,
   "id": "8b38960e",
   "metadata": {},
   "outputs": [],
   "source": []
  },
  {
   "cell_type": "markdown",
   "id": "476e742e",
   "metadata": {},
   "source": [
    "## 2 - Ville"
   ]
  },
  {
   "cell_type": "code",
   "execution_count": 368,
   "id": "2bdc64e3",
   "metadata": {},
   "outputs": [
    {
     "data": {
      "text/plain": [
       "2"
      ]
     },
     "execution_count": 368,
     "metadata": {},
     "output_type": "execute_result"
    }
   ],
   "source": [
    "df['Ville'].isnull().sum()"
   ]
  },
  {
   "cell_type": "code",
   "execution_count": 369,
   "id": "98fc2e7d",
   "metadata": {},
   "outputs": [
    {
     "name": "stderr",
     "output_type": "stream",
     "text": [
      "C:\\Users\\wailb\\AppData\\Local\\Temp\\ipykernel_18684\\713842225.py:1: SettingWithCopyWarning: \n",
      "A value is trying to be set on a copy of a slice from a DataFrame.\n",
      "Try using .loc[row_indexer,col_indexer] = value instead\n",
      "\n",
      "See the caveats in the documentation: https://pandas.pydata.org/pandas-docs/stable/user_guide/indexing.html#returning-a-view-versus-a-copy\n",
      "  df['Ville'] = df['Ville'].astype(str)\n"
     ]
    }
   ],
   "source": [
    "df['Ville'] = df['Ville'].astype(str)"
   ]
  },
  {
   "cell_type": "code",
   "execution_count": 370,
   "id": "9b2d74a4",
   "metadata": {},
   "outputs": [
    {
     "data": {
      "text/plain": [
       "array(['El Jadida', 'Casablanca', 'El Mansouria', 'Deroua', 'Marrakech',\n",
       "       'Rabat', 'Oujda', 'Bouskoura', 'Tanger', 'Temara', 'Agadir',\n",
       "       'Mohammedia', 'Sidi Rahal', 'Tamesna', 'Sidi Kacem', 'Salé',\n",
       "       'Berrechid', 'Fès', 'Béni Mellal', 'Kénitra', 'Mehdia',\n",
       "       'Khouribga', 'Nador', 'Meknès', 'Martil', 'Fnideq', 'Tétouan',\n",
       "       'Bouznika', 'Cabo Negro', 'Skhirat', 'Larache', 'Dar Bouazza',\n",
       "       'Saidia', 'Errachidia', 'Safi', 'Ain Harrouda', 'Benslimane',\n",
       "       'Sidi Bouknadel', 'Settat', 'Ain Attig', 'Tamaris', 'Khemisset',\n",
       "       'Drargua', 'Agadir Melloul', 'Tifelt', 'Tit Mellil', 'Errahma',\n",
       "       'Mdiq', 'Ras el Ma', 'Essaouira', 'Ain Aouda', 'Oualidia',\n",
       "       'Tamensourt', 'Ait Melloul', 'Midelt', 'Oued Laou', 'Had Soualem',\n",
       "       'Sefrou', 'Taza', 'Taroudant', 'Azemmour', 'Asilah', 'Ouled Teïma',\n",
       "       'Selouane', 'Mediouna', 'Ifrane', 'Al Hoceïma', 'Sidi Bouzid',\n",
       "       'Lqliaa', 'Sidi Slimane', 'Dcheïra El Jihadia', 'El Hajeb',\n",
       "       'Laâyoune', 'Bir Jdid', 'Nouaceur', 'Azrou', 'Oued Zem',\n",
       "       'Ben Guerir', 'Taourirt', 'Fquih Ben Saleh',\n",
       "       'Sidi Abdallah El Bouchouari', 'Mirleft', 'Dakhla',\n",
       "       'Mechra Bel Ksiri', 'El Kelâa des Sraghna', 'Oulad Salah',\n",
       "       'Tiznit', 'Lamharza Essahel', 'Chellalate', 'Ksar el-Kebir',\n",
       "       'Imouzzer-Kendar', 'Biougra', 'Sidi Allal El Bahraoui',\n",
       "       'Chefchaouen', 'Taghazout', 'Berkane', 'El Gara', 'Ouarzazate',\n",
       "       'Imouzzer', 'Béni Yakhlef', 'Sidi Bennour', 'Dcheira', 'Aourir',\n",
       "       'Moulay Bousselham', 'Gzenaya Al Janoubia', 'Ifrane Atlas Saghir',\n",
       "       'Zemamra', 'Inzegan', 'Guelmim', 'Lahraouyine', 'Gueznaia',\n",
       "       'Sidi Bibi', 'Sidi Yahya Zaer', 'Taounate', 'Mers El Kheir',\n",
       "       'Boufkrane', 'Ain Cheggag', 'Aghbalou', 'Ait Ourir',\n",
       "       'Ksar es-Seghir', 'Imzouren', 'Sidi Boukhalkhal', 'Zaïo',\n",
       "       'Jamaat Shaim', 'Oulmes', 'Jorf El Melha', 'Mansoura',\n",
       "       'Tahannaout', 'Sidi Hajjaj', 'Ouazzane', 'Souk El Arbaa', 'Daoura',\n",
       "       \"Oulad Said L'oued\", 'Machraa El Ain', 'Ain Karma', 'Belfaa',\n",
       "       'Al Aaroui', 'nan', \"Mrir't\", 'Ouislane', 'Khénifra', 'Guercif',\n",
       "       'Ourika', 'Sidi Hajjaj Oued Hassar', 'El Menzeh', 'Ain Taoujdate',\n",
       "       'Meknassa Al Gharbia', 'Targuist', 'Tizgane', 'Sidi Taibi',\n",
       "       'Ahfir', 'Sabaa Aiyoun', 'Tamallalt', 'Souk Sebt Ouled Nemma',\n",
       "       'Aquouass Briech', 'Skhinate', 'Laattaouia', 'Ouaouzgane',\n",
       "       'Meknassa Acharqia', 'Bhalil', 'Zeghanghane', 'Afourar', 'Azla',\n",
       "       'Tahla', 'Azilal', 'Demnate', 'Moulay Abdallah', 'Lamaachate',\n",
       "       'Haouzia', 'Laaounate', 'Tangarfa', 'Bouanane', 'Sidi Bettache',\n",
       "       'Ain Tizgha', 'Bir Tam Tam', 'Temsia', 'Bejaad', 'Echemmaia',\n",
       "       'Sebt Gzoula', 'Goulmima', 'Chichaoua', 'Talsint', 'Boujniba',\n",
       "       'Sidi Moussa Ben Ali', 'Massa', 'Aarab Sebbah Gheris', 'Touissit',\n",
       "       'Messassa', 'Missour', 'Boukhalef', 'Tikiouine', 'Tan-Tan',\n",
       "       'Oulad Abbou', 'Tata', 'Méchouar Fès Jdid'], dtype=object)"
      ]
     },
     "execution_count": 370,
     "metadata": {},
     "output_type": "execute_result"
    }
   ],
   "source": [
    "df['Ville'].unique()"
   ]
  },
  {
   "cell_type": "code",
   "execution_count": 371,
   "id": "224f8995",
   "metadata": {},
   "outputs": [
    {
     "data": {
      "text/plain": [
       "Casablanca           5908\n",
       "Marrakech            1706\n",
       "Tanger               1557\n",
       "Fès                  1244\n",
       "Kénitra              1183\n",
       "                     ... \n",
       "Bhalil                  1\n",
       "Zeghanghane             1\n",
       "Afourar                 1\n",
       "Azla                    1\n",
       "Méchouar Fès Jdid       1\n",
       "Name: Ville, Length: 195, dtype: int64"
      ]
     },
     "execution_count": 371,
     "metadata": {},
     "output_type": "execute_result"
    }
   ],
   "source": [
    "df['Ville'].value_counts()"
   ]
  },
  {
   "cell_type": "code",
   "execution_count": 372,
   "id": "1542290f",
   "metadata": {
    "scrolled": true
   },
   "outputs": [
    {
     "data": {
      "text/plain": [
       "0           El Jadida\n",
       "1           El Jadida\n",
       "2           El Jadida\n",
       "3          Casablanca\n",
       "4        El Mansouria\n",
       "             ...     \n",
       "33316         Larache\n",
       "33317          Agadir\n",
       "33318      Casablanca\n",
       "33319          Agadir\n",
       "33320             Fès\n",
       "Name: Ville, Length: 24408, dtype: object"
      ]
     },
     "execution_count": 372,
     "metadata": {},
     "output_type": "execute_result"
    }
   ],
   "source": [
    "df['Ville'].fillna(df['Ville'].mode()[0])"
   ]
  },
  {
   "cell_type": "markdown",
   "id": "f8c860c2",
   "metadata": {},
   "source": [
    "## 3 - Secteur"
   ]
  },
  {
   "cell_type": "code",
   "execution_count": 373,
   "id": "bd76780e",
   "metadata": {},
   "outputs": [
    {
     "data": {
      "text/plain": [
       "259"
      ]
     },
     "execution_count": 373,
     "metadata": {},
     "output_type": "execute_result"
    }
   ],
   "source": [
    "df['Secteur'].isnull().sum()"
   ]
  },
  {
   "cell_type": "code",
   "execution_count": 374,
   "id": "7330a3aa",
   "metadata": {},
   "outputs": [
    {
     "data": {
      "text/plain": [
       "4852"
      ]
     },
     "execution_count": 374,
     "metadata": {},
     "output_type": "execute_result"
    }
   ],
   "source": [
    "len(df[df['Secteur'] == 'Toute la ville'])"
   ]
  },
  {
   "cell_type": "code",
   "execution_count": 375,
   "id": "eb09b237",
   "metadata": {},
   "outputs": [],
   "source": [
    "df.loc[df['Secteur'] == 'Toute la ville', 'Secteur'] = df['Ville']"
   ]
  },
  {
   "cell_type": "code",
   "execution_count": 376,
   "id": "a4b47195",
   "metadata": {},
   "outputs": [],
   "source": [
    "df.loc[df['Secteur'] == 'Autre secteur', 'Secteur'] = df['Ville']"
   ]
  },
  {
   "cell_type": "code",
   "execution_count": 377,
   "id": "42d1101b",
   "metadata": {
    "scrolled": true
   },
   "outputs": [
    {
     "name": "stderr",
     "output_type": "stream",
     "text": [
      "C:\\Users\\wailb\\AppData\\Local\\Temp\\ipykernel_18684\\1000700378.py:1: SettingWithCopyWarning: \n",
      "A value is trying to be set on a copy of a slice from a DataFrame\n",
      "\n",
      "See the caveats in the documentation: https://pandas.pydata.org/pandas-docs/stable/user_guide/indexing.html#returning-a-view-versus-a-copy\n",
      "  df['Secteur'].fillna(df['Ville'], inplace=True)\n"
     ]
    }
   ],
   "source": [
    "df['Secteur'].fillna(df['Ville'], inplace=True)"
   ]
  },
  {
   "cell_type": "markdown",
   "id": "aa2149ca",
   "metadata": {},
   "source": [
    "## 4 - Etage"
   ]
  },
  {
   "cell_type": "code",
   "execution_count": 378,
   "id": "1e6d48c8",
   "metadata": {},
   "outputs": [],
   "source": [
    "df.loc[df['Etage'] == 'Rez de chaussée','Etage'] = 0"
   ]
  },
  {
   "cell_type": "code",
   "execution_count": 379,
   "id": "d65e95b3",
   "metadata": {},
   "outputs": [
    {
     "name": "stderr",
     "output_type": "stream",
     "text": [
      "C:\\Users\\wailb\\AppData\\Local\\Temp\\ipykernel_18684\\2401513928.py:1: FutureWarning: The default value of regex will change from True to False in a future version. In addition, single character regular expressions will *not* be treated as literal strings when regex=True.\n",
      "  df['Etage'] = df['Etage'].str.replace('+', '')\n",
      "C:\\Users\\wailb\\AppData\\Local\\Temp\\ipykernel_18684\\2401513928.py:1: SettingWithCopyWarning: \n",
      "A value is trying to be set on a copy of a slice from a DataFrame.\n",
      "Try using .loc[row_indexer,col_indexer] = value instead\n",
      "\n",
      "See the caveats in the documentation: https://pandas.pydata.org/pandas-docs/stable/user_guide/indexing.html#returning-a-view-versus-a-copy\n",
      "  df['Etage'] = df['Etage'].str.replace('+', '')\n"
     ]
    }
   ],
   "source": [
    "df['Etage'] = df['Etage'].str.replace('+', '')"
   ]
  },
  {
   "cell_type": "code",
   "execution_count": 380,
   "id": "a5a7c255",
   "metadata": {},
   "outputs": [
    {
     "name": "stderr",
     "output_type": "stream",
     "text": [
      "C:\\Users\\wailb\\AppData\\Local\\Temp\\ipykernel_18684\\3702589724.py:1: SettingWithCopyWarning: \n",
      "A value is trying to be set on a copy of a slice from a DataFrame.\n",
      "Try using .loc[row_indexer,col_indexer] = value instead\n",
      "\n",
      "See the caveats in the documentation: https://pandas.pydata.org/pandas-docs/stable/user_guide/indexing.html#returning-a-view-versus-a-copy\n",
      "  df['Etage'] = df['Etage'].fillna(df['Etage'].mode()[0]).astype(int)\n"
     ]
    }
   ],
   "source": [
    "df['Etage'] = df['Etage'].fillna(df['Etage'].mode()[0]).astype(int)"
   ]
  },
  {
   "cell_type": "code",
   "execution_count": 381,
   "id": "88d3eb21",
   "metadata": {},
   "outputs": [
    {
     "name": "stderr",
     "output_type": "stream",
     "text": [
      "C:\\Users\\wailb\\AppData\\Local\\Temp\\ipykernel_18684\\1342378279.py:1: SettingWithCopyWarning: \n",
      "A value is trying to be set on a copy of a slice from a DataFrame.\n",
      "Try using .loc[row_indexer,col_indexer] = value instead\n",
      "\n",
      "See the caveats in the documentation: https://pandas.pydata.org/pandas-docs/stable/user_guide/indexing.html#returning-a-view-versus-a-copy\n",
      "  df['Etage'] = df['Etage'].astype(int)\n"
     ]
    }
   ],
   "source": [
    "df['Etage'] = df['Etage'].astype(int)"
   ]
  },
  {
   "cell_type": "markdown",
   "id": "94957cc1",
   "metadata": {},
   "source": [
    "## 5 -  Surface habitable"
   ]
  },
  {
   "cell_type": "code",
   "execution_count": 384,
   "id": "df414777",
   "metadata": {},
   "outputs": [
    {
     "data": {
      "text/plain": [
       "320"
      ]
     },
     "execution_count": 384,
     "metadata": {},
     "output_type": "execute_result"
    }
   ],
   "source": [
    "df['Surface habitable'].isnull().sum()"
   ]
  },
  {
   "cell_type": "code",
   "execution_count": 390,
   "id": "e1717262",
   "metadata": {},
   "outputs": [
    {
     "name": "stderr",
     "output_type": "stream",
     "text": [
      "C:\\Users\\wailb\\AppData\\Local\\Temp\\ipykernel_18684\\1011409790.py:2: SettingWithCopyWarning: \n",
      "A value is trying to be set on a copy of a slice from a DataFrame.\n",
      "Try using .loc[row_indexer,col_indexer] = value instead\n",
      "\n",
      "See the caveats in the documentation: https://pandas.pydata.org/pandas-docs/stable/user_guide/indexing.html#returning-a-view-versus-a-copy\n",
      "  df['Surface habitable'] = df['Surface habitable'].replace('--', np.nan).astype(float)\n"
     ]
    }
   ],
   "source": [
    "import numpy as np\n",
    "df['Surface habitable'] = df['Surface habitable'].replace('--', np.nan).astype(float)"
   ]
  },
  {
   "cell_type": "code",
   "execution_count": 391,
   "id": "f8f18d4b",
   "metadata": {},
   "outputs": [
    {
     "name": "stderr",
     "output_type": "stream",
     "text": [
      "C:\\Users\\wailb\\AppData\\Local\\Temp\\ipykernel_18684\\2382464987.py:1: SettingWithCopyWarning: \n",
      "A value is trying to be set on a copy of a slice from a DataFrame.\n",
      "Try using .loc[row_indexer,col_indexer] = value instead\n",
      "\n",
      "See the caveats in the documentation: https://pandas.pydata.org/pandas-docs/stable/user_guide/indexing.html#returning-a-view-versus-a-copy\n",
      "  df['Surface habitable'] = df['Surface habitable'].astype(float)\n"
     ]
    }
   ],
   "source": [
    "df['Surface habitable'] = df['Surface habitable'].astype(float)"
   ]
  },
  {
   "cell_type": "code",
   "execution_count": 416,
   "id": "309f6c8c",
   "metadata": {},
   "outputs": [
    {
     "name": "stderr",
     "output_type": "stream",
     "text": [
      "C:\\Users\\wailb\\AppData\\Local\\Temp\\ipykernel_18684\\2738617472.py:1: SettingWithCopyWarning: \n",
      "A value is trying to be set on a copy of a slice from a DataFrame.\n",
      "Try using .loc[row_indexer,col_indexer] = value instead\n",
      "\n",
      "See the caveats in the documentation: https://pandas.pydata.org/pandas-docs/stable/user_guide/indexing.html#returning-a-view-versus-a-copy\n",
      "  df['Surface habitable'] = df['Surface habitable'].fillna(df['Surface habitable'].mean())\n"
     ]
    }
   ],
   "source": [
    "df['Surface habitable'] = df['Surface habitable'].fillna(df['Surface habitable'].mean())"
   ]
  },
  {
   "cell_type": "code",
   "execution_count": null,
   "id": "aefd239e",
   "metadata": {},
   "outputs": [],
   "source": []
  },
  {
   "cell_type": "markdown",
   "id": "33cafac9",
   "metadata": {},
   "source": [
    "## 6 - NB Salons"
   ]
  },
  {
   "cell_type": "code",
   "execution_count": 394,
   "id": "8c6eeaf5",
   "metadata": {},
   "outputs": [
    {
     "data": {
      "text/plain": [
       "779"
      ]
     },
     "execution_count": 394,
     "metadata": {},
     "output_type": "execute_result"
    }
   ],
   "source": [
    "df['NB Salons'].isnull().sum()"
   ]
  },
  {
   "cell_type": "code",
   "execution_count": 398,
   "id": "66b8ee6d",
   "metadata": {},
   "outputs": [
    {
     "name": "stderr",
     "output_type": "stream",
     "text": [
      "C:\\Users\\wailb\\AppData\\Local\\Temp\\ipykernel_18684\\4115228340.py:1: FutureWarning: The default value of regex will change from True to False in a future version. In addition, single character regular expressions will *not* be treated as literal strings when regex=True.\n",
      "  df['NB Salons'] = df['NB Salons'].str.replace('+', '')\n",
      "C:\\Users\\wailb\\AppData\\Local\\Temp\\ipykernel_18684\\4115228340.py:1: SettingWithCopyWarning: \n",
      "A value is trying to be set on a copy of a slice from a DataFrame.\n",
      "Try using .loc[row_indexer,col_indexer] = value instead\n",
      "\n",
      "See the caveats in the documentation: https://pandas.pydata.org/pandas-docs/stable/user_guide/indexing.html#returning-a-view-versus-a-copy\n",
      "  df['NB Salons'] = df['NB Salons'].str.replace('+', '')\n"
     ]
    }
   ],
   "source": [
    "df['NB Salons'] = df['NB Salons'].str.replace('+', '')"
   ]
  },
  {
   "cell_type": "code",
   "execution_count": 418,
   "id": "e3931012",
   "metadata": {},
   "outputs": [
    {
     "name": "stderr",
     "output_type": "stream",
     "text": [
      "C:\\Users\\wailb\\AppData\\Local\\Temp\\ipykernel_18684\\1710274287.py:1: SettingWithCopyWarning: \n",
      "A value is trying to be set on a copy of a slice from a DataFrame.\n",
      "Try using .loc[row_indexer,col_indexer] = value instead\n",
      "\n",
      "See the caveats in the documentation: https://pandas.pydata.org/pandas-docs/stable/user_guide/indexing.html#returning-a-view-versus-a-copy\n",
      "  df['NB Salons'] = df['NB Salons'].fillna(df['NB Salons'].mode()[0]).astype(int)\n"
     ]
    }
   ],
   "source": [
    "df['NB Salons'] = df['NB Salons'].fillna(df['NB Salons'].mode()[0]).astype(int)"
   ]
  },
  {
   "cell_type": "code",
   "execution_count": 420,
   "id": "39a6aa62",
   "metadata": {},
   "outputs": [
    {
     "name": "stderr",
     "output_type": "stream",
     "text": [
      "C:\\Users\\wailb\\AppData\\Local\\Temp\\ipykernel_18684\\2203718406.py:1: SettingWithCopyWarning: \n",
      "A value is trying to be set on a copy of a slice from a DataFrame.\n",
      "Try using .loc[row_indexer,col_indexer] = value instead\n",
      "\n",
      "See the caveats in the documentation: https://pandas.pydata.org/pandas-docs/stable/user_guide/indexing.html#returning-a-view-versus-a-copy\n",
      "  df['NB Salons'] = df['NB Salons'].astype(int)\n"
     ]
    }
   ],
   "source": [
    "df['NB Salons'] = df['NB Salons'].astype(int)"
   ]
  },
  {
   "cell_type": "code",
   "execution_count": null,
   "id": "da1c1495",
   "metadata": {},
   "outputs": [],
   "source": []
  },
  {
   "cell_type": "markdown",
   "id": "af6319b5",
   "metadata": {},
   "source": [
    "## 7 - NB Chambres"
   ]
  },
  {
   "cell_type": "code",
   "execution_count": 429,
   "id": "3a4b3acd",
   "metadata": {},
   "outputs": [
    {
     "data": {
      "text/plain": [
       "196"
      ]
     },
     "execution_count": 429,
     "metadata": {},
     "output_type": "execute_result"
    }
   ],
   "source": [
    "df['NB Chambres'].isnull().sum()"
   ]
  },
  {
   "cell_type": "code",
   "execution_count": 434,
   "id": "912f53e0",
   "metadata": {},
   "outputs": [
    {
     "name": "stderr",
     "output_type": "stream",
     "text": [
      "C:\\Users\\wailb\\AppData\\Local\\Temp\\ipykernel_18684\\585149556.py:1: FutureWarning: The default value of regex will change from True to False in a future version. In addition, single character regular expressions will *not* be treated as literal strings when regex=True.\n",
      "  df['NB Chambres'] = df['NB Chambres'].str.replace('+', '')\n",
      "C:\\Users\\wailb\\AppData\\Local\\Temp\\ipykernel_18684\\585149556.py:1: SettingWithCopyWarning: \n",
      "A value is trying to be set on a copy of a slice from a DataFrame.\n",
      "Try using .loc[row_indexer,col_indexer] = value instead\n",
      "\n",
      "See the caveats in the documentation: https://pandas.pydata.org/pandas-docs/stable/user_guide/indexing.html#returning-a-view-versus-a-copy\n",
      "  df['NB Chambres'] = df['NB Chambres'].str.replace('+', '')\n"
     ]
    }
   ],
   "source": [
    "df['NB Chambres'] = df['NB Chambres'].str.replace('+', '')"
   ]
  },
  {
   "cell_type": "code",
   "execution_count": 435,
   "id": "ba2df0d2",
   "metadata": {},
   "outputs": [
    {
     "name": "stderr",
     "output_type": "stream",
     "text": [
      "C:\\Users\\wailb\\AppData\\Local\\Temp\\ipykernel_18684\\4049559583.py:1: SettingWithCopyWarning: \n",
      "A value is trying to be set on a copy of a slice from a DataFrame.\n",
      "Try using .loc[row_indexer,col_indexer] = value instead\n",
      "\n",
      "See the caveats in the documentation: https://pandas.pydata.org/pandas-docs/stable/user_guide/indexing.html#returning-a-view-versus-a-copy\n",
      "  df['NB Chambres'] = df['NB Chambres'].astype(float)\n"
     ]
    }
   ],
   "source": [
    "df['NB Chambres'] = df['NB Chambres'].astype(float)"
   ]
  },
  {
   "cell_type": "code",
   "execution_count": 436,
   "id": "e5946d26",
   "metadata": {},
   "outputs": [
    {
     "name": "stderr",
     "output_type": "stream",
     "text": [
      "C:\\Users\\wailb\\AppData\\Local\\Temp\\ipykernel_18684\\2854624618.py:1: SettingWithCopyWarning: \n",
      "A value is trying to be set on a copy of a slice from a DataFrame.\n",
      "Try using .loc[row_indexer,col_indexer] = value instead\n",
      "\n",
      "See the caveats in the documentation: https://pandas.pydata.org/pandas-docs/stable/user_guide/indexing.html#returning-a-view-versus-a-copy\n",
      "  df['NB Chambres'] = df['NB Chambres'].fillna(df['NB Chambres'].mean()).astype(float)\n"
     ]
    }
   ],
   "source": [
    "df['NB Chambres'] = df['NB Chambres'].fillna(df['NB Chambres'].mean()).astype(float)"
   ]
  },
  {
   "cell_type": "code",
   "execution_count": 453,
   "id": "b4920d55",
   "metadata": {},
   "outputs": [
    {
     "data": {
      "text/plain": [
       "array([ 6.        ,  2.        ,  3.        ,  1.        ,  4.        ,\n",
       "        5.        ,  8.        , 10.        ,  2.39100446,  7.        ,\n",
       "        9.        ])"
      ]
     },
     "execution_count": 453,
     "metadata": {},
     "output_type": "execute_result"
    }
   ],
   "source": []
  },
  {
   "cell_type": "markdown",
   "id": "503934ec",
   "metadata": {},
   "source": [
    "## 8 - NB Salles de Bain"
   ]
  },
  {
   "cell_type": "code",
   "execution_count": 446,
   "id": "a074fe42",
   "metadata": {},
   "outputs": [
    {
     "data": {
      "text/plain": [
       "756"
      ]
     },
     "execution_count": 446,
     "metadata": {},
     "output_type": "execute_result"
    }
   ],
   "source": [
    "df['NB Salles de Bain'].isnull().sum()"
   ]
  },
  {
   "cell_type": "code",
   "execution_count": 439,
   "id": "7d7af94d",
   "metadata": {},
   "outputs": [
    {
     "name": "stderr",
     "output_type": "stream",
     "text": [
      "C:\\Users\\wailb\\AppData\\Local\\Temp\\ipykernel_18684\\3556442004.py:1: FutureWarning: The default value of regex will change from True to False in a future version. In addition, single character regular expressions will *not* be treated as literal strings when regex=True.\n",
      "  df['NB Salles de Bain'] = df['NB Salles de Bain'].str.replace('+', '')\n",
      "C:\\Users\\wailb\\AppData\\Local\\Temp\\ipykernel_18684\\3556442004.py:1: SettingWithCopyWarning: \n",
      "A value is trying to be set on a copy of a slice from a DataFrame.\n",
      "Try using .loc[row_indexer,col_indexer] = value instead\n",
      "\n",
      "See the caveats in the documentation: https://pandas.pydata.org/pandas-docs/stable/user_guide/indexing.html#returning-a-view-versus-a-copy\n",
      "  df['NB Salles de Bain'] = df['NB Salles de Bain'].str.replace('+', '')\n"
     ]
    }
   ],
   "source": [
    "df['NB Salles de Bain'] = df['NB Salles de Bain'].str.replace('+', '')"
   ]
  },
  {
   "cell_type": "code",
   "execution_count": 454,
   "id": "2af5e22a",
   "metadata": {},
   "outputs": [
    {
     "name": "stderr",
     "output_type": "stream",
     "text": [
      "C:\\Users\\wailb\\AppData\\Local\\Temp\\ipykernel_18684\\4232127477.py:1: SettingWithCopyWarning: \n",
      "A value is trying to be set on a copy of a slice from a DataFrame.\n",
      "Try using .loc[row_indexer,col_indexer] = value instead\n",
      "\n",
      "See the caveats in the documentation: https://pandas.pydata.org/pandas-docs/stable/user_guide/indexing.html#returning-a-view-versus-a-copy\n",
      "  df['NB Salles de Bain'] = df['NB Salles de Bain'].fillna(df['NB Salles de Bain'].mode()[0]).astype(int)\n"
     ]
    }
   ],
   "source": [
    "df['NB Salles de Bain'] = df['NB Salles de Bain'].fillna(df['NB Salles de Bain'].mode()[0]).astype(int)"
   ]
  },
  {
   "cell_type": "code",
   "execution_count": 455,
   "id": "c7397d0c",
   "metadata": {},
   "outputs": [
    {
     "name": "stderr",
     "output_type": "stream",
     "text": [
      "C:\\Users\\wailb\\AppData\\Local\\Temp\\ipykernel_18684\\3055838461.py:1: SettingWithCopyWarning: \n",
      "A value is trying to be set on a copy of a slice from a DataFrame.\n",
      "Try using .loc[row_indexer,col_indexer] = value instead\n",
      "\n",
      "See the caveats in the documentation: https://pandas.pydata.org/pandas-docs/stable/user_guide/indexing.html#returning-a-view-versus-a-copy\n",
      "  df['NB Salles de Bain'] = df['NB Salles de Bain'].astype(int)\n"
     ]
    }
   ],
   "source": [
    "df['NB Salles de Bain'] = df['NB Salles de Bain'].astype(int)"
   ]
  },
  {
   "cell_type": "code",
   "execution_count": 507,
   "id": "2dabe936",
   "metadata": {},
   "outputs": [
    {
     "data": {
      "text/html": [
       "<div>\n",
       "<style scoped>\n",
       "    .dataframe tbody tr th:only-of-type {\n",
       "        vertical-align: middle;\n",
       "    }\n",
       "\n",
       "    .dataframe tbody tr th {\n",
       "        vertical-align: top;\n",
       "    }\n",
       "\n",
       "    .dataframe thead th {\n",
       "        text-align: right;\n",
       "    }\n",
       "</style>\n",
       "<table border=\"1\" class=\"dataframe\">\n",
       "  <thead>\n",
       "    <tr style=\"text-align: right;\">\n",
       "      <th></th>\n",
       "      <th>Prix</th>\n",
       "      <th>Ville</th>\n",
       "      <th>Secteur</th>\n",
       "      <th>Etage</th>\n",
       "      <th>Surface habitable</th>\n",
       "      <th>NB Salons</th>\n",
       "      <th>NB Chambres</th>\n",
       "      <th>NB Salles de Bain</th>\n",
       "    </tr>\n",
       "  </thead>\n",
       "  <tbody>\n",
       "    <tr>\n",
       "      <th>0</th>\n",
       "      <td>1160000</td>\n",
       "      <td>El Jadida</td>\n",
       "      <td>Narjiss</td>\n",
       "      <td>1</td>\n",
       "      <td>229.000000</td>\n",
       "      <td>3</td>\n",
       "      <td>6.0</td>\n",
       "      <td>2</td>\n",
       "    </tr>\n",
       "    <tr>\n",
       "      <th>1</th>\n",
       "      <td>360000</td>\n",
       "      <td>El Jadida</td>\n",
       "      <td>El Jadida</td>\n",
       "      <td>2</td>\n",
       "      <td>62.000000</td>\n",
       "      <td>1</td>\n",
       "      <td>2.0</td>\n",
       "      <td>1</td>\n",
       "    </tr>\n",
       "    <tr>\n",
       "      <th>2</th>\n",
       "      <td>750000</td>\n",
       "      <td>El Jadida</td>\n",
       "      <td>Hay Essalam</td>\n",
       "      <td>2</td>\n",
       "      <td>92.000000</td>\n",
       "      <td>1</td>\n",
       "      <td>3.0</td>\n",
       "      <td>1</td>\n",
       "    </tr>\n",
       "    <tr>\n",
       "      <th>3</th>\n",
       "      <td>2100000</td>\n",
       "      <td>Casablanca</td>\n",
       "      <td>Bourgogne</td>\n",
       "      <td>2</td>\n",
       "      <td>136.000000</td>\n",
       "      <td>1</td>\n",
       "      <td>2.0</td>\n",
       "      <td>2</td>\n",
       "    </tr>\n",
       "    <tr>\n",
       "      <th>4</th>\n",
       "      <td>7400000</td>\n",
       "      <td>El Mansouria</td>\n",
       "      <td>El Mansouria</td>\n",
       "      <td>2</td>\n",
       "      <td>60.000000</td>\n",
       "      <td>1</td>\n",
       "      <td>1.0</td>\n",
       "      <td>1</td>\n",
       "    </tr>\n",
       "    <tr>\n",
       "      <th>...</th>\n",
       "      <td>...</td>\n",
       "      <td>...</td>\n",
       "      <td>...</td>\n",
       "      <td>...</td>\n",
       "      <td>...</td>\n",
       "      <td>...</td>\n",
       "      <td>...</td>\n",
       "      <td>...</td>\n",
       "    </tr>\n",
       "    <tr>\n",
       "      <th>33316</th>\n",
       "      <td>360000</td>\n",
       "      <td>Larache</td>\n",
       "      <td>Larache</td>\n",
       "      <td>1</td>\n",
       "      <td>75.000000</td>\n",
       "      <td>1</td>\n",
       "      <td>2.0</td>\n",
       "      <td>1</td>\n",
       "    </tr>\n",
       "    <tr>\n",
       "      <th>33317</th>\n",
       "      <td>350000</td>\n",
       "      <td>Agadir</td>\n",
       "      <td>Hay Al Farah</td>\n",
       "      <td>1</td>\n",
       "      <td>58.000000</td>\n",
       "      <td>1</td>\n",
       "      <td>2.0</td>\n",
       "      <td>1</td>\n",
       "    </tr>\n",
       "    <tr>\n",
       "      <th>33318</th>\n",
       "      <td>180000</td>\n",
       "      <td>Casablanca</td>\n",
       "      <td>Ben M'sick</td>\n",
       "      <td>4</td>\n",
       "      <td>352.549861</td>\n",
       "      <td>1</td>\n",
       "      <td>1.0</td>\n",
       "      <td>1</td>\n",
       "    </tr>\n",
       "    <tr>\n",
       "      <th>33319</th>\n",
       "      <td>125000</td>\n",
       "      <td>Agadir</td>\n",
       "      <td>Hay Salam</td>\n",
       "      <td>1</td>\n",
       "      <td>122.000000</td>\n",
       "      <td>1</td>\n",
       "      <td>3.0</td>\n",
       "      <td>2</td>\n",
       "    </tr>\n",
       "    <tr>\n",
       "      <th>33320</th>\n",
       "      <td>159000</td>\n",
       "      <td>Fès</td>\n",
       "      <td>Sehb El Ward</td>\n",
       "      <td>4</td>\n",
       "      <td>71.000000</td>\n",
       "      <td>1</td>\n",
       "      <td>2.0</td>\n",
       "      <td>1</td>\n",
       "    </tr>\n",
       "  </tbody>\n",
       "</table>\n",
       "<p>24408 rows × 8 columns</p>\n",
       "</div>"
      ],
      "text/plain": [
       "          Prix         Ville       Secteur  Etage  Surface habitable  \\\n",
       "0      1160000     El Jadida       Narjiss      1         229.000000   \n",
       "1       360000     El Jadida     El Jadida      2          62.000000   \n",
       "2       750000     El Jadida   Hay Essalam      2          92.000000   \n",
       "3      2100000    Casablanca     Bourgogne      2         136.000000   \n",
       "4      7400000  El Mansouria  El Mansouria      2          60.000000   \n",
       "...        ...           ...           ...    ...                ...   \n",
       "33316   360000       Larache       Larache      1          75.000000   \n",
       "33317   350000        Agadir  Hay Al Farah      1          58.000000   \n",
       "33318   180000    Casablanca    Ben M'sick      4         352.549861   \n",
       "33319   125000        Agadir     Hay Salam      1         122.000000   \n",
       "33320   159000           Fès  Sehb El Ward      4          71.000000   \n",
       "\n",
       "       NB Salons  NB Chambres  NB Salles de Bain  \n",
       "0              3          6.0                  2  \n",
       "1              1          2.0                  1  \n",
       "2              1          3.0                  1  \n",
       "3              1          2.0                  2  \n",
       "4              1          1.0                  1  \n",
       "...          ...          ...                ...  \n",
       "33316          1          2.0                  1  \n",
       "33317          1          2.0                  1  \n",
       "33318          1          1.0                  1  \n",
       "33319          1          3.0                  2  \n",
       "33320          1          2.0                  1  \n",
       "\n",
       "[24408 rows x 8 columns]"
      ]
     },
     "execution_count": 507,
     "metadata": {},
     "output_type": "execute_result"
    }
   ],
   "source": [
    "df"
   ]
  },
  {
   "cell_type": "code",
   "execution_count": 510,
   "id": "762f267f",
   "metadata": {},
   "outputs": [
    {
     "data": {
      "text/plain": [
       "Prix                   int32\n",
       "Ville                 object\n",
       "Secteur               object\n",
       "Etage                  int32\n",
       "Surface habitable    float64\n",
       "NB Salons              int32\n",
       "NB Chambres          float64\n",
       "NB Salles de Bain      int32\n",
       "dtype: object"
      ]
     },
     "execution_count": 510,
     "metadata": {},
     "output_type": "execute_result"
    }
   ],
   "source": [
    "df.dtypes"
   ]
  },
  {
   "cell_type": "code",
   "execution_count": 511,
   "id": "41c66624",
   "metadata": {},
   "outputs": [
    {
     "data": {
      "text/plain": [
       "<Axes: >"
      ]
     },
     "execution_count": 511,
     "metadata": {},
     "output_type": "execute_result"
    },
    {
     "data": {
      "image/png": "[encoded data removed]",
      "text/plain": [
       "<Figure size 640x480 with 1 Axes>"
      ]
     },
     "metadata": {},
     "output_type": "display_data"
    }
   ],
   "source": [
    "import seaborn as sb\n",
    "\n",
    "sb.boxplot(data=df[['NB Chambres']])"
   ]
  },
  {
   "cell_type": "code",
   "execution_count": 512,
   "id": "e848f9d5",
   "metadata": {},
   "outputs": [
    {
     "data": {
      "text/plain": [
       "<Axes: xlabel='Surface habitable', ylabel='Prix'>"
      ]
     },
     "execution_count": 512,
     "metadata": {},
     "output_type": "execute_result"
    },
    {
     "data": {
      "image/png": "[encoded data removed]",
      "text/plain": [
       "<Figure size 640x480 with 1 Axes>"
      ]
     },
     "metadata": {},
     "output_type": "display_data"
    }
   ],
   "source": [
    "sb.scatterplot(data=df, y='Prix', x='Surface habitable')"
   ]
  },
  {
   "cell_type": "code",
   "execution_count": 513,
   "id": "d4eb6645",
   "metadata": {},
   "outputs": [
    {
     "data": {
      "image/png": "[encoded data removed]",
      "text/plain": [
       "<Figure size 640x480 with 1 Axes>"
      ]
     },
     "metadata": {},
     "output_type": "display_data"
    }
   ],
   "source": [
    "import matplotlib.pyplot as plt\n",
    "plt.figure()\n",
    "df['NB Salons'].hist(bins='auto', alpha=1)\n",
    "plt.show()"
   ]
  },
  {
   "cell_type": "code",
   "execution_count": null,
   "id": "b2439ca6",
   "metadata": {},
   "outputs": [],
   "source": []
  }
 ],
 "metadata": {
  "kernelspec": {
   "display_name": "Python 3 (ipykernel)",
   "language": "python",
   "name": "python3"
  },
  "language_info": {
   "codemirror_mode": {
    "name": "ipython",
    "version": 3
   },
   "file_extension": ".py",
   "mimetype": "text/x-python",
   "name": "python",
   "nbconvert_exporter": "python",
   "pygments_lexer": "ipython3",
   "version": "3.10.9"
  }
 },
 "nbformat": 4,
 "nbformat_minor": 5
}
